{
 "cells": [
  {
   "cell_type": "markdown",
   "id": "1cbac8bb-2f4d-4b8b-aaef-51aa4856222e",
   "metadata": {},
   "source": [
    "## Analisis de tendencia de Post y Tags"
   ]
  },
  {
   "cell_type": "code",
   "execution_count": 1,
   "id": "959267f5-1639-4870-b4e9-2fde268d8518",
   "metadata": {},
   "outputs": [],
   "source": [
    "#importa pandas para usarlo como pd\n",
    "import pandas as pd\n",
    "import matplotlib as mpl\n",
    "import matplotlib.pyplot as plt"
   ]
  },
  {
   "cell_type": "code",
   "execution_count": 2,
   "id": "5f38d8cf-7b95-4081-82bb-d3920160d87e",
   "metadata": {},
   "outputs": [],
   "source": [
    "#recupera el archivo PostA desde hadoop\n",
    "postQTags = pd.read_csv('PostQTagsId.csv')"
   ]
  },
  {
   "cell_type": "code",
   "execution_count": 3,
   "id": "c996bd2f-abc1-4267-bef8-f4f5b568da5d",
   "metadata": {},
   "outputs": [
    {
     "data": {
      "text/html": [
       "<div>\n",
       "<style scoped>\n",
       "    .dataframe tbody tr th:only-of-type {\n",
       "        vertical-align: middle;\n",
       "    }\n",
       "\n",
       "    .dataframe tbody tr th {\n",
       "        vertical-align: top;\n",
       "    }\n",
       "\n",
       "    .dataframe thead th {\n",
       "        text-align: right;\n",
       "    }\n",
       "</style>\n",
       "<table border=\"1\" class=\"dataframe\">\n",
       "  <thead>\n",
       "    <tr style=\"text-align: right;\">\n",
       "      <th></th>\n",
       "      <th>Unnamed: 0</th>\n",
       "      <th>Tags</th>\n",
       "      <th>Id</th>\n",
       "    </tr>\n",
       "  </thead>\n",
       "  <tbody>\n",
       "    <tr>\n",
       "      <th>0</th>\n",
       "      <td>0</td>\n",
       "      <td>.net</td>\n",
       "      <td>1</td>\n",
       "    </tr>\n",
       "    <tr>\n",
       "      <th>1</th>\n",
       "      <td>1</td>\n",
       "      <td>asp.net-web-api</td>\n",
       "      <td>1</td>\n",
       "    </tr>\n",
       "    <tr>\n",
       "      <th>2</th>\n",
       "      <td>2</td>\n",
       "      <td>asp.net</td>\n",
       "      <td>1</td>\n",
       "    </tr>\n",
       "    <tr>\n",
       "      <th>3</th>\n",
       "      <td>3</td>\n",
       "      <td>delphi</td>\n",
       "      <td>3</td>\n",
       "    </tr>\n",
       "    <tr>\n",
       "      <th>4</th>\n",
       "      <td>4</td>\n",
       "      <td>c++</td>\n",
       "      <td>5</td>\n",
       "    </tr>\n",
       "    <tr>\n",
       "      <th>...</th>\n",
       "      <td>...</td>\n",
       "      <td>...</td>\n",
       "      <td>...</td>\n",
       "    </tr>\n",
       "    <tr>\n",
       "      <th>364691</th>\n",
       "      <td>364691</td>\n",
       "      <td>email</td>\n",
       "      <td>431641</td>\n",
       "    </tr>\n",
       "    <tr>\n",
       "      <th>364692</th>\n",
       "      <td>364692</td>\n",
       "      <td>powershell</td>\n",
       "      <td>431641</td>\n",
       "    </tr>\n",
       "    <tr>\n",
       "      <th>364693</th>\n",
       "      <td>364693</td>\n",
       "      <td>codificación</td>\n",
       "      <td>431641</td>\n",
       "    </tr>\n",
       "    <tr>\n",
       "      <th>364694</th>\n",
       "      <td>364694</td>\n",
       "      <td>outlook</td>\n",
       "      <td>431641</td>\n",
       "    </tr>\n",
       "    <tr>\n",
       "      <th>364695</th>\n",
       "      <td>364695</td>\n",
       "      <td>sql-server</td>\n",
       "      <td>431642</td>\n",
       "    </tr>\n",
       "  </tbody>\n",
       "</table>\n",
       "<p>364696 rows × 3 columns</p>\n",
       "</div>"
      ],
      "text/plain": [
       "        Unnamed: 0             Tags      Id\n",
       "0                0             .net       1\n",
       "1                1  asp.net-web-api       1\n",
       "2                2          asp.net       1\n",
       "3                3           delphi       3\n",
       "4                4              c++       5\n",
       "...            ...              ...     ...\n",
       "364691      364691            email  431641\n",
       "364692      364692       powershell  431641\n",
       "364693      364693     codificación  431641\n",
       "364694      364694          outlook  431641\n",
       "364695      364695       sql-server  431642\n",
       "\n",
       "[364696 rows x 3 columns]"
      ]
     },
     "execution_count": 3,
     "metadata": {},
     "output_type": "execute_result"
    }
   ],
   "source": [
    "# muestra los resultados del DataFrame\n",
    "postQTags.head(364696)"
   ]
  },
  {
   "cell_type": "code",
   "execution_count": 4,
   "id": "1b3a43fc-4455-498e-9b5f-85ac714c2126",
   "metadata": {},
   "outputs": [
    {
     "data": {
      "text/plain": [
       "Unnamed: 0    364697\n",
       "Tags          364622\n",
       "Id            364697\n",
       "dtype: int64"
      ]
     },
     "execution_count": 4,
     "metadata": {},
     "output_type": "execute_result"
    }
   ],
   "source": [
    "postQTags.count()"
   ]
  },
  {
   "cell_type": "code",
   "execution_count": 5,
   "id": "610bd85b-16a5-499a-9b49-8db3f7c7bce0",
   "metadata": {},
   "outputs": [],
   "source": [
    "# Ordenar los Tags alfabeticamene y guardarlos\n",
    "pqtGB = postQTags.sort_values(by='Tags', ascending=True)\n",
    "pqtGB.to_csv(\"PostQTagsOrdenadoXTag.csv\")"
   ]
  },
  {
   "cell_type": "markdown",
   "id": "eff33d28-d13b-4149-b776-37ca82ff1076",
   "metadata": {},
   "source": [
    "## Quita los tags con NaN y les pone \"null\""
   ]
  },
  {
   "cell_type": "code",
   "execution_count": 6,
   "id": "83c76766-cd98-40e9-8b24-efb0beaaf0a2",
   "metadata": {},
   "outputs": [],
   "source": [
    "pqtGB.fillna('null', inplace=True)"
   ]
  },
  {
   "cell_type": "code",
   "execution_count": 7,
   "id": "ef2d34b8-387e-4144-a520-27be7949c69e",
   "metadata": {},
   "outputs": [
    {
     "data": {
      "text/plain": [
       "Unnamed: 0    75\n",
       "Tags          75\n",
       "Id            75\n",
       "dtype: int64"
      ]
     },
     "execution_count": 7,
     "metadata": {},
     "output_type": "execute_result"
    }
   ],
   "source": [
    "pqtGB[pqtGB.Tags == 'null'].count()"
   ]
  },
  {
   "cell_type": "code",
   "execution_count": 8,
   "id": "aab3f005-0558-491b-a753-a175af594a34",
   "metadata": {},
   "outputs": [
    {
     "data": {
      "text/html": [
       "<div>\n",
       "<style scoped>\n",
       "    .dataframe tbody tr th:only-of-type {\n",
       "        vertical-align: middle;\n",
       "    }\n",
       "\n",
       "    .dataframe tbody tr th {\n",
       "        vertical-align: top;\n",
       "    }\n",
       "\n",
       "    .dataframe thead th {\n",
       "        text-align: right;\n",
       "    }\n",
       "</style>\n",
       "<table border=\"1\" class=\"dataframe\">\n",
       "  <thead>\n",
       "    <tr style=\"text-align: right;\">\n",
       "      <th></th>\n",
       "      <th>Tags</th>\n",
       "      <th>Usos</th>\n",
       "    </tr>\n",
       "  </thead>\n",
       "  <tbody>\n",
       "    <tr>\n",
       "      <th>1752</th>\n",
       "      <td>php</td>\n",
       "      <td>24129</td>\n",
       "    </tr>\n",
       "    <tr>\n",
       "      <th>1204</th>\n",
       "      <td>javascript</td>\n",
       "      <td>23924</td>\n",
       "    </tr>\n",
       "    <tr>\n",
       "      <th>1183</th>\n",
       "      <td>java</td>\n",
       "      <td>17363</td>\n",
       "    </tr>\n",
       "    <tr>\n",
       "      <th>1056</th>\n",
       "      <td>html</td>\n",
       "      <td>12914</td>\n",
       "    </tr>\n",
       "    <tr>\n",
       "      <th>1543</th>\n",
       "      <td>mysql</td>\n",
       "      <td>11454</td>\n",
       "    </tr>\n",
       "    <tr>\n",
       "      <th>...</th>\n",
       "      <td>...</td>\n",
       "      <td>...</td>\n",
       "    </tr>\n",
       "    <tr>\n",
       "      <th>654</th>\n",
       "      <td>dplyr</td>\n",
       "      <td>1</td>\n",
       "    </tr>\n",
       "    <tr>\n",
       "      <th>653</th>\n",
       "      <td>doxygen</td>\n",
       "      <td>1</td>\n",
       "    </tr>\n",
       "    <tr>\n",
       "      <th>1771</th>\n",
       "      <td>pie</td>\n",
       "      <td>1</td>\n",
       "    </tr>\n",
       "    <tr>\n",
       "      <th>2442</th>\n",
       "      <td>ucfirst</td>\n",
       "      <td>1</td>\n",
       "    </tr>\n",
       "    <tr>\n",
       "      <th>1344</th>\n",
       "      <td>latino</td>\n",
       "      <td>1</td>\n",
       "    </tr>\n",
       "  </tbody>\n",
       "</table>\n",
       "<p>2689 rows × 2 columns</p>\n",
       "</div>"
      ],
      "text/plain": [
       "            Tags   Usos\n",
       "1752         php  24129\n",
       "1204  javascript  23924\n",
       "1183        java  17363\n",
       "1056        html  12914\n",
       "1543       mysql  11454\n",
       "...          ...    ...\n",
       "654        dplyr      1\n",
       "653      doxygen      1\n",
       "1771         pie      1\n",
       "2442     ucfirst      1\n",
       "1344      latino      1\n",
       "\n",
       "[2689 rows x 2 columns]"
      ]
     },
     "execution_count": 8,
     "metadata": {},
     "output_type": "execute_result"
    }
   ],
   "source": [
    "pqtGB = postQTags.groupby(['Tags']).size().reset_index(name='Usos').sort_values(by='Usos', ascending=False)\n",
    "pqtGB.to_csv(\"PostQTagsAgrupadoXTag.csv\")\n",
    "pqtGB.head(2689)"
   ]
  },
  {
   "cell_type": "code",
   "execution_count": 11,
   "id": "4452e9af-033d-4f7a-828f-9eba644e17cf",
   "metadata": {},
   "outputs": [
    {
     "data": {
      "text/plain": [
       "Tags    2689\n",
       "Usos    2689\n",
       "dtype: int64"
      ]
     },
     "execution_count": 11,
     "metadata": {},
     "output_type": "execute_result"
    }
   ],
   "source": [
    "pqtGB.count()"
   ]
  },
  {
   "cell_type": "code",
   "execution_count": 31,
   "id": "1a8d6b9f-4352-4ad0-9e23-82307c637458",
   "metadata": {},
   "outputs": [
    {
     "data": {
      "image/png": "[encoded data removed]",
      "text/plain": [
       "<Figure size 432x288 with 1 Axes>"
      ]
     },
     "metadata": {
      "needs_background": "light"
     },
     "output_type": "display_data"
    }
   ],
   "source": [
    "plt.plot(pqtGB[\"Tags\"],pqtGB[\"Usos\"])\n",
    "plt.xlabel(\"Tags2\")\n",
    "plt.show()"
   ]
  },
  {
   "cell_type": "code",
   "execution_count": 35,
   "id": "388febe0-8876-4bd8-b10d-7127856635bf",
   "metadata": {},
   "outputs": [
    {
     "data": {
      "text/plain": [
       "<Figure size 432x288 with 0 Axes>"
      ]
     },
     "metadata": {},
     "output_type": "display_data"
    }
   ],
   "source": [
    "plt.savefig(\"Tendencia.jpg\", dpi =300)"
   ]
  },
  {
   "cell_type": "code",
   "execution_count": 47,
   "id": "3fe2cd38-86a1-48e5-b6e7-b99852bbfe14",
   "metadata": {},
   "outputs": [],
   "source": [
    "# Toma una muestra de 20 registros random\n",
    "p1 = pqtGB[0:29]"
   ]
  },
  {
   "cell_type": "code",
   "execution_count": 48,
   "id": "256b2004-6b0c-4229-a636-ff4fa85bab49",
   "metadata": {},
   "outputs": [
    {
     "name": "stdout",
     "output_type": "stream",
     "text": [
      "                Tags   Usos\n",
      "1752             php  24129\n",
      "1204      javascript  23924\n",
      "1183            java  17363\n",
      "1056            html  12914\n",
      "1543           mysql  11454\n",
      "331               c#  11325\n",
      "1899          python  11286\n",
      "1256          jquery   9199\n",
      "68           android   9061\n",
      "2239             sql   8030\n",
      "1327         laravel   5585\n",
      "519              css   5569\n",
      "101   android-studio   4175\n",
      "1063           html5   4085\n",
      "47              ajax   4058\n",
      "1906      python-3.x   4049\n",
      "2240      sql-server   4015\n",
      "333              c++   3420\n",
      "1274            json   3088\n",
      "181            array   3050\n",
      "1603          nodejs   3016\n",
      "111          angular   2906\n",
      "248    base-de-datos   2590\n",
      "193          asp.net   2454\n",
      "330                c   2399\n",
      "292        bootstrap   2282\n",
      "622           django   2128\n",
      "1329       laravel-5   1950\n",
      "1971         reactjs   1837\n"
     ]
    }
   ],
   "source": [
    "print(p1)"
   ]
  },
  {
   "cell_type": "code",
   "execution_count": 53,
   "id": "10010609-0b54-4ff6-a9c1-3078ff8d3af1",
   "metadata": {},
   "outputs": [
    {
     "data": {
      "text/plain": [
       "len     2689\n",
       "min        1\n",
       "max    24129\n",
       "Name: Usos, dtype: int64"
      ]
     },
     "execution_count": 53,
     "metadata": {},
     "output_type": "execute_result"
    }
   ],
   "source": [
    "#len = cantidad de etiquetas (hay 2689 Tags distintos)\n",
    "# min = el minimo uso de un tag\n",
    "# max = el maximo uso de un tag\n",
    "pqtGB.Usos.agg([len, min, max])"
   ]
  },
  {
   "cell_type": "code",
   "execution_count": 54,
   "id": "72f9f5ed-2cdd-4ece-8d69-1d15b31ee8b0",
   "metadata": {},
   "outputs": [
    {
     "data": {
      "text/html": [
       "<div>\n",
       "<style scoped>\n",
       "    .dataframe tbody tr th:only-of-type {\n",
       "        vertical-align: middle;\n",
       "    }\n",
       "\n",
       "    .dataframe tbody tr th {\n",
       "        vertical-align: top;\n",
       "    }\n",
       "\n",
       "    .dataframe thead th {\n",
       "        text-align: right;\n",
       "    }\n",
       "</style>\n",
       "<table border=\"1\" class=\"dataframe\">\n",
       "  <thead>\n",
       "    <tr style=\"text-align: right;\">\n",
       "      <th></th>\n",
       "      <th>Usos</th>\n",
       "    </tr>\n",
       "  </thead>\n",
       "  <tbody>\n",
       "    <tr>\n",
       "      <th>count</th>\n",
       "      <td>2689.000000</td>\n",
       "    </tr>\n",
       "    <tr>\n",
       "      <th>mean</th>\n",
       "      <td>135.597620</td>\n",
       "    </tr>\n",
       "    <tr>\n",
       "      <th>std</th>\n",
       "      <td>963.879369</td>\n",
       "    </tr>\n",
       "    <tr>\n",
       "      <th>min</th>\n",
       "      <td>1.000000</td>\n",
       "    </tr>\n",
       "    <tr>\n",
       "      <th>25%</th>\n",
       "      <td>4.000000</td>\n",
       "    </tr>\n",
       "    <tr>\n",
       "      <th>50%</th>\n",
       "      <td>12.000000</td>\n",
       "    </tr>\n",
       "    <tr>\n",
       "      <th>75%</th>\n",
       "      <td>47.000000</td>\n",
       "    </tr>\n",
       "    <tr>\n",
       "      <th>max</th>\n",
       "      <td>24129.000000</td>\n",
       "    </tr>\n",
       "  </tbody>\n",
       "</table>\n",
       "</div>"
      ],
      "text/plain": [
       "               Usos\n",
       "count   2689.000000\n",
       "mean     135.597620\n",
       "std      963.879369\n",
       "min        1.000000\n",
       "25%        4.000000\n",
       "50%       12.000000\n",
       "75%       47.000000\n",
       "max    24129.000000"
      ]
     },
     "execution_count": 54,
     "metadata": {},
     "output_type": "execute_result"
    }
   ],
   "source": [
    "# count = para cuantos registros aplica\n",
    "# mean \n",
    "# std = \n",
    "# min = valor minimo de aparición de un tags\n",
    "# max = valor maximo de aparición de un tags\n",
    "# 25% , 50% y 75% son 1º, 2º y 3º cuartil respectivamente.\n",
    "# el primer 25% de los count tiene 4.\n",
    "# el 50 % tiene 12 counts\n",
    "# el 75 % tiene 47 counts\n",
    "\n",
    "pqtGB.describe()"
   ]
  },
  {
   "cell_type": "code",
   "execution_count": 121,
   "id": "c4fe19ca-9a55-409a-8210-7803a3eedf3d",
   "metadata": {},
   "outputs": [],
   "source": [
    "# Porcentajes respecto del total filtrado"
   ]
  },
  {
   "cell_type": "code",
   "execution_count": null,
   "id": "11b29982-bd26-4f78-970c-aa6c56f77f95",
   "metadata": {},
   "outputs": [],
   "source": [
    "# Porcentajes respecto del total sobre Tags"
   ]
  },
  {
   "cell_type": "code",
   "execution_count": 59,
   "id": "0986b2b2-7b98-49d7-be10-3875274b19c6",
   "metadata": {},
   "outputs": [
    {
     "data": {
      "text/plain": [
       "<AxesSubplot:>"
      ]
     },
     "execution_count": 59,
     "metadata": {},
     "output_type": "execute_result"
    },
    {
     "data": {
      "image/png": "[encoded data removed]",
      "text/plain": [
       "<Figure size 432x288 with 1 Axes>"
      ]
     },
     "metadata": {
      "needs_background": "light"
     },
     "output_type": "display_data"
    }
   ],
   "source": [
    "p1.sort_values(by='Usos', ascending=False).plot(kind='bar')"
   ]
  },
  {
   "cell_type": "code",
   "execution_count": 62,
   "id": "0d1b62ba-6c38-4267-9727-d60174bd835c",
   "metadata": {},
   "outputs": [
    {
     "data": {
      "image/png": "[encoded data removed]",
      "text/plain": [
       "<Figure size 432x288 with 1 Axes>"
      ]
     },
     "metadata": {
      "needs_background": "light"
     },
     "output_type": "display_data"
    }
   ],
   "source": [
    "p1 = p1.sort_values(by='Usos', ascending=False)\n",
    "p1.plot(kind='bar')\n",
    "plt.xlabel(\"Tags\")\n",
    "plt.savefig(\"barras.png\")"
   ]
  },
  {
   "cell_type": "code",
   "execution_count": 74,
   "id": "ae64fdc1-3615-46e3-a9c1-2f8731cb7361",
   "metadata": {},
   "outputs": [
    {
     "data": {
      "image/png": "[encoded data removed]",
      "text/plain": [
       "<Figure size 432x288 with 1 Axes>"
      ]
     },
     "metadata": {
      "needs_background": "light"
     },
     "output_type": "display_data"
    },
    {
     "data": {
      "text/plain": [
       "<Figure size 432x288 with 0 Axes>"
      ]
     },
     "metadata": {},
     "output_type": "display_data"
    }
   ],
   "source": [
    "p2= pqtGB[0:100]\n",
    "plt.style.use('bmh')\n",
    "plt.plot(p2['Tags'], p2['Usos'])\n",
    "plt.title(\"Tendencia de uso de tags\")\n",
    "plt.xlabel(\"Tags\")\n",
    "plt.ylabel('Cantidad de usos')\n",
    "plt.xticks('')   \n",
    "plt.show()\n",
    "plt.savefig('img1.png')"
   ]
  },
  {
   "cell_type": "code",
   "execution_count": 44,
   "id": "0e01b767-c5a3-49d9-bf3b-9853e7651a0b",
   "metadata": {},
   "outputs": [
    {
     "data": {
      "image/png": "[encoded data removed]",
      "text/plain": [
       "<Figure size 432x288 with 1 Axes>"
      ]
     },
     "metadata": {
      "needs_background": "light"
     },
     "output_type": "display_data"
    },
    {
     "data": {
      "text/plain": [
       "<Figure size 432x288 with 0 Axes>"
      ]
     },
     "metadata": {},
     "output_type": "display_data"
    }
   ],
   "source": [
    "plt.plot(p1[\"Tags\"],p1[\"Usos\"])\n",
    "plt.xlabel(\"Tags2\")\n",
    "plt.show()\n",
    "plt.savefig(\"linea.png\")"
   ]
  },
  {
   "cell_type": "code",
   "execution_count": null,
   "id": "b64baa1d-32eb-481c-bd32-2746aa49beb0",
   "metadata": {},
   "outputs": [],
   "source": []
  }
 ],
 "metadata": {
  "kernelspec": {
   "display_name": "Python 3",
   "language": "python",
   "name": "python3"
  },
  "language_info": {
   "codemirror_mode": {
    "name": "ipython",
    "version": 3
   },
   "file_extension": ".py",
   "mimetype": "text/x-python",
   "name": "python",
   "nbconvert_exporter": "python",
   "pygments_lexer": "ipython3",
   "version": "3.9.4"
  }
 },
 "nbformat": 4,
 "nbformat_minor": 5
}
