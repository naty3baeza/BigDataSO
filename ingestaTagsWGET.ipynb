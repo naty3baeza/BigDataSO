{
 "cells": [
  {
   "cell_type": "code",
   "execution_count": 20,
   "id": "c67cc082-fd87-4355-a761-3acd81026319",
   "metadata": {},
   "outputs": [],
   "source": [
    "# crear cliente de conexion hdfs\n",
    "from hdfs import InsecureClient"
   ]
  },
  {
   "cell_type": "code",
   "execution_count": 21,
   "id": "f89e92bd-24c6-48d6-8f49-49fffb8b693b",
   "metadata": {},
   "outputs": [],
   "source": [
    "#conectarme\n",
    "client = InsecureClient('http://localhost:9870', user='usuarioBD')"
   ]
  },
  {
   "cell_type": "code",
   "execution_count": 23,
   "id": "9d730547-3626-4ce0-a8db-df021a8a9a45",
   "metadata": {},
   "outputs": [],
   "source": [
    "#libreria python (instalada con pip) para recuperar un archivo de una url\n",
    "import wget"
   ]
  },
  {
   "cell_type": "code",
   "execution_count": 24,
   "id": "797fd0e4-4d48-4764-8f5f-c52714e09ee4",
   "metadata": {},
   "outputs": [],
   "source": [
    "# define url de descarga\n",
    "url = 'https://archive.org/download/stackexchange/stackoverflow.com-Tags.7z/Tags.xml'\n",
    "\n",
    "# descarga mediante wget el archivo de Tags en formato .xml\n",
    "filename = wget.download(url,'Tags.xml')"
   ]
  },
  {
   "cell_type": "code",
   "execution_count": 22,
   "id": "decea2ec-e688-4ec3-b4d9-9de646608332",
   "metadata": {},
   "outputs": [],
   "source": [
    "# Crear una carpeta en el raiz de hadoop con usuarioBD\n",
    "carpeta = client.makedirs('/soUBD')\n",
    "# Crear una carpeta dentro de soUBD\n",
    "carpeta = client.makedirs('/soUBD/Original')"
   ]
  },
  {
   "cell_type": "code",
   "execution_count": null,
   "id": "10f9260f-cb37-48e2-8dad-b986638ebdd4",
   "metadata": {},
   "outputs": [],
   "source": [
    "#Subir el archivo Tags.xml a hadoop\n",
    "subir = client.upload('/soUBD/Original','/Tags.xml')"
   ]
  },
  {
   "cell_type": "code",
   "execution_count": null,
   "id": "373933d0-17eb-4915-a015-2186c8a4cfd3",
   "metadata": {},
   "outputs": [],
   "source": [
    "# verifica que el nuevo archivo aparezca listado\n",
    "listado = client.list('/soUBD/')\n",
    "print(listado)"
   ]
  },
  {
   "cell_type": "code",
   "execution_count": null,
   "id": "5d2bf347-bfbd-4071-9967-f2e3c0b16827",
   "metadata": {},
   "outputs": [],
   "source": [
    "#Borrar un archivo o carpeta - sino esta no hace nada\n",
    "borrar = client.delete('/cursoFAI/probando2.txt',recursive=True)"
   ]
  },
  {
   "cell_type": "code",
   "execution_count": null,
   "id": "be371af1-786f-492b-9004-84b720d0a632",
   "metadata": {},
   "outputs": [],
   "source": []
  }
 ],
 "metadata": {
  "kernelspec": {
   "display_name": "Python 3",
   "language": "python",
   "name": "python3"
  },
  "language_info": {
   "codemirror_mode": {
    "name": "ipython",
    "version": 3
   },
   "file_extension": ".py",
   "mimetype": "text/x-python",
   "name": "python",
   "nbconvert_exporter": "python",
   "pygments_lexer": "ipython3",
   "version": "3.9.5"
  }
 },
 "nbformat": 4,
 "nbformat_minor": 5
}
