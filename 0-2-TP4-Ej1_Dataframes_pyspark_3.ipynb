{
 "cells": [
  {
   "cell_type": "code",
   "execution_count": 2,
   "metadata": {},
   "outputs": [
    {
     "name": "stdout",
     "output_type": "stream",
     "text": [
      "['PostA.csv', 'PostA_SinDuplicar.csv', 'PostA_sin_body.csv', 'PostO.csv', 'PostQ.csv', 'PostQ_SinDuplicar.csv', 'PostQ_sin_body_ni_title.csv', 'Posts.xml', 'Tags.csv', 'Tags.xml', 'Votes.csv', 'Votes.xml', 'Votes_SinDuplicar.csv', 'input', 'username.csv']\n"
     ]
    }
   ],
   "source": [
    "#Subir PostA_sin_body PostQ_sin_body_ni_title a HDFS\n",
    "# importar hdfs\n",
    "from hdfs import InsecureClient\n",
    "\n",
    "#conectarme\n",
    "client = InsecureClient('http://localhost:9870/', user='usuarioFAI')\n",
    "\n",
    "#Subir un archivo\n",
    "subirPostsA = client.upload('/so/','/home/usuarioFAI/PostA_sin_body.csv')\n",
    "subirPostsQ = client.upload('/so/','/home/usuarioFAI/PostQ_sin_body_ni_title.csv')\n",
    "\n",
    "# Listar todos los archivos de una carpeta.\n",
    "listado = client.list('/so/')\n",
    "print(listado)"
   ]
  },
  {
   "cell_type": "code",
   "execution_count": null,
   "metadata": {},
   "outputs": [],
   "source": [
    "#Limpieza con PYSPARK"
   ]
  },
  {
   "cell_type": "code",
   "execution_count": 3,
   "metadata": {},
   "outputs": [],
   "source": [
    "#importar la libreria\n",
    "from pyspark.sql import SparkSession"
   ]
  },
  {
   "cell_type": "code",
   "execution_count": 4,
   "metadata": {},
   "outputs": [],
   "source": [
    "#abrir una sesion con un nombre\n",
    "spark=SparkSession.builder.appName('pysarkpruebas').getOrCreate()"
   ]
  },
  {
   "cell_type": "code",
   "execution_count": 5,
   "metadata": {},
   "outputs": [
    {
     "name": "stdout",
     "output_type": "stream",
     "text": [
      "root\n",
      " |-- _c0: string (nullable = true)\n",
      " |-- Id: string (nullable = true)\n",
      " |-- PostTypeId: string (nullable = true)\n",
      " |-- AcceptedAnswerId: string (nullable = true)\n",
      " |-- CreationDate: string (nullable = true)\n",
      " |-- Tags: string (nullable = true)\n",
      " |-- AnswerCount: string (nullable = true)\n",
      "\n",
      "+---+---+----------+----------------+--------------------+--------------------+-----------+\n",
      "|_c0| Id|PostTypeId|AcceptedAnswerId|        CreationDate|                Tags|AnswerCount|\n",
      "+---+---+----------+----------------+--------------------+--------------------+-----------+\n",
      "|  0|  1|         1|               2|2015-10-29T15:56:...|<.net><asp.net-we...|          1|\n",
      "|  1|  3|         1|               9|2015-10-29T23:54:...|            <delphi>|          3|\n",
      "|  2|  5|         1|             208|2015-10-30T01:15:...|       <c++><string>|          7|\n",
      "|  3|  6|         1|             654|2015-10-30T01:36:...|      <c++><casting>|          2|\n",
      "|  4|  8|         1|             442|2015-10-30T10:26:...|<google-maps><ang...|          1|\n",
      "+---+---+----------+----------------+--------------------+--------------------+-----------+\n",
      "only showing top 5 rows\n",
      "\n"
     ]
    }
   ],
   "source": [
    "#leer archivo de PostQ (Questions) de HDFS\n",
    "#header true es para que la primera fila sea considerada los atributos y no una tupla mas\n",
    "#inferschema es para que tome los tipos de datos como son, no todo string..prueben poner false y luego imprimir el esquema\n",
    "dfq = spark.read.csv('hdfs://127.0.0.1:9000/so/PostQ_sin_body_ni_title.csv', header=True,  inferSchema=False)\n",
    "dfq.printSchema()\n",
    "dfq.show(5)"
   ]
  },
  {
   "cell_type": "code",
   "execution_count": 6,
   "metadata": {},
   "outputs": [
    {
     "name": "stdout",
     "output_type": "stream",
     "text": [
      "La cantidad de preguntas son:  145623\n",
      "Cantidad de filas diferentes luego del borrado:  145623\n"
     ]
    }
   ],
   "source": [
    "#mostrar la cantidad de Questions y las filas duplicadas\n",
    "cant_preguntas = dfq.count()\n",
    "print(\"La cantidad de preguntas son: \",cant_preguntas)\n",
    "\n",
    "#eliminar preguntas duplicadas (solo si los resultados anteriores son diferentes)\n",
    "dfq = dfq.dropDuplicates()\n",
    "#dfq = dfq.distinct()\n",
    "\n",
    "cant_preg_sin_duplicar=dfq.count()\n",
    "print(\"Cantidad de filas diferentes luego del borrado: \",cant_preg_sin_duplicar)"
   ]
  },
  {
   "cell_type": "code",
   "execution_count": 7,
   "metadata": {},
   "outputs": [
    {
     "name": "stdout",
     "output_type": "stream",
     "text": [
      "+---+----+----------+----------------+--------------------+--------------------+-----------+\n",
      "|_c0|  Id|PostTypeId|AcceptedAnswerId|        CreationDate|                Tags|AnswerCount|\n",
      "+---+----+----------+----------------+--------------------+--------------------+-----------+\n",
      "|434|1912|         1|            1943|2015-12-29T18:46:...|     <java><android>|          2|\n",
      "|487|2076|         1|            2078|2016-01-05T07:36:...|   <java><thymeleaf>|          3|\n",
      "|501|2123|         1|            2125|2016-01-06T00:20:...|<css3><sass><gulp...|          1|\n",
      "|585|2441|         1|            2444|2016-01-12T19:35:...|<javascript><angu...|          2|\n",
      "|783|3125|         1|            3151|2016-01-25T22:27:...|     <java><android>|          2|\n",
      "+---+----+----------+----------------+--------------------+--------------------+-----------+\n",
      "only showing top 5 rows\n",
      "\n"
     ]
    }
   ],
   "source": [
    "dfq.show(5)"
   ]
  },
  {
   "cell_type": "code",
   "execution_count": 8,
   "metadata": {},
   "outputs": [
    {
     "name": "stdout",
     "output_type": "stream",
     "text": [
      "La cantidad de preguntas filtradas es:  0\n"
     ]
    }
   ],
   "source": [
    "#print(\"Cantidad de filas diferentes: \",dfq.distinct().count())\n",
    "cant_preg_filtradas = cant_preguntas - cant_preg_sin_duplicar\n",
    "print ('La cantidad de preguntas filtradas es: ',cant_preg_filtradas)"
   ]
  },
  {
   "cell_type": "code",
   "execution_count": 9,
   "metadata": {},
   "outputs": [
    {
     "name": "stdout",
     "output_type": "stream",
     "text": [
      "root\n",
      " |-- _c0: string (nullable = true)\n",
      " |-- Id: string (nullable = true)\n",
      " |-- PostTypeId: string (nullable = true)\n",
      " |-- ParentId: string (nullable = true)\n",
      " |-- CreationDate: string (nullable = true)\n",
      " |-- Score: string (nullable = true)\n",
      "\n"
     ]
    }
   ],
   "source": [
    "#leer archivo de PostA (Answers) de HDFS\n",
    "dfa = spark.read.csv('hdfs://127.0.0.1:9000/so/PostA_sin_body.csv', header=True, inferSchema=False)\n",
    "#mostrar el esquema\n",
    "dfa.printSchema()"
   ]
  },
  {
   "cell_type": "code",
   "execution_count": 10,
   "metadata": {},
   "outputs": [
    {
     "name": "stdout",
     "output_type": "stream",
     "text": [
      "La cantidad de Respuestas son:  159308\n",
      "Cantidad de filas diferentes luego del borrado:  159308\n"
     ]
    }
   ],
   "source": [
    "#mostrar la cantidad de Answers y las filas duplicadas\n",
    "cant_respuestas = dfa.count()\n",
    "print(\"La cantidad de Respuestas son: \",cant_respuestas)\n",
    "\n",
    "#eliminar respuestas duplicadas (solo si los resultados anteriores son diferentes)\n",
    "#dfa = dfa.dropDuplicates()\n",
    "dfa = dfa.distinct()\n",
    "cant_resp_no_duplicadas = dfa.count()\n",
    "print('Cantidad de filas diferentes luego del borrado: ', cant_resp_no_duplicadas)"
   ]
  },
  {
   "cell_type": "code",
   "execution_count": 11,
   "metadata": {},
   "outputs": [
    {
     "name": "stdout",
     "output_type": "stream",
     "text": [
      "+---+----+----------+--------+--------------------+-----+\n",
      "|_c0|  Id|PostTypeId|ParentId|        CreationDate|Score|\n",
      "+---+----+----------+--------+--------------------+-----+\n",
      "|239| 478|         2|     468|2015-12-05T12:17:...|    8|\n",
      "|308| 738|         2|     368|2015-12-08T15:33:...|    5|\n",
      "|398| 950|         2|     161|2015-12-12T14:16:...|    4|\n",
      "|565|1283|         2|    1270|2015-12-17T19:36:...|    2|\n",
      "|628|1439|         2|    1438|2015-12-21T03:17:...|    1|\n",
      "+---+----+----------+--------+--------------------+-----+\n",
      "only showing top 5 rows\n",
      "\n",
      "La cantidad de respuestas filtradas es:  0\n"
     ]
    }
   ],
   "source": [
    "dfa.show(5)\n",
    "#print('Cantidad de filas diferentes: ', dfa.distinct().count())\n",
    "cant_resp_filtradas = cant_respuestas - cant_resp_no_duplicadas\n",
    "print ('La cantidad de respuestas filtradas es: ',cant_resp_filtradas)"
   ]
  },
  {
   "cell_type": "code",
   "execution_count": 12,
   "metadata": {},
   "outputs": [
    {
     "name": "stdout",
     "output_type": "stream",
     "text": [
      "root\n",
      " |-- _c0: string (nullable = true)\n",
      " |-- Id: string (nullable = true)\n",
      " |-- PostId: string (nullable = true)\n",
      " |-- VoteTypeId: string (nullable = true)\n",
      " |-- CreationDate: string (nullable = true)\n",
      "\n"
     ]
    }
   ],
   "source": [
    "#leer archivo de Votes de HDFS\n",
    "dfv = spark.read.csv('hdfs://127.0.0.1:9000/so/Votes.csv', header=True, inferSchema=False)\n",
    "#mostrar el esquema\n",
    "dfv.printSchema()"
   ]
  },
  {
   "cell_type": "code",
   "execution_count": 13,
   "metadata": {},
   "outputs": [
    {
     "name": "stdout",
     "output_type": "stream",
     "text": [
      "+---+---+------+----------+--------------------+\n",
      "|_c0| Id|PostId|VoteTypeId|        CreationDate|\n",
      "+---+---+------+----------+--------------------+\n",
      "|  0|  1|     1|         2|2015-10-29T00:00:...|\n",
      "|  1|  2|     2|         2|2015-10-29T00:00:...|\n",
      "|  2|  3|     3|         2|2015-10-30T00:00:...|\n",
      "|  3|  4|     5|         2|2015-10-30T00:00:...|\n",
      "|  4|  5|     7|         2|2015-10-30T00:00:...|\n",
      "+---+---+------+----------+--------------------+\n",
      "only showing top 5 rows\n",
      "\n",
      "La cantidad de Votos son:  628897\n",
      "Cantidad de filas diferentes luego del borrado:  628897\n"
     ]
    }
   ],
   "source": [
    "dfv.show(5)\n",
    "#mostrar la cantidad de Answers y las filas duplicadas\n",
    "cant_votes = dfv.count()\n",
    "print(\"La cantidad de Votos son: \",cant_votes)\n",
    "\n",
    "#eliminar respuestas duplicadas (solo si los resultados anteriores son diferentes)\n",
    "#dfv = dfv.dropDuplicates()\n",
    "dfv = dfv.distinct()\n",
    "\n",
    "cant_votes_no_duplicadas = dfv.count()\n",
    "print('Cantidad de filas diferentes luego del borrado: ', cant_votes_no_duplicadas)"
   ]
  },
  {
   "cell_type": "code",
   "execution_count": 14,
   "metadata": {},
   "outputs": [
    {
     "name": "stdout",
     "output_type": "stream",
     "text": [
      "La cantidad de respuestas filtradas es:  0\n"
     ]
    }
   ],
   "source": [
    "#print('Cantidad de filas diferentes: ', dfa.distinct().count())\n",
    "cant_votes_filtradas = cant_votes - cant_votes_no_duplicadas\n",
    "print ('La cantidad de respuestas filtradas es: ',cant_votes_filtradas)"
   ]
  },
  {
   "cell_type": "code",
   "execution_count": 15,
   "metadata": {},
   "outputs": [
    {
     "name": "stdout",
     "output_type": "stream",
     "text": [
      "                        Descripción  Cantidades\n",
      "0                cantidad preguntas      145623\n",
      "1   cantidad preguntas sin duplicar      145623\n",
      "2      cantidad preguntas filtradas           0\n",
      "3               cantidad respuestas      159308\n",
      "4  cantidad respuestas sin duplicar      159308\n",
      "5     cantidad respuestas filtradas           0\n",
      "6                    cantidad votos      628897\n",
      "7       cantidad votos sin duplicar      628897\n",
      "8          cantidad votos filtrados           0\n"
     ]
    }
   ],
   "source": [
    "import pandas as pd\n",
    "\n",
    "Titulos = ['cantidad preguntas', 'cantidad preguntas sin duplicar', 'cantidad preguntas filtradas', \n",
    "        'cantidad respuestas', 'cantidad respuestas sin duplicar', 'cantidad respuestas filtradas',\n",
    "          'cantidad votos','cantidad votos sin duplicar','cantidad votos filtrados']\n",
    "Cantidades = []\n",
    "\n",
    "Cantidades.append(cant_preguntas) #asi con cada cant\n",
    "Cantidades.append(cant_preg_sin_duplicar) #asi con cada cant\n",
    "Cantidades.append(cant_preg_filtradas)\n",
    "Cantidades.append(cant_respuestas) #asi con cada cant\n",
    "Cantidades.append(cant_resp_no_duplicadas) #asi con cada cant\n",
    "Cantidades.append(cant_resp_filtradas)\n",
    "Cantidades.append(cant_votes)\n",
    "Cantidades.append(cant_votes_no_duplicadas) #asi con cada cant\n",
    "Cantidades.append(cant_votes_filtradas)\n",
    "\n",
    "df = pd.DataFrame({'Descripción':Titulos, 'Cantidades':Cantidades})\n",
    "\n",
    "#df.show() #verificar si funciona\n",
    "\n",
    "print(df)\n",
    "#lo guardamos \n",
    "df.to_csv('resumen_cantidades.csv') "
   ]
  },
  {
   "cell_type": "code",
   "execution_count": 16,
   "metadata": {},
   "outputs": [],
   "source": [
    "#Guardamos PostA_SinDuplicar.csv\n",
    "dfa.toPandas().to_csv('PostA_SinDuplicar.csv')"
   ]
  },
  {
   "cell_type": "code",
   "execution_count": 17,
   "metadata": {},
   "outputs": [],
   "source": [
    "#Guardamos PostA_SinDuplicar.csv\n",
    "dfq.toPandas().to_csv('PostQ_SinDuplicar.csv')"
   ]
  },
  {
   "cell_type": "code",
   "execution_count": 18,
   "metadata": {},
   "outputs": [],
   "source": [
    "#Guardamos Votes_SinDuplicar.csv\n",
    "dfv.toPandas().to_csv('Votes_SinDuplicar.csv')"
   ]
  },
  {
   "cell_type": "code",
   "execution_count": null,
   "metadata": {},
   "outputs": [],
   "source": []
  }
 ],
 "metadata": {
  "kernelspec": {
   "display_name": "Python 3",
   "language": "python",
   "name": "python3"
  },
  "language_info": {
   "codemirror_mode": {
    "name": "ipython",
    "version": 3
   },
   "file_extension": ".py",
   "mimetype": "text/x-python",
   "name": "python",
   "nbconvert_exporter": "python",
   "pygments_lexer": "ipython3",
   "version": "3.9.4"
  }
 },
 "nbformat": 4,
 "nbformat_minor": 4
}
