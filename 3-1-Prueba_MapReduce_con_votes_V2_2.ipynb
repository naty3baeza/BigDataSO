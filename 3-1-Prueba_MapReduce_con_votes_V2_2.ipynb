{
 "cells": [
  {
   "cell_type": "code",
   "execution_count": 1,
   "id": "da94105a",
   "metadata": {},
   "outputs": [],
   "source": [
    "#importar \n",
    "from pyspark.sql import SparkSession\n",
    "#obtener sesion\n",
    "spark = SparkSession.builder.appName('ejemploSO').getOrCreate()"
   ]
  },
  {
   "cell_type": "code",
   "execution_count": 2,
   "id": "30e6444b",
   "metadata": {},
   "outputs": [],
   "source": [
    "#generar un array con las columnas VoteTypeId de Votes.xml\n",
    "import xml.etree.ElementTree as ET \n",
    "\n",
    "VoteTypeId = []\n",
    "\n",
    "archivo_xml = ET.parse('PostsP.xml') \n",
    "raiz = archivo_xml.getroot()\n",
    "for hijo in raiz: \n",
    "    VoteTypeId.append(hijo.attrib.get('Body'))\n"
   ]
  },
  {
   "cell_type": "code",
   "execution_count": 3,
   "id": "d3d55ad4",
   "metadata": {},
   "outputs": [
    {
     "data": {
      "text/plain": [
       "[4052, 688, 752, 546, 582, 682, 1593, 1362, 3600, 837, 885]"
      ]
     },
     "execution_count": 3,
     "metadata": {},
     "output_type": "execute_result"
    }
   ],
   "source": [
    "import collections \n",
    "import itertools \n",
    "import multiprocessing\n",
    "\n",
    "#CANTIDAD DE VOTOS POR VoteTypeId\n",
    "#le indico a spark que quiero paralelizar el array de votos para obtener una lista de pares (VoteTypeId, cant(PostId))\n",
    "rdd = spark.sparkContext.parallelize(VoteTypeId)\n",
    "\n",
    "#por cada VoteTypeId cuento 1\n",
    "long_map = rdd.map(lambda x: (len(x)))\n",
    "\n",
    "long_map.take(11)\n",
    "#coleccion = long_map.collect()\n",
    "#print('Cantidad de post por VoteTypeId: ',coleccion)\n",
    "\n",
    "#aplico reduce para obtener el maximo y minimo de la coleccion anterior\n",
    "#print ('VoteTypeId con mayor cantidad de votos: ', long_map.reduce(lambda a,b: a if (a > b) else b))\n",
    "#print ('VoteTypeId con menor cantidad de votos: ', long_map.reduce(lambda a,b: a if (a < b) else b))"
   ]
  },
  {
   "cell_type": "code",
   "execution_count": 4,
   "id": "8aedda3a",
   "metadata": {},
   "outputs": [
    {
     "name": "stdout",
     "output_type": "stream",
     "text": [
      "max 4052\n",
      "min 185\n"
     ]
    }
   ],
   "source": [
    "#print(VoteTypeId)\n",
    "\n",
    "#La función reduce aplica continuamente la funciòn a la secuencia devolviendo un solo valor \n",
    "print (\"max\", long_map.reduce(lambda a,b: a if (a > b) else b))\n",
    "print ( \"min\", long_map.reduce(lambda a,b: a if (a < b) else b))"
   ]
  },
  {
   "cell_type": "code",
   "execution_count": null,
   "id": "95ac9bc0-fd58-4497-bf76-bd16204b58a5",
   "metadata": {},
   "outputs": [],
   "source": []
  }
 ],
 "metadata": {
  "kernelspec": {
   "display_name": "Python 3",
   "language": "python",
   "name": "python3"
  },
  "language_info": {
   "codemirror_mode": {
    "name": "ipython",
    "version": 3
   },
   "file_extension": ".py",
   "mimetype": "text/x-python",
   "name": "python",
   "nbconvert_exporter": "python",
   "pygments_lexer": "ipython3",
   "version": "3.9.4"
  }
 },
 "nbformat": 4,
 "nbformat_minor": 5
}
