{
 "cells": [
  {
   "cell_type": "markdown",
   "id": "7cf9c16b-fa5c-4a85-93f2-4d2e2971a4ae",
   "metadata": {},
   "source": [
    "# Intesta de Datos\n",
    "### Conexión con HDFS\n",
    "### Obtención de archivos por URL\n",
    "### Guardado local (archivo temporal)\n",
    "## Guardado en HDFS \n",
    "## Borrado local del archivo temporal "
   ]
  },
  {
   "cell_type": "code",
   "execution_count": 6,
   "id": "c67cc082-fd87-4355-a761-3acd81026319",
   "metadata": {},
   "outputs": [],
   "source": [
    "# importar hdfs\n",
    "from hdfs import InsecureClient"
   ]
  },
  {
   "cell_type": "code",
   "execution_count": 7,
   "id": "f89e92bd-24c6-48d6-8f49-49fffb8b693b",
   "metadata": {},
   "outputs": [],
   "source": [
    "#conectarme\n",
    "client = InsecureClient('http://localhost:9870', user='usuarioFAI')\n"
   ]
  },
  {
   "cell_type": "code",
   "execution_count": 4,
   "id": "77bb9c8d-e79d-47c0-bf8f-01201f7803e9",
   "metadata": {},
   "outputs": [],
   "source": [
    "# obteber el archivo desde URL\n",
    "import requests\n",
    "url = 'https://archive.org/download/stackexchange/es.stackoverflow.com.7z/Tags.xml'\n",
    "myfile = requests.get(url)"
   ]
  },
  {
   "cell_type": "code",
   "execution_count": 5,
   "id": "cb3e84f1-b709-4822-bbad-07dde50eece9",
   "metadata": {},
   "outputs": [
    {
     "data": {
      "text/plain": [
       "198757"
      ]
     },
     "execution_count": 5,
     "metadata": {},
     "output_type": "execute_result"
    }
   ],
   "source": [
    "# guardar el archivo local\n",
    "open('TagsWeb.xml', 'wb').write(myfile.content)"
   ]
  },
  {
   "cell_type": "code",
   "execution_count": 8,
   "id": "fc5c0396-384c-434b-86ec-0f2c1e0349e6",
   "metadata": {},
   "outputs": [],
   "source": [
    "# subir archivo al HDFS\n",
    "subirTags = client.upload('/so/nuevaCarpeta','/home/usuarioFAI/ejemplosPython/TagsWeb.xml')"
   ]
  },
  {
   "cell_type": "code",
   "execution_count": 9,
   "id": "373933d0-17eb-4915-a015-2186c8a4cfd3",
   "metadata": {},
   "outputs": [
    {
     "name": "stdout",
     "output_type": "stream",
     "text": [
      "['Tags.xml', 'TagsWeb.xml']\n"
     ]
    }
   ],
   "source": [
    "#esta?\n",
    "listado = client.list('/so/nuevaCarpeta/')\n",
    "print(listado)"
   ]
  },
  {
   "cell_type": "code",
   "execution_count": 10,
   "id": "9b3431db-2fd3-4892-8091-2dd9b1afcd0d",
   "metadata": {},
   "outputs": [],
   "source": [
    "# eliminar el archivo de la notebook\n",
    "from os import remove\n",
    "remove('/home/usuarioFAI/ejemplosPython/TagsWeb.xml')"
   ]
  },
  {
   "cell_type": "code",
   "execution_count": null,
   "id": "aacd9592-f38b-46e1-b6ae-f875dd0b01c4",
   "metadata": {},
   "outputs": [],
   "source": []
  }
 ],
 "metadata": {
  "kernelspec": {
   "display_name": "Python 3",
   "language": "python",
   "name": "python3"
  },
  "language_info": {
   "codemirror_mode": {
    "name": "ipython",
    "version": 3
   },
   "file_extension": ".py",
   "mimetype": "text/x-python",
   "name": "python",
   "nbconvert_exporter": "python",
   "pygments_lexer": "ipython3",
   "version": "3.9.4"
  }
 },
 "nbformat": 4,
 "nbformat_minor": 5
}
