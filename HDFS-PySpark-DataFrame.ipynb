{
 "cells": [
  {
   "cell_type": "code",
   "execution_count": 17,
   "metadata": {},
   "outputs": [],
   "source": [
    "# Lectura sobre HDSF y PySpark"
   ]
  },
  {
   "cell_type": "code",
   "execution_count": 18,
   "metadata": {},
   "outputs": [],
   "source": [
    "#importo la libreria\n",
    "from pyspark.sql import SparkSession"
   ]
  },
  {
   "cell_type": "code",
   "execution_count": 19,
   "metadata": {},
   "outputs": [],
   "source": [
    "#abro una sesion con un nombre\n",
    "spark=SparkSession.builder.appName('pysarkpruebas').getOrCreate()"
   ]
  },
  {
   "cell_type": "code",
   "execution_count": 20,
   "metadata": {},
   "outputs": [],
   "source": [
    "#header true es para que la primera fila sea considerada los atributos y no una tupla mas\n",
    "#inferschema es para que tome los tipos de datos como son, no todo string..prueben poner false y luego imprimir el esquema\n",
    "df_Tags = spark.read.csv('hdfs://127.0.0.1:9000/so/Tags.csv', header=True,  inferSchema=True)"
   ]
  },
  {
   "cell_type": "code",
   "execution_count": 21,
   "metadata": {},
   "outputs": [
    {
     "name": "stdout",
     "output_type": "stream",
     "text": [
      "root\n",
      " |-- _c0: integer (nullable = true)\n",
      " |-- Id: integer (nullable = true)\n",
      " |-- TagName: string (nullable = true)\n",
      " |-- Count: integer (nullable = true)\n",
      " |-- ExcerptPostId: integer (nullable = true)\n",
      " |-- WikiPostId: integer (nullable = true)\n",
      "\n"
     ]
    }
   ],
   "source": [
    "#mostrar el esquema que interpretó en el header\n",
    "df_Tags.printSchema()"
   ]
  },
  {
   "cell_type": "code",
   "execution_count": 15,
   "metadata": {},
   "outputs": [
    {
     "name": "stdout",
     "output_type": "stream",
     "text": [
      "root\n",
      " |-- _c0: string (nullable = true)\n",
      " |-- Id: string (nullable = true)\n",
      " |-- PostTypeId: string (nullable = true)\n",
      " |-- ParentId: string (nullable = true)\n",
      " |-- CreationDate: string (nullable = true)\n",
      " |-- Score: string (nullable = true)\n",
      " |-- Body: string (nullable = true)\n",
      "\n"
     ]
    }
   ],
   "source": [
    "#leo otro archivo HDFS \n",
    "df_PostA = spark.read.csv('hdfs://127.0.0.1:9000/so/PostA.csv', header=True, inferSchema=True)\n",
    "#mostrar el esquema\n",
    "df_PostA.printSchema()"
   ]
  },
  {
   "cell_type": "code",
   "execution_count": 22,
   "metadata": {},
   "outputs": [
    {
     "name": "stdout",
     "output_type": "stream",
     "text": [
      "+---+---+---------------+-----+-------------+----------+\n",
      "|_c0| Id|        TagName|Count|ExcerptPostId|WikiPostId|\n",
      "+---+---+---------------+-----+-------------+----------+\n",
      "|  0|  1|           .net| 1069|          680|       679|\n",
      "|  1|  2|asp.net-web-api|  215|         3029|      3028|\n",
      "|  2|  3|         delphi|  165|           20|        19|\n",
      "|  3|  4|            c++| 3420|           15|        14|\n",
      "|  4|  5|         string| 1030|          585|       584|\n",
      "|  5|  6|        casting|   23|         6304|      6303|\n",
      "|  6|  7|    google-maps|  569|          891|       890|\n",
      "|  7|  8|      angularjs| 1385|           22|        21|\n",
      "|  8|  9|        jasmine|    7|         1701|      1700|\n",
      "|  9| 10|  karma-jasmine|    8|         6753|      6752|\n",
      "+---+---+---------------+-----+-------------+----------+\n",
      "only showing top 10 rows\n",
      "\n"
     ]
    }
   ],
   "source": [
    "#mostrar solo las primeras 3 tuplas de Tags\n",
    "df_Tags.show(10)    "
   ]
  },
  {
   "cell_type": "code",
   "execution_count": 23,
   "metadata": {},
   "outputs": [
    {
     "name": "stdout",
     "output_type": "stream",
     "text": [
      "+---------------+\n",
      "|TagName        |\n",
      "+---------------+\n",
      "|.net           |\n",
      "|asp.net-web-api|\n",
      "|delphi         |\n",
      "|c++            |\n",
      "|string         |\n",
      "|casting        |\n",
      "|google-maps    |\n",
      "|angularjs      |\n",
      "|jasmine        |\n",
      "|karma-jasmine  |\n",
      "+---------------+\n",
      "only showing top 10 rows\n",
      "\n"
     ]
    }
   ],
   "source": [
    "#mostrar las primeras 4 tuplas de la columna TagName\n",
    "#el parámetro falso avisa que no trunque el resultado de la columna (do not truncate)\n",
    "df_Tags.select('TagName').show(10, False)    "
   ]
  },
  {
   "cell_type": "code",
   "execution_count": 24,
   "metadata": {},
   "outputs": [
    {
     "name": "stdout",
     "output_type": "stream",
     "text": [
      "+---------------+-----+\n",
      "|TagName        |Count|\n",
      "+---------------+-----+\n",
      "|.net           |1069 |\n",
      "|asp.net-web-api|215  |\n",
      "|delphi         |165  |\n",
      "|c++            |3420 |\n",
      "|string         |1030 |\n",
      "|casting        |23   |\n",
      "|google-maps    |569  |\n",
      "|angularjs      |1385 |\n",
      "|jasmine        |7    |\n",
      "|karma-jasmine  |8    |\n",
      "+---------------+-----+\n",
      "only showing top 10 rows\n",
      "\n"
     ]
    }
   ],
   "source": [
    "#mostrar las primeras 4 tuplas de la columna genres y title\n",
    "df_Tags.select('TagName','Count').show(10, False)  "
   ]
  },
  {
   "cell_type": "code",
   "execution_count": 25,
   "metadata": {},
   "outputs": [
    {
     "name": "stdout",
     "output_type": "stream",
     "text": [
      "root\n",
      " |-- _c0: integer (nullable = true)\n",
      " |-- Id: integer (nullable = true)\n",
      " |-- PostId: integer (nullable = true)\n",
      " |-- VoteTypeId: integer (nullable = true)\n",
      " |-- CreationDate: timestamp (nullable = true)\n",
      "\n"
     ]
    }
   ],
   "source": [
    "#leo un 3er archivo HDFS \n",
    "df_Votes = spark.read.csv('hdfs://127.0.0.1:9000/so/Votes.csv', header=True,  inferSchema=True)\n",
    "#mostrar el esquema\n",
    "df_Votes.printSchema()"
   ]
  },
  {
   "cell_type": "code",
   "execution_count": 26,
   "metadata": {},
   "outputs": [
    {
     "name": "stdout",
     "output_type": "stream",
     "text": [
      "+---+---+------+----------+-------------------+\n",
      "|_c0| Id|PostId|VoteTypeId|       CreationDate|\n",
      "+---+---+------+----------+-------------------+\n",
      "|  0|  1|     1|         2|2015-10-29 00:00:00|\n",
      "|  1|  2|     2|         2|2015-10-29 00:00:00|\n",
      "|  2|  3|     3|         2|2015-10-30 00:00:00|\n",
      "+---+---+------+----------+-------------------+\n",
      "only showing top 3 rows\n",
      "\n"
     ]
    }
   ],
   "source": [
    "#mostrar solo las primeras 3 tuplas de Votes\n",
    "df_Votes.show(3)    "
   ]
  },
  {
   "cell_type": "code",
   "execution_count": 27,
   "metadata": {},
   "outputs": [
    {
     "data": {
      "text/plain": [
       "[('_c0', 'int'),\n",
       " ('Id', 'int'),\n",
       " ('PostId', 'int'),\n",
       " ('VoteTypeId', 'int'),\n",
       " ('CreationDate', 'timestamp')]"
      ]
     },
     "execution_count": 27,
     "metadata": {},
     "output_type": "execute_result"
    }
   ],
   "source": [
    "#mostrar los tipos de datos de la tabla Votes\n",
    "df_Votes.dtypes"
   ]
  },
  {
   "cell_type": "code",
   "execution_count": 28,
   "metadata": {},
   "outputs": [
    {
     "name": "stdout",
     "output_type": "stream",
     "text": [
      "la cantidad de tuplas de Votes es:  628897\n"
     ]
    }
   ],
   "source": [
    "#contar la cantidad de tuplas de Votes\n",
    "print(\"la cantidad de tuplas de Votes es: \",df_Votes.count())"
   ]
  },
  {
   "cell_type": "code",
   "execution_count": 29,
   "metadata": {},
   "outputs": [
    {
     "name": "stdout",
     "output_type": "stream",
     "text": [
      "la cantidad de tuplas de Tags es:  2690\n"
     ]
    }
   ],
   "source": [
    "#contar la cantidad de tuplas de TAgs\n",
    "print(\"la cantidad de tuplas de Tags es: \", df_Tags.count())"
   ]
  },
  {
   "cell_type": "code",
   "execution_count": 30,
   "metadata": {},
   "outputs": [
    {
     "data": {
      "text/plain": [
       "12"
      ]
     },
     "execution_count": 30,
     "metadata": {},
     "output_type": "execute_result"
    }
   ],
   "source": [
    "#contar la cantidad de tipos de Votes\n",
    "df_Votes.select('VoteTypeId').distinct().count()"
   ]
  },
  {
   "cell_type": "code",
   "execution_count": null,
   "metadata": {},
   "outputs": [],
   "source": []
  }
 ],
 "metadata": {
  "kernelspec": {
   "display_name": "Python 3",
   "language": "python",
   "name": "python3"
  },
  "language_info": {
   "codemirror_mode": {
    "name": "ipython",
    "version": 3
   },
   "file_extension": ".py",
   "mimetype": "text/x-python",
   "name": "python",
   "nbconvert_exporter": "python",
   "pygments_lexer": "ipython3",
   "version": "3.9.4"
  }
 },
 "nbformat": 4,
 "nbformat_minor": 4
}
