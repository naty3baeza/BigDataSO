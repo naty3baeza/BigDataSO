{
 "cells": [
  {
   "cell_type": "code",
   "execution_count": null,
   "id": "c6978528-1a56-45d4-bf8e-522ee26a7c43",
   "metadata": {},
   "outputs": [],
   "source": [
    "#Subir Votes_SinDuplicar y PostA_SinDuplicar a HDFS\n",
    "# importar hdfs\n",
    "from hdfs import InsecureClient\n",
    "\n",
    "#conectarme\n",
    "client = InsecureClient('http://localhost:9870/', user='usuarioFAI')\n",
    "\n",
    "#Borrar\n",
    "borrar = client.delete('/so/PostA_SinDuplicar.csv',recursive=True)\n",
    "borrar = client.delete('/so/PostQ_SinDuplicar.csv',recursive=True)\n",
    "\n",
    "#Subir un archivo\n",
    "subirPostsA = client.upload('/so/','/home/usuarioFAI/PostA_SinDuplicar.csv')\n",
    "subirPostsQ = client.upload('/so/','/home/usuarioFAI/PostQ_SinDuplicar.csv')\n",
    "#subirVotes = client.upload('/so/','/home/usuarioFAI/Votes_SinDuplicar.csv')\n",
    "\n",
    "# Listar todos los archivos de una carpeta.\n",
    "listado = client.list('/so/')\n",
    "print(listado)"
   ]
  },
  {
   "cell_type": "code",
   "execution_count": 1,
   "id": "f492aca4-48a6-4ffd-9f5a-0e6754290a71",
   "metadata": {},
   "outputs": [],
   "source": [
    "#Segunda etapa de filtrado trabajamos solo con PostQ_SinDuplicar\n",
    "#importar la libreria\n",
    "from pyspark.sql import SparkSession"
   ]
  },
  {
   "cell_type": "code",
   "execution_count": 2,
   "id": "79d0b6a1-188f-4d9b-b254-3689ec5dc68e",
   "metadata": {},
   "outputs": [],
   "source": [
    "#abrir una sesion con un nombre\n",
    "spark=SparkSession.builder.appName('pysarkpruebas').getOrCreate()"
   ]
  },
  {
   "cell_type": "code",
   "execution_count": 3,
   "id": "d6ee52c5-def3-45be-ae0e-ad83bc249f12",
   "metadata": {},
   "outputs": [
    {
     "name": "stdout",
     "output_type": "stream",
     "text": [
      "root\n",
      " |-- _c0: string (nullable = true)\n",
      " |-- Id: string (nullable = true)\n",
      " |-- PostTypeId: string (nullable = true)\n",
      " |-- AcceptedAnswerId: string (nullable = true)\n",
      " |-- CreationDate: string (nullable = true)\n",
      " |-- Tags: string (nullable = true)\n",
      " |-- AnswerCount: string (nullable = true)\n",
      "\n"
     ]
    }
   ],
   "source": [
    "#leer archivo de PostQ_SinDuplicar (Questions) de HDFS\n",
    "#header true es para que la primera fila sea considerada los atributos y no una tupla mas\n",
    "#inferschema es para que tome los tipos de datos como son, no todo string..prueben poner false y luego imprimir el esquema\n",
    "dfq = spark.read.csv('hdfs://127.0.0.1:9000/so/PostQ_sin_body_ni_title.csv', header=True,  inferSchema=False)\n",
    "dfq.printSchema()"
   ]
  },
  {
   "cell_type": "code",
   "execution_count": 4,
   "id": "376deb21-fca1-42eb-afd5-26fd0e94e745",
   "metadata": {},
   "outputs": [
    {
     "name": "stdout",
     "output_type": "stream",
     "text": [
      "Cantidad preguntas Iniciales 145623\n",
      "Cantidad preguntas con al menos una respuesta 111622\n",
      "Cantidad preguntas con Tags no nulos 0\n",
      "Cantidad Preguntas sin Respuesta Aceptada 84037\n"
     ]
    }
   ],
   "source": [
    "\n",
    "#total de preguntas\n",
    "total = dfq.count()\n",
    "dfq_completo = dfq\n",
    "print('Cantidad preguntas Iniciales', total)\n",
    "\n",
    "#Sacamos las preguntas con al menos una respuestas\n",
    "dfq1 = dfq.filter(dfq['AnswerCount'] > 0) \n",
    "cant_preg1 = dfq1.count()\n",
    "print('Cantidad preguntas con al menos una respuesta', cant_preg1)\n",
    "\n",
    "#Sacamos los Preguntas que tengan tags nulos\n",
    "dfq2 = dfq.filter(dfq.Tags.isNull()) \n",
    "cant_preg2= dfq2.count()\n",
    "print('Cantidad preguntas con Tags no nulos', cant_preg2)\n",
    "\n",
    "#Sacamos las preguntas no aceptadas\n",
    "dfq3 = dfq.filter(dfq.AcceptedAnswerId.isNull())\n",
    "cant_preg3= dfq3.count()\n",
    "print('Cantidad Preguntas sin Respuesta Aceptada', cant_preg3)"
   ]
  },
  {
   "cell_type": "code",
   "execution_count": null,
   "id": "c2480b62-055e-4034-beb6-0440500f520b",
   "metadata": {},
   "outputs": [],
   "source": [
    "dfq_completo.show(5)"
   ]
  },
  {
   "cell_type": "code",
   "execution_count": 5,
   "id": "d30b8d55-617e-4f16-8c45-40e754b47a80",
   "metadata": {},
   "outputs": [
    {
     "name": "stdout",
     "output_type": "stream",
     "text": [
      "+---+---+----------+----------------+--------------------+--------------------+-----------+\n",
      "|_c0| Id|PostTypeId|AcceptedAnswerId|        CreationDate|                Tags|AnswerCount|\n",
      "+---+---+----------+----------------+--------------------+--------------------+-----------+\n",
      "|  0|  1|         1|               2|2015-10-29T15:56:...|<.net><asp.net-we...|          1|\n",
      "|  1|  3|         1|               9|2015-10-29T23:54:...|            <delphi>|          3|\n",
      "|  2|  5|         1|             208|2015-10-30T01:15:...|       <c++><string>|          7|\n",
      "|  3|  6|         1|             654|2015-10-30T01:36:...|      <c++><casting>|          2|\n",
      "|  4|  8|         1|             442|2015-10-30T10:26:...|<google-maps><ang...|          1|\n",
      "+---+---+----------+----------------+--------------------+--------------------+-----------+\n",
      "only showing top 5 rows\n",
      "\n",
      "+---+---+----------+----------------+--------------------+--------------------+-----------+\n",
      "|_c0| Id|PostTypeId|AcceptedAnswerId|        CreationDate|                Tags|AnswerCount|\n",
      "+---+---+----------+----------------+--------------------+--------------------+-----------+\n",
      "|  0|  1|         1|               2|2015-10-29T15:56:...|<.net><asp.net-we...|          1|\n",
      "|  1|  3|         1|               9|2015-10-29T23:54:...|            <delphi>|          3|\n",
      "|  2|  5|         1|             208|2015-10-30T01:15:...|       <c++><string>|          7|\n",
      "|  3|  6|         1|             654|2015-10-30T01:36:...|      <c++><casting>|          2|\n",
      "|  4|  8|         1|             442|2015-10-30T10:26:...|<google-maps><ang...|          1|\n",
      "+---+---+----------+----------------+--------------------+--------------------+-----------+\n",
      "only showing top 5 rows\n",
      "\n",
      "+---+---+----------+----------------+--------------------+--------------------+-----------+\n",
      "|_c0| Id|PostTypeId|AcceptedAnswerId|        CreationDate|                Tags|AnswerCount|\n",
      "+---+---+----------+----------------+--------------------+--------------------+-----------+\n",
      "|  0|  1|         1|               2|2015-10-29T15:56:...|<.net><asp.net-we...|          1|\n",
      "|  1|  3|         1|               9|2015-10-29T23:54:...|            <delphi>|          3|\n",
      "|  2|  5|         1|             208|2015-10-30T01:15:...|       <c++><string>|          7|\n",
      "|  3|  6|         1|             654|2015-10-30T01:36:...|      <c++><casting>|          2|\n",
      "|  4|  8|         1|             442|2015-10-30T10:26:...|<google-maps><ang...|          1|\n",
      "+---+---+----------+----------------+--------------------+--------------------+-----------+\n",
      "only showing top 5 rows\n",
      "\n",
      "Cantidad preguntas Finales 61586\n"
     ]
    }
   ],
   "source": [
    "#Dejamos una tabla final con todos los filtros aplicados\n",
    "df = dfq_completo.filter(dfq_completo['AnswerCount'] > 0) \n",
    "df.show(5)\n",
    "df = df.filter(df.Tags.isNotNull())\n",
    "df.show(5)\n",
    "df = df.filter(df.AcceptedAnswerId.isNotNull())\n",
    "df.show(5)\n",
    "cant_preg = df.count()\n",
    "print('Cantidad preguntas Finales', cant_preg)"
   ]
  },
  {
   "cell_type": "code",
   "execution_count": 6,
   "id": "94e645d5-715f-48fa-97b1-95396915d572",
   "metadata": {},
   "outputs": [
    {
     "name": "stdout",
     "output_type": "stream",
     "text": [
      "                                     Descripción  Cantidades\n",
      "0  Cantidad preguntas con al menos una respuesta      111622\n",
      "1           Cantidad preguntas con Tags no nulos           0\n",
      "2      Cantidad Preguntas sin Respuesta Aceptada       84037\n",
      "3                   Cantidad preguntas Iniciales      145623\n",
      "4                     Cantidad preguntas Finales       61586\n"
     ]
    }
   ],
   "source": [
    "import pandas as pd\n",
    "\n",
    "Titulos = ['Cantidad preguntas con al menos una respuesta', 'Cantidad preguntas con Tags no nulos', \n",
    "           'Cantidad Preguntas sin Respuesta Aceptada', 'Cantidad preguntas Iniciales','Cantidad preguntas Finales']\n",
    "Cantidades = []\n",
    "\n",
    "Cantidades.append(cant_preg1) #asi con cada cant\n",
    "Cantidades.append(cant_preg2) #asi con cada cant\n",
    "Cantidades.append(cant_preg3)\n",
    "Cantidades.append(total) #asi con cada cant\n",
    "Cantidades.append(cant_preg) #asi con cada cant\n",
    "\n",
    "dfres = pd.DataFrame({'Descripción':Titulos, 'Cantidades':Cantidades})\n",
    "\n",
    "#df.show() #verificar si funciona\n",
    "\n",
    "print(dfres)\n",
    "#lo guardamos \n",
    "dfres.to_csv('resumen_parte2.csv') "
   ]
  },
  {
   "cell_type": "code",
   "execution_count": 7,
   "id": "989e13cd-87c1-45ce-89ea-56eacc2a9de6",
   "metadata": {},
   "outputs": [],
   "source": [
    "#guardamos PostQ_Final en un csv\n",
    "df.toPandas().to_csv('PostQ_Final.csv')"
   ]
  },
  {
   "cell_type": "code",
   "execution_count": 8,
   "id": "fa3e752d-fc51-46ff-b67d-e3da207e9e36",
   "metadata": {},
   "outputs": [
    {
     "name": "stdout",
     "output_type": "stream",
     "text": [
      "61586\n"
     ]
    }
   ],
   "source": [
    "print(df.count())"
   ]
  },
  {
   "cell_type": "code",
   "execution_count": null,
   "id": "f4586094-f518-41f2-80b4-520100415ee4",
   "metadata": {},
   "outputs": [],
   "source": []
  }
 ],
 "metadata": {
  "kernelspec": {
   "display_name": "Python 3",
   "language": "python",
   "name": "python3"
  },
  "language_info": {
   "codemirror_mode": {
    "name": "ipython",
    "version": 3
   },
   "file_extension": ".py",
   "mimetype": "text/x-python",
   "name": "python",
   "nbconvert_exporter": "python",
   "pygments_lexer": "ipython3",
   "version": "3.9.4"
  }
 },
 "nbformat": 4,
 "nbformat_minor": 5
}
