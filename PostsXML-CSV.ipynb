{
 "cells": [
  {
   "cell_type": "code",
   "execution_count": null,
   "id": "91c0de20-dc8a-4736-a2ef-00da3a5e6ccf",
   "metadata": {
    "tags": []
   },
   "outputs": [],
   "source": [
    "import xml.etree.ElementTree as etree\n",
    "\n",
    "xmlString= \"<posts><row Id='1' PostTypeId='1' AcceptedAnswerId='11' CreationDate='2015-10-30T14:33:50.523' Score='24' ViewCount='2359' Body='&lt;p&gt;Dado el siguiente cÃ³digo en TypeScript&lt;' OwnerUserId='20' LastEditorUserId='20' LastEditDate='2019-05-09T17:55:48.290' LastActivityDate='2019-05-09T17:55:48.290' Title='Â¿CÃ³mo definir mÃ©todos correctamente en TypeScript?' Tags='&lt;typescript&gt;' AnswerCount='1' CommentCount='0' FavoriteCount='4' ContentLicense='CC BY-SA 3.0'/></posts>\"\n",
    "xml= etree.fromstring(xmlString)  \n",
    "\n",
    "def get_attr(xml):\n",
    "    attributes = []\n",
    "    for child in (xml):\n",
    "        if len(child.attrib)!= 0:\n",
    "            attributes.append(child.attrib)\n",
    "        get_attr(child)\n",
    "    return attributes\n",
    "\n",
    "attributes = get_attr(xml)\n",
    "\n",
    "print(attributes)"
   ]
  },
  {
   "cell_type": "code",
   "execution_count": 23,
   "id": "different-jungle",
   "metadata": {},
   "outputs": [],
   "source": [
    "import xml.etree.ElementTree as ET #importa la libreria que parsea xmls y la referencia como ET\n",
    "import pandas as pd\n",
    "IdQ = []\n",
    "PostTypeIdQ = []\n",
    "AcceptedAnswerIdQ = []\n",
    "CreationDateQ = []\n",
    "BodyQ =[]\n",
    "TitleQ = []\n",
    "TagsQ = []\n",
    "AnswerCountQ = []\n",
    "IdA = []\n",
    "PostTypeIdA = []\n",
    "ParentIdA = []\n",
    "CreationDateA = []\n",
    "ScoreA = []\n",
    "BodyA = []\n",
    "\n",
    "\n",
    "\n",
    "\n",
    "\n",
    "archivo_xml = ET.parse('Tags.xml') #parsea el archivo de Tags\n",
    "raiz = archivo_xml.getroot() #obtiene el elemento raiz\n",
    "for hijo in raiz: #itera sobre los hijos de raiz\n",
    "    if (hijo.attrib.get('PostTypeId') == \"1\") :\n",
    "        IdQ.append(hijo.attrib.get('Id'))\n",
    "        PostTypeIdQ.append(hijo.attrib.get('PostTypeId'))\n",
    "        AcceptedAnswerIdQ.append(hijo.attrib.get('AcceptedAnswerId'))\n",
    "        CreationDateQ.append(hijo.attrib.get('CreationDate'))\n",
    "        BodyQ.append(hijo.attrib.get('Body'))\n",
    "        TitleQ.append(hijo.attrib.get('Title'))\n",
    "        TagsQ.append(hijo.attrib.get('Tags'))\n",
    "        AnswerCountQ.append(hijo.attrib.get('AnswerCount'))\n",
    "        print(hijo.attrib.get('PostTypeId'))\n",
    "    elif (hijo.attrib.get('PostTypeId') == \"2\") :\n",
    "        IdA.append(hijo.attrib.get('Id'))\n",
    "        PostTypeIdA.append(hijo.attrib.get('PostTypeId'))\n",
    "        ParentIdA.append(hijo.attrib.get('ParentId'))\n",
    "        CreationDateA.append(hijo.attrib.get('CreationDate'))\n",
    "        ScoreA.append(hijo.attrib.get('Score'))\n",
    "        BodyA.append(hijo.attrib.get('Body'))\n",
    "    else :\n",
    "        IdA.append(hijo.attrib.get('Id'))\n",
    "        BodyO.append(hijo.attrib.get('Body'))\n",
    "        \n",
    "dfQ = pd.DataFrame({'Id':IdQ, 'PostTypeId':PostTypeIdQ, 'AcceptedAnswerId':AcceptedAnswerIdQ, 'CreationDate':CreationDateQ, 'Body':BodyQ, 'Title':TitleQ, 'Tags':TagsQ, 'AnswerCount':AnswerCountQ})\n",
    "dfQ.to_csv('PostQ.csv')\n",
    "\n",
    "dfA = pd.DataFrame({'Id':IdA, 'PostTypeId':PostTypeIdA, 'ParentId':ParentIdA, 'CreationDate':CreationDateA, 'Score':ScoreA,'Body':BodyA})\n",
    "dfA.to_csv('PostA.csv')\n"
   ]
  },
  {
   "cell_type": "code",
   "execution_count": null,
   "id": "brave-biology",
   "metadata": {},
   "outputs": [],
   "source": []
  }
 ],
 "metadata": {
  "kernelspec": {
   "display_name": "Python 3",
   "language": "python",
   "name": "python3"
  },
  "language_info": {
   "codemirror_mode": {
    "name": "ipython",
    "version": 3
   },
   "file_extension": ".py",
   "mimetype": "text/x-python",
   "name": "python",
   "nbconvert_exporter": "python",
   "pygments_lexer": "ipython3",
   "version": "3.9.4"
  }
 },
 "nbformat": 4,
 "nbformat_minor": 5
}
