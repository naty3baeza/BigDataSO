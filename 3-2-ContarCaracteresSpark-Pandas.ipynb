{
 "cells": [
  {
   "cell_type": "markdown",
   "id": "b7d140f6-c404-455f-afbb-969154396b44",
   "metadata": {},
   "source": [
    "## Primeros pasos en analítica de texto con MapReduce y Pandas"
   ]
  },
  {
   "cell_type": "code",
   "execution_count": 1,
   "id": "c45a7a2d-df58-46e0-9b5f-74a08d97d147",
   "metadata": {},
   "outputs": [],
   "source": [
    "from pyspark.sql import SparkSession\n",
    "#from operator import max"
   ]
  },
  {
   "cell_type": "code",
   "execution_count": 2,
   "id": "a3eb303b-905f-4558-889e-19f6c64be6ad",
   "metadata": {},
   "outputs": [],
   "source": [
    "import pandas as pd"
   ]
  },
  {
   "cell_type": "code",
   "execution_count": 4,
   "id": "4d17fa1b-310b-4c0f-bdea-b10b53421113",
   "metadata": {},
   "outputs": [],
   "source": [
    "postA = pd.read_csv('PostA.csv')"
   ]
  },
  {
   "cell_type": "code",
   "execution_count": 5,
   "id": "afff6764-37ae-48de-96ec-c328889fe605",
   "metadata": {},
   "outputs": [],
   "source": [
    "pa = postA[0:20]"
   ]
  },
  {
   "cell_type": "code",
   "execution_count": 6,
   "id": "02ffec17-a557-4ecc-a120-2af515fe2702",
   "metadata": {},
   "outputs": [
    {
     "name": "stdout",
     "output_type": "stream",
     "text": [
      "    Unnamed: 0  Id  PostTypeId  ParentId             CreationDate  Score  \\\n",
      "0            0   2           2         1  2015-10-29T19:14:23.673     26   \n",
      "1            1   4           2         3  2015-10-30T00:45:47.640      5   \n",
      "2            2   7           2         5  2015-10-30T05:30:50.993     24   \n",
      "3            3   9           2         3  2015-10-30T13:59:47.113     11   \n",
      "4            4  11           2        10  2015-10-30T14:43:43.737     24   \n",
      "5            5  17           2        16  2015-10-30T20:36:12.323      2   \n",
      "6            6  18           2        12  2015-10-31T01:15:02.047     13   \n",
      "7            7  23           2        12  2015-10-31T02:54:43.877      9   \n",
      "8            8  25           2        24  2015-10-31T19:39:29.827     12   \n",
      "9            9  30           2        29  2015-11-01T16:27:13.990      3   \n",
      "10          10  31           2        27  2015-11-01T20:08:49.687     16   \n",
      "11          11  32           2         6  2015-11-02T08:22:24.010      4   \n",
      "12          12  38           2        33  2015-11-02T16:04:43.910     39   \n",
      "13          13  39           2        37  2015-11-02T16:46:25.517      9   \n",
      "14          14  40           2        36  2015-11-02T17:08:19.893    179   \n",
      "15          15  42           2        41  2015-11-02T17:35:20.393      8   \n",
      "16          16  43           2        35  2015-11-02T17:57:01.243     36   \n",
      "17          17  44           2        41  2015-11-02T18:10:38.193      6   \n",
      "18          18  45           2        33  2015-11-03T20:00:54.010      5   \n",
      "19          19  49           2        48  2015-11-06T11:05:42.867      6   \n",
      "\n",
      "                                                 Body  \n",
      "0   <p>He encontrado la solución.</p>\\n\\n<p>Result...  \n",
      "1   <p><code>.AsString</code> devuelve el mismo \"<...  \n",
      "2   <p>Lo de elegancia es algo difícil de decir, e...  \n",
      "3   <p>Antes de responder directamente la respuest...  \n",
      "4   <p>En el primer caso:</p>\\n\\n<pre><code>nombre...  \n",
      "5   <p>Para realizar esta operación, ejecuta <code...  \n",
      "6   <p>Como ya mencioné yo no uso Perl, pero miran...  \n",
      "7   <p><em>voy a sumarme con la parte de la pregun...  \n",
      "8   <p>Creo que <a href=\"https://hexdocs.pm/elixir...  \n",
      "9   <p>Los <code>FPS</code> varian porque solo se ...  \n",
      "10  <p>Podes cambiar el layout para un controlador...  \n",
      "11  <p><strong><code>static_cast</code></strong> e...  \n",
      "12  <p>Puedes usar la función <code>is()</code> ju...  \n",
      "13  <p>No se puede reutilizar una columna marcada ...  \n",
      "14  <p>Asumiendo que se está haciendo un <code>joi...  \n",
      "15  <p>Lo que debes hacer es instalar bower, los r...  \n",
      "16  <p>En algún punto de esta documentación de MyS...  \n",
      "17  <p>Así es como lo hice yo: (para VS2015, sdk 1...  \n",
      "18  <p>Podés usar lo siguiente </p>\\n\\n<pre><code>...  \n",
      "19  <p>He acabado implementando un <a href=\"http:/...  \n"
     ]
    }
   ],
   "source": [
    "print(pa)"
   ]
  },
  {
   "cell_type": "code",
   "execution_count": 7,
   "id": "d61fad63-b8a5-4152-97f4-48404e3b6cbe",
   "metadata": {},
   "outputs": [],
   "source": [
    "pa = pa.drop(['Unnamed: 0', 'PostTypeId', 'CreationDate'],axis = 1)"
   ]
  },
  {
   "cell_type": "code",
   "execution_count": 8,
   "id": "ea5a0201-6d66-4508-b6c3-d87b59de772b",
   "metadata": {},
   "outputs": [
    {
     "name": "stdout",
     "output_type": "stream",
     "text": [
      "    Id  ParentId  Score                                               Body\n",
      "0    2         1     26  <p>He encontrado la solución.</p>\\n\\n<p>Result...\n",
      "1    4         3      5  <p><code>.AsString</code> devuelve el mismo \"<...\n",
      "2    7         5     24  <p>Lo de elegancia es algo difícil de decir, e...\n",
      "3    9         3     11  <p>Antes de responder directamente la respuest...\n",
      "4   11        10     24  <p>En el primer caso:</p>\\n\\n<pre><code>nombre...\n",
      "5   17        16      2  <p>Para realizar esta operación, ejecuta <code...\n",
      "6   18        12     13  <p>Como ya mencioné yo no uso Perl, pero miran...\n",
      "7   23        12      9  <p><em>voy a sumarme con la parte de la pregun...\n",
      "8   25        24     12  <p>Creo que <a href=\"https://hexdocs.pm/elixir...\n",
      "9   30        29      3  <p>Los <code>FPS</code> varian porque solo se ...\n",
      "10  31        27     16  <p>Podes cambiar el layout para un controlador...\n",
      "11  32         6      4  <p><strong><code>static_cast</code></strong> e...\n",
      "12  38        33     39  <p>Puedes usar la función <code>is()</code> ju...\n",
      "13  39        37      9  <p>No se puede reutilizar una columna marcada ...\n",
      "14  40        36    179  <p>Asumiendo que se está haciendo un <code>joi...\n",
      "15  42        41      8  <p>Lo que debes hacer es instalar bower, los r...\n",
      "16  43        35     36  <p>En algún punto de esta documentación de MyS...\n",
      "17  44        41      6  <p>Así es como lo hice yo: (para VS2015, sdk 1...\n",
      "18  45        33      5  <p>Podés usar lo siguiente </p>\\n\\n<pre><code>...\n",
      "19  49        48      6  <p>He acabado implementando un <a href=\"http:/...\n"
     ]
    }
   ],
   "source": [
    "print(pa)"
   ]
  },
  {
   "cell_type": "code",
   "execution_count": 9,
   "id": "47c76b50-b6a4-4ff4-8772-69422613821f",
   "metadata": {},
   "outputs": [
    {
     "name": "stdout",
     "output_type": "stream",
     "text": [
      "Cantidad de letras por palabra [(688, '<p>He encontrado la solución.</p>\\n\\n<p>Resulta que las rutas tienen asignada una <strong>precedencia</strong> numérica asignada, que el motor de enrutamiento de WebApi usa para decidir qué ruta usar en caso de conflicto. Las rutas creadas automáticamente para una misma acción siempre tienen una precedencia distinta, ¡pero la ruta que yo estaba creando manualmente tenía la misma precedencia que la ya existente!</p>\\n\\n<p>Así pues la solución es añadir lo siguiente a <code>GetActionDirectRoutes</code>, inmediatamente después de <code>new RouteEntry</code>:</p>\\n\\n<pre><code>entry.Route.DataTokens[\"precedence\"] = \\n    ((decimal)route.Route.DataTokens[\"precedence\"]) - 0.1M;\\n</code></pre>\\n'), (546, '<p><code>.AsString</code> devuelve el mismo \"<em>string</em>\" que la propiedad <code>.Text</code> si no existe ningún controlador de eventos \"Event Handler\", <code>OnGetText</code>, pero de existir uno puede darse el caso de ser diferente, o quizás un descendiente en <code>TField</code> que no sea el estándar podría ocasionar que fuera diferente.</p>\\n\\n<p>Saludos y espero ayude.</p>\\n\\n<p>P.D: Sobre si hay una razón para usar una u otra no sabría decirle con total certeza eso dependería del uso que tenga previsto para el valor de retorno.</p>\\n'), (1593, '<p>Lo de elegancia es algo difícil de decir, es cuestión de gustos. Pero la legibilidad del código siempre es importante. Por eso, este código se puede simplificar así: (a mi me parece más legible)</p>\\n\\n<pre><code>std::string tempStr;\\nwhile(isstream &gt;&gt; tempStr) {\\n    std::cout &lt;&lt; tempStr &lt;&lt; std::endl;\\n}\\n</code></pre>\\n\\n<p>Con lo cual, metiendo todo en una función quedaría algo así:</p>\\n\\n<pre><code>std::vector&lt;std::string&gt; split_istringstream(std::string str) {\\n    std::vector&lt;std::string&gt; resultado;\\n    std::istringstream isstream(str);\\n    std::string palabra;\\n\\n    while(isstream &gt;&gt; palabra){\\n        resultado.push_back(palabra);\\n    }\\n\\n    return resultado;\\n}\\n</code></pre>\\n\\n<p>Otra alternativa, que incluso permite definir el delimitador (el operador >> de <code>istringstream</code> solo divide la cadena por los espacios - ASCII 32) es utilizar <a href=\"http://es.cppreference.com/w/cpp/string/basic_string/getline\" rel=\"noreferrer\">std::getline</a>. </p>\\n\\n<pre><code>std::vector&lt;std::string&gt; split_getline(std::string str, char delim) {\\n    std::vector&lt;std::string&gt; resultado;\\n    std::istringstream isstream(str);\\n    std::string palabra;\\n\\n    while(std::getline(isstream, palabra, delim)){\\n        resultado.push_back(palabra);\\n    }\\n\\n    return resultado;\\n}\\n</code></pre>\\n\\n<p>Aquí abajo te dejo una comparativa entre ambas opciones, son prácticamente iguales en eficiencia, dejando de un lado los vectores, reservan prácticamente la misma memoria.</p>\\n\\n<p><a href=\"http://cpp.sh/3jtw\" rel=\"noreferrer\">http://cpp.sh/3jtw</a></p>\\n'), (3600, '<p>Antes de responder directamente la respuesta, hablaremos de las propiedades relevantes de TField y sus descendientes.</p>\\n\\n<h1><code>Text</code>/<code>DisplayText</code></h1>\\n\\n<p>Ambas propiedades sirven para obtener una representación textual del valor del campo para su uso en la Interfaz de Usuario. \\nEl propósito de la propiedad <code>Text</code> es el de obtener una representación textual del campo cuándo está siendo editado en un control asociado a datos (Data Aware), en contraste con la propiedad <code>DisplayText</code> que proporciona el valor del campo con formato de visualización para el usuario, por ejemplo, puede contener caracteres de puntuación u otra decoración al valor plano. (1234.50 en contraste con 1,234.50).</p>\\n\\n<p>En otras palabras, un <code>TdbEdit</code> o controles similares, mostrarán el valor de <code>DisplayText</code> cuándo no están siendo editados, y al recibir el foco, cambiarán el valor al de la propiedad <code>Text</code> y es este valor el que el usuario \"edita\". Un TdbLabel solamente tira de la propiedad <code>DisplayText</code>, ya que no es editable.</p>\\n\\n<p>La documentación para <code>Text</code> dice:</p>\\n\\n<blockquote>\\n  <p>Contains the string to display in a data-aware control when the field is in edit mode</p>\\n</blockquote>\\n\\n<p>Un ejemplo típico es un <code>TFloatField</code> con la propiedad <code>Currency</code> establecida a <code>True</code>. La propiedad DisplayText te devuelve el string con el número conteniendo separadores de miles, el separador decimal y el símbolo de la moneda. La propiedad Text, te devuelve una cadena que no contiene separadores de miles ni símbolo de moneda.</p>\\n\\n<pre><code>begin\\n  MyFloatField.Currency := True;\\n  MyFloatField.AsFloat := 1234.56;\\n  A := MyFloatField.Text; //\\'1234.56\\'\\n  B := MyFloatField.DisplayText; //\\'$1,234.56\\', depends on your locale\\n  ShowMessage(A + #13 + B);\\nend;\\n</code></pre>\\n\\n<p>El comportamiento de ambas propiedades puede ser personalizado escribiendo un manejador de eventos para <code>OnGetText</code>, dónde se puede escribir la lógica para convertir el valor del campo en una de ambas representaciones textuales. El parámetro booleano <code>DisplayText</code> indica si la cadena solicitada es para representar el valor en la interfaz de usuario o para edición. </p>\\n\\n<p>De esta manera, podemos lograr que la representación en la interfaz de usuario para un campo entero con valor 1 sea \\'uno\\', y su valor para edición sea \\'one\\'</p>\\n\\n<h1><code>AsString</code></h1>\\n\\n<p>Por otro lado, la propiedad AsString utiliza una conversión plana entre el tipo de dato base del campo y una cadena de caracteres. Cada descendiente de <code>TField</code> implementa el método virtual <code>GetAsString</code> que típicamente utiliza funciones de la RTL para realizar la conversión. Siguiendo con el ejemplo de TFloatField, esta clase llama a la función FloatToStr() para realizar la conversión.</p>\\n\\n<h1>La respuesta</h1>\\n\\n<p>Dicho todo esto, la respuesta a la pregunta sería:</p>\\n\\n<p>AsString retorna usualmente el mismo valor que retorna la propiedad Text, siempre que no haya un manejador de evento para OnGetText, pero la representación podría ser diferente si hubiese un manejador de evento o un descendiente no estándar de TField.</p>\\n\\n<p>Con la información dada, no puede decirse cuál es más apropiado, ya que esto depende de cuál es el uso que se le dará al valor retornado. Si se está utilizando para mostrar valores en la Interfaz de usuario, como se muestra en los ejemplos de código proporcionados, mi consejo es que utilices la propiedad <code>DisplayText</code>.</p>\\n'), (885, '<p>En el primer caso:</p>\\n\\n<pre><code>nombreCompleto1 = () =&gt; {\\n    return this.nombre + \" \" + this.apellido;\\n}\\n</code></pre>\\n\\n<p>estás creando un <em>método de instancia</em>, es equivalente a ejecutar <code>this.nombreCompleto1 = function() {...}</code> en JavaScript.</p>\\n\\n<p>En el segundo caso:</p>\\n\\n<pre><code>nombreCompleto2() {\\n    return this.nombre + \" \" + this.apellido;\\n}\\n</code></pre>\\n\\n<p>estás creando un <em>método de prototipo</em>, es equivalente a <code>Persona.prototype.nombreCompleto2 = function() {...}</code> en JavaScript.</p>\\n\\n<p>En general es preferible crear métodos de prototipo: en tal caso el método se define una sola vez, mientras que los métodos de instancia se crean una vez por instancia, consumiendo más memoria.</p>\\n\\n<p>Más información: <a href=\"http://www.johnpapa.net/typescriptpost3\" rel=\"noreferrer\">TypeScript Classes and Interfaces</a></p>\\n'), (456, '<p>Para realizar esta operación, ejecuta <code>Xcode</code> como <code>root</code> con el comando <a href=\"https://es.wikipedia.org/wiki/Sudo\" rel=\"nofollow\"><code>sudo</code></a> e instala dentro de esa sesión:</p>\\n\\n<pre><code>sudo /Applications/Xcode.app/Contents/MacOS/Xcode\\n</code></pre>\\n\\n<p>Una vez hayas instalados debes salir e iniciar normalmente.</p>\\n\\n<p>Debes tener precaución si tienes proyectos abiertos cuando usas sudo para lanzar Xcode.</p>\\n'), (1849, '<p>Como ya mencioné yo no uso Perl, pero mirando la documentación en una parte de ella dice lo siguiente:</p>\\n\\n<blockquote>\\n  <p>\"Si el desplazamiento es más allá del final de la matriz, Perl emite\\n  una advertencia, y (Perl) empalma/splice en el extremo de la matriz.\"</p>\\n</blockquote>\\n\\n<p><em>...If OFFSET is past the end of the array, Perl issues a warning, and splices at the end of the array.</em></p>\\n\\n<p>De echo he revisado en varias versiones y es lo mismo por lo menos la documentación advierten sobre el <em>warning</em>.</p>\\n\\n<p>Aquí le dejo los links (en Inglés); </p>\\n\\n<ul>\\n<li><p><a href=\"http://perldoc.perl.org/5.16.2/functions/splice.html\" rel=\"noreferrer\" title=\"http://perldoc.perl.org/5.16.2/functions/splice.html\">Perl v 5.16.2</a></p></li>\\n<li><p><a href=\"http://perldoc.perl.org/5.20.0/functions/splice.html\" rel=\"noreferrer\" title=\"http://perldoc.perl.org/5.20.0/functions/splice.html\">Perl v 5.20.0</a></p></li>\\n<li><p><a href=\"http://perldoc.perl.org/functions/splice.html\" rel=\"noreferrer\" title=\"http://perldoc.perl.org/functions/splice.html\">Perl v 5.22</a></p></li>\\n</ul>\\n\\n<p>Según lo anterior lo normal es el <em>warning</em>, pero por lo que se puede ver en el siguiente link, no en todas las versiones es así y también depende del OS.</p>\\n\\n<p><a href=\"http://www.nntp.perl.org/group/perl.perl5.porters/2013/04/msg201134.html\" rel=\"noreferrer\">http://www.nntp.perl.org/group/perl.perl5.porters/2013/04/msg201134.html</a></p>\\n\\n<p>Creo que eso ocurre entre la <code>5.14</code> y <code>5.16</code> en algunos sistemas, aquí puede ver la notificación de bug pero quizás también le suceda a usted en la <code>5.20</code> debido a su OS y no es que haya cambiado algo. </p>\\n\\n<p><a href=\"https://rt.perl.org/Public/Bug/Display.html?id=117729\" rel=\"noreferrer\">https://rt.perl.org/Public/Bug/Display.html?id=117729</a></p>\\n'), (643, '<p><em>voy a sumarme con la parte de la pregunta que no se ha respondido aun: <strong>¿Por qué cambió?</em></strong></p>\\n\\n<p>Cambio por que la intención de este código:</p>\\n\\n<pre><code>my @x = qw( 1 2 3 4 5 );\\nsplice(@x, 3);\\n</code></pre>\\n\\n<p>es claramente truncar el array si es demasiado largo y <em>no hay razon para emitir una advertencia si el array tiene <strong>menos</strong> elementos que el máximo especificado</em> (como en el caso citado en la pregunta)</p>\\n\\n<p><a href=\"http://perl5.git.perl.org/perl.git/commitdiff/5cd408a276e19848774860967c3ec06b67b863ee?hp=0890f1a536cff0aff68038cae78e02c9d9b6a2b2\">Fuente (en Inglés)</a> </p>\\n'), (343, '<p>Creo que <a href=\"https://hexdocs.pm/elixir/Enum.html#to_list/1\" rel=\"nofollow noreferrer\">esto</a> es lo que usted esta buscando</p>\\n\\n<p><strong>to_list (colección)</strong></p>\\n\\n<p><strong><em>Convierte la colección a una lista</em></strong></p>\\n\\n<pre><code>iex&gt; Enum.to_list 1..5\\n[1, 2, 3, 4, 5]\\n</code></pre>\\n\\n<p>espero le ayude</p>\\n'), (2350, '<p>Los <code>FPS</code> varian porque solo se solicita un marco cuando es necesario. por ejemplo si la imagen no cambia o es un fondo oscuro la tasa se puede reducir a una tasa más baja, ademas cuando se ejecuta en las pestañas de fondo tambien pude darse el caso para mejorar el rendimiento y la duración de la batería.</p>\\n\\n<p>Puede mirar este caso como se \"ajustan los frames\" usando: <code>startAnimating(5)</code>;\\n<a href=\"http://jsfiddle.net/m1erickson/CtsY3/\" rel=\"nofollow noreferrer\">jsfiddle</a></p>\\n\\n<p><div class=\"snippet\" data-lang=\"js\" data-hide=\"false\" data-console=\"true\" data-babel=\"false\">\\r\\n<div class=\"snippet-code\">\\r\\n<pre class=\"snippet-code-js lang-js prettyprint-override\"><code>var stop = false;\\r\\nvar frameCount = 0;\\r\\nvar $results = $(\"#results\");\\r\\nvar fps, fpsInterval, startTime, now, then, elapsed;\\r\\n\\r\\nstartAnimating(5);\\r\\n\\r\\nfunction startAnimating(fps) {\\r\\n    fpsInterval = 1000 / fps;\\r\\n    then = Date.now();\\r\\n    startTime = then;\\r\\n    console.log(startTime);\\r\\n    animate();\\r\\n}\\r\\n\\r\\n\\r\\nfunction animate() {\\r\\n\\r\\n    // stop\\r\\n    if (stop) {\\r\\n        return;\\r\\n    }\\r\\n\\r\\n    // request another frame\\r\\n\\r\\n    requestAnimationFrame(animate);\\r\\n\\r\\n    // calc elapsed time since last loop\\r\\n\\r\\n    now = Date.now();\\r\\n    elapsed = now - then;\\r\\n\\r\\n    // if enough time has elapsed, draw the next frame\\r\\n\\r\\n    if (elapsed &gt; fpsInterval) {\\r\\n\\r\\n        // Get ready for next frame by setting then=now, but...\\r\\n        // Also, adjust for fpsInterval not being multiple of 16.67\\r\\n        then = now - (elapsed % fpsInterval);\\r\\n\\r\\n        // draw stuff here\\r\\n\\r\\n\\r\\n        // TESTING...Report #seconds since start and achieved fps.\\r\\n        var sinceStart = now - startTime;\\r\\n        var currentFps = Math.round(1000 / (sinceStart / ++frameCount) * 100) / 100;\\r\\n        $results.text(\"Elapsed time= \" + Math.round(sinceStart / 1000 * 100) / 100 + \" secs @ \" + currentFps + \" fps.\");\\r\\n\\r\\n    }\\r\\n}</code></pre>\\r\\n<pre class=\"snippet-code-html lang-html prettyprint-override\"><code>&lt;script src=\"https://ajax.googleapis.com/ajax/libs/jquery/1.9.1/jquery.min.js\"&gt;&lt;/script&gt;\\r\\n&lt;h3&gt;Throttling requestAnimationFrame to a FPS&lt;/h3&gt;\\r\\n&lt;p&gt;This test:  Results should be approximately 5 fps\\r\\n&lt;p id=\"results\"&gt;Results:&lt;/p&gt;\\r\\n&lt;canvas id=\"canvas\" width=300 height=300&gt;&lt;/canvas&gt;</code></pre>\\r\\n</div>\\r\\n</div>\\r\\n</p>\\n'), (871, '<p>Podes cambiar el layout para un controlador o una acción del controlador, una manera de mostrar una vista con otro layout cuando el usuario no esta registrado seria así:</p>\\n\\n<pre><code>class MyController &lt; ApplicationController\\n\\n  def my_action\\n    if current_user.nil?\\n      render layout: \"new_user_layout\"\\n    else\\n      render layout: \"member_layout\"\\n    end\\n  end\\n\\nend\\n</code></pre>\\n\\n<p>Para cambiar el layout de todos los controladores que heredan de ApplicationController seria lo siguiente:</p>\\n\\n<pre><code>class ApplicationController &lt; ActionController::Base\\n  layout :users_layout\\n\\n  private\\n    def users_layout\\n      current_user.nil? ? \"new_user_layout\" : \"member_layout\"\\n    end\\n\\nend \\n</code></pre>\\n\\n<p>En las <a href=\"http://guides.rubyonrails.org/layouts_and_rendering.html\">guias de rails</a> podes encontrar más información sobre layouts.</p>\\n'), (4044, '<p><strong><code>static_cast</code></strong> es lo primero que deberías intentar usar. Es capaz de realizar conversiones implícitas entre tipos (como <code>int</code> a<code>float</code>, o puntero a <code>void*</code>),  y también puede realizar llamadas a funciones explícitas de conversión (o implícitas). En muchos casos no es necesario especificar <code>static_cast</code> explícitamente, pero hay que tener en cuenta que la sintaxis <code>T(algo)</code> es equivalente a <code>(T)algo</code> y debería evitarse (más sobre esto después). <code>T(algo, algo_mas)</code> sin embargo es seguro, y siempre invoca al constructor.</p>\\n\\n<p><code>static_cast</code> también puede realizar conversiones a través de jerarquías de herencia. No es necesario al convertir hacia arriba (hacia una clase base), pero al convertir hacia abajo puede usarse siempre que no se esté realizando conversión a través de herencia <code>virtual</code>. Eso sí, no realiza comprobaciones, y el comportamiento de un <code>static_cast</code> hacia un tipo inferior en la jerarquía que no es en realidad el tipo del objeto no está definido.</p>\\n\\n<hr>\\n\\n<p><strong><code>const_cast</code></strong> se puede usar para añadir o quitar <code>const</code> a una variable; ningún otro conversor de C++ puede hacer eso (ni siquiera <code>reinterpret_cast</code>). Hay que tener en cuenta que la operación de modificar un valor que era <code>const</code> no está definida sólo si la variable original es <code>const</code>; sí es seguro usarlo para quitar el <code>const</code> de una referencia a algo que no estaba declarado con <code>const</code>. Esto puede ser útil al sobrecargar funciones miembro basadas en <code>const</code>, por ejemplo. También puede usarse para añadir <code>const</code> a un objecto, por ejemplo para invocar una sobrecarga de una función miembro.</p>\\n\\n<p><code>const_cast</code> funciona de forma similar en <code>volatile</code>, aunque no es tan común.</p>\\n\\n<hr>\\n\\n<p><strong><code>dynamic_cast</code></strong> se usa casi exclusivamente para gestionar polimorfismo. Puedes convertir un puntero o referencia de un tipo polimórfico a cualquier otro tipo de clase (un tipo polimórfico tiene al menos una función virtual, declarada o heredada). Puedes usarlo para más que simplemente convertir hacia abajo -- puedes convertir lateralmente o incluso hacia arriba en otra cadena. <code>dynamic_cast</code> buscará el objeto deseado y lo devolverá si es posible; si no lo es devolverá <code>NULL</code> para punteros, o lanzará <code>std::bad_cast</code> para referencias.</p>\\n\\n<p><code>dynamic_cast</code> tiene sin embargo algunas limitaciones. No funciona si hay múltiples objectos del mismo tipo en la jerarquía de herencia (lo que se conoce como \\'herencia en diamante\\') y si no estás usando herencia <code>virtual</code>. Además sólo puede recorrer la herencia pública. No es capaz de recorrer la herencia <code>protected</code> ni la <code>private</code>. Esto no obstante es raramente un problema, ya que dichos tipos de herencia apenas se usan.</p>\\n\\n<hr>\\n\\n<p><strong><code>reinterpret_cast</code></strong> es la conversión más peligrosa. Convierte un tipo directamente en otro - como por ejemplo convertir un puntero en otro, o almacenar un puntero en un <code>int</code>, y todo tipo de cosas no recomendables. Principalmente, la única garantía que obtienes con <code>reinterpret_cast</code> es que sin conviertes de vuelta al tipo original, obtendrás exactamente el mismo valor (pero <strong>no</strong> en el caso de que el tipo intermedio sea más pequeño que el original). También hay unas cuantas conversiones que <strong><code>reinterpret_cast</code></strong> no puede hacer. Se usa principalmente para conversiones extrañas y manipulaciones de bit, como convertir un stream directamente en datos, o almacenar datos en los bits bajos de un puntero alineado.</p>\\n\\n<p><strong><em>Fuente</em></strong>: <a href=\"https://stackoverflow.com/a/332086/4574\">When should static_cast, dynamic_cast, const_cast and reinterpret_cast be used?</a></p>\\n'), (479, '<p>Puedes usar la función <code>is()</code> junto con el selector <code>:visible</code> sobre un objeto jquery ya existente.</p>\\n\\n<p>Por ejemplo, si tienes un div con id: \"elemento\" puedes saber si éste está visible o no de esta manera:</p>\\n\\n<pre><code>var esVisible = $(\"#elemento\").is(\":visible\");\\n</code></pre>\\n\\n<p>Para mas información revisa la documentación de <a href=\"http://api.jquery.com/is/\">is</a> y <a href=\"https://api.jquery.com/visible-selector/\">:visible</a></p>\\n'), (1996, '<p>No se puede reutilizar una columna marcada como <em>unused</em>. La única acción posible sobre esta columna es eliminarla de la tabla.</p>\\n\\n<p>Lo que se puede hacer es añadir una nueva columna con el mismo nombre, aún sin haber eliminado la anterior.</p>\\n\\n<p>Mi traducción libre de la <a href=\"http://docs.oracle.com/cd/B28359_01/server.111/b28310/tables006.htm#ADMIN11666\">Documentación</a> sería:</p>\\n\\n<blockquote>\\n  <p>La sentencia ALTER TABLE...DROP UNUSED COLUMNS es la única acción permitida en columnas <em>unused</em>. Esta remueve físicamente las columnas de la tabla y libera el espacio en disco.</p>\\n  \\n  <p>La sentencia ALTER TABLE que sigue, especifica la cláusula opcional CHECKPOINT. Esta cláusula ocasiona que se aplique un punto de chequeo (checkpoint) luego de procesar el número especificado de filas, en este caso 250. Realizar puntos de chequeo reduce la cantidad de <em>undo log</em> que se acumula durante la operación de borrado de la columna para evitar un potencial agotamiento el espacio de <em>undo</em> disponible.</p>\\n\\n<pre><code>ALTER TABLE hr.admin_emp DROP UNUSED COLUMNS CHECKPOINT 250;\\n</code></pre>\\n</blockquote>\\n\\n<p>Y esa otra (el énfasis es mío):</p>\\n\\n<blockquote>\\n  <h1>Marcar columnas como no utilizadas (<em>unused</em>)</h1>\\n  \\n  <p>Si te preocupa la cantidad de tiempo que puede tomar eliminar los datos de una columna de todas las filas en una tabla grande, puedes utilizar la sentencia <code>ALTER TABLE...SET UNUSED</code>. Esta sentencia marca una o más columnas como no utilizadas, pero no elimina realmente los datos de la misma ni libera el espacio en disco utilizado por esta columna. Sin embargo, una columna que ha sido marcada como <em>unused</em> no se muestra en consultas o vistas al diccionario de datos, y <strong>su nombre es removido de tal manera que una nueva columna puede reutilizar ese nombre</strong>. Todos los <em>constraints</em>, índices y estadísticas definidas sobre la columna son también eliminados.</p>\\n</blockquote>\\n'), (2746, '<p>Asumiendo que se está haciendo un <code>join</code> de columnas sin duplicados, lo cuál es un caso común:</p>\\n\\n<ul>\\n<li><p>Un <strong>inner join</strong> de A y B entregará el resultado de la intersección de los conjuntos A y B. En otras palabras, la parte <em>interna</em> –intersección– en un diagrama de Venn.</p></li>\\n<li><p>Un <strong>full outer join</strong> entre A y B entregará el resultado de la unión de A y B. En otras palabras, la parte <em>externa</em> –unión– en un diagrama de Venn .</p></li>\\n</ul>\\n\\n<h1>Ejemplos:</h1>\\n\\n<p>Supongamos que tenemos dos tablas, con una sola columna cada una y los siguientes datos:</p>\\n\\n<pre><code>A    B\\n-    -\\n1    3\\n2    4\\n3    5\\n4    6\\n</code></pre>\\n\\n<p>Nota que (1,2) solo se encuentran en A, (3,4) son comunes y (5,6) solamente se encuentran en B.</p>\\n\\n<h1>Inner Join</h1>\\n\\n<p>Un inner join –utilizando cualquiera de las sintaxis de consulta equivalente– te entrega la intersección de ambas tablas, es decir, las filas que ambas tablas tienen en común.</p>\\n\\n<pre><code>select * from a INNER JOIN b on a.a = b.b;\\nselect a.*, b.*  from a, b where a.a = b.b;\\n\\na | b\\n--+--\\n3 | 3\\n4 | 4\\n</code></pre>\\n\\n<h1>Left outer join</h1>\\n\\n<p>Un <code>outer join</code> por la izquierda, te dará todas las filas de A, incluyendo las filas comunes entre A y B.</p>\\n\\n<pre><code>select * from a LEFT OUTER JOIN b on a.a = b.b;\\nselect a.*,b.*  from a,b where a.a = b.b(+);\\n\\na |  b\\n--+-----\\n1 | null\\n2 | null\\n3 |    3\\n4 |    4\\n</code></pre>\\n\\n<h1>Right outer join</h1>\\n\\n<p>Un <code>outer join</code> por la derecha te dará todas las filas de B, incluyendo las filas comunes con A.</p>\\n\\n<pre><code>select * from a RIGHT OUTER JOIN b on a.a = b.b;\\nselect a.*,b.*  from a,b where a.a(+) = b.b;\\n\\na    |  b\\n-----+----\\n3    |  3\\n4    |  4\\nnull |  5\\nnull |  6\\n</code></pre>\\n\\n<h1>Full outer join</h1>\\n\\n<p>Un <code>outer join</code> completo (full) te entregará la unión de A y B; es decir, todas las filas de A y todas las filas de B. Si una fila en A no tiene una fila correspondiente en B, la porción de B es null, y vice versa.</p>\\n\\n<pre><code>select * from a FULL OUTER JOIN b on a.a = b.b;\\n\\n a   |  b\\n-----+-----\\n   1 | null\\n   2 | null\\n   3 |    3\\n   4 |    4\\nnull |    5\\nnull |    6\\n</code></pre>\\n\\n<h1>Diagramas de Venn</h1>\\n\\n<p>Esto mismo, podemos verlo con diagramas de Venn:</p>\\n\\n<p><img src=\"https://upload.wikimedia.org/wikipedia/commons/9/9d/SQL_Joins.svg\" alt=\"Explicación visual de joins\">\\nImagen <a href=\"https://commons.wikimedia.org/wiki/File:SQL_Joins.svg\" rel=\"noreferrer\">SQL Joins.svg</a> de <a href=\"https://commons.wikimedia.org/wiki/User:Arbeck\" rel=\"noreferrer\">Arbeck</a>, compartida bajo licencia <a href=\"https://creativecommons.org/licenses/by/3.0/deed.en\" rel=\"noreferrer\">CC BY 3.0</a>.</p>\\n'), (1190, '<p>Lo que debes hacer es instalar bower, los requisitos son tener instalado node, npm y git. </p>\\n\\n<p>Una vez instalados los requisitos el comando para instalar bower es el sgte:</p>\\n\\n<pre><code>npm install -g bower\\n</code></pre>\\n\\n<p>Luego puedes crear un archivo bower.json mediante el sgte comando:</p>\\n\\n<pre><code>bower init\\n</code></pre>\\n\\n<p>Debes de responder las preguntas para crear un archivo bower.json personalizado.</p>\\n\\n<p>Luego de esto puedes obtener el paquete de angular con el sgte comando:</p>\\n\\n<pre><code>bower install angular --save\\n</code></pre>\\n\\n<p>El flag --save incluye la dependencia en tu archivo <code>bower.json</code> recién creado</p>\\n\\n<p>Además no debes referenciar esos archivos dentro de bower_components directamente por muchos motivos, por ejemplo:</p>\\n\\n<ul>\\n<li>Esa ruta ha sido definida por bower y podría cambiar en un futuro.</li>\\n<li>Esa carpeta no debe ser desplegada ya que contiene muchos archivos posiblemente innecesarios.</li>\\n</ul>\\n\\n<p>Lo que deberías hacer es copiar los archivos que necesitas usando algun task runner como <a href=\"http://gulpjs.com/\" rel=\"noreferrer\">gulp</a> o <a href=\"http://gruntjs.com/\" rel=\"noreferrer\">grunt</a>.</p>\\n'), (2012, '<p>En algún punto de esta documentación de MySQL expone algo así:\\n<a href=\"http://dev.mysql.com/doc/refman/5.7/en/datetime.html\" rel=\"noreferrer\">http://dev.mysql.com/doc/refman/5.7/en/datetime.html</a> (link inglés)</p>\\n\\n<blockquote>\\n  <p>TIMESTAMP tiene un rango de \\'1970-01-01 00:00:01\\' GMT a \\'01/09/2038\\n  03:14:07\\' GMT.</p>\\n  \\n  <p>DATETIME se usa cuando se necesita valores que contienen tanto la\\n  fecha y la hora. MySQL recupera y muestra los valores DATETIME en\\n  \\'AAAA-MM-DD HH: MM: SS\\' formato. El rango admitido es \\'01/01/1000\\n  00:00:00\\' a \\'9999-12-31 23:59:59\\'.</p>\\n</blockquote>\\n\\n<p>Partiendo de lo anterior y teniéndolo en cuenta es el posible que el rango de los datos que podría almacenar o estar interesado en ello le inclinen a favor de uno u otro, por ejemplo si usted trabaja con hipotecas por decir algo es fácil que usted supere el rango de <code>TIMESTAMP</code> a día de hoy.</p>\\n\\n<p><code>TIMESTAMP</code> es afectada por las configuraciones/ajustes de la zona horaria. Mientras que <code>DATETIME</code> es constante.</p>\\n\\n<p><code>TIMESTAMP</code> es de cuatro bytes y <code>DATETIME</code> de ocho bytes, por consecuencia las marcas de tiempo (<code>TIMESTAMP</code>) son también más ligeras en la base de datos, con indexados más rápidos.</p>\\n\\n<p>Teniendo en cuenta todo lo anterior si usted desea almacenar un valor específico \"podría que fuese mejor\" usar <code>DATATIME</code>, pero si lo que desea es almacenar para realizar algún seguimento de posibles cambios en los registro quizás le convenga usar <code>TIMESTAMP</code> cuando cambia un registro.</p>\\n\\n<p>Si esta trabajando sobre <code>MySQL 5</code> o superior, los valores de <code>TIMESTAMP</code> se convierten de la zona horaria actual a UTC para el <code>almacenamiento</code>, y se convierten de nuevo de UTC a la zona horaria actual para la <code>recuperación</code>. sólo para el tipo de datos TIMESTAMP.</p>\\n\\n<p>(NOTA si encuentro el link de lo anterior lo intentaré poner por aquí)</p>\\n\\n<p>Espero le ayude.</p>\\n'), (2912, '<p>Así es como lo hice yo: (para VS2015, sdk 1.0.0-beta6)\\n<em>Este método NO instala bower de forma global</em></p>\\n\\n<p>NOTA: Hecho a partir de este template:</p>\\n\\n<p><a href=\"https://i.stack.imgur.com/DyqNh.png\" rel=\"noreferrer\"><img src=\"https://i.stack.imgur.com/DyqNh.png\" alt=\"enter image description here\"></a></p>\\n\\n<p>1 - Click derecho sobre el proyecto (en el explorador de soluciones), luego \"Nuevo elemento\" (o \"New item\" si el VS esta en ingles) </p>\\n\\n<p>2 - Agregar NPM Configuration file.</p>\\n\\n<p><a href=\"https://i.stack.imgur.com/SKSBB.png\" rel=\"noreferrer\"><img src=\"https://i.stack.imgur.com/SKSBB.png\" alt=\"enter image description here\"></a></p>\\n\\n<p>3 - Editar el nuevo archivo \"package.json\" de modo tal que quede incluya estas 3 dependencias de desarrollo:</p>\\n\\n<pre><code>{\\n  \"name\": \"nompre_projecto\",\\n  \"version\": \"0.1.0\",\\n  \"private\": true,\\n  \"devDependencies\": {\\n    \"bower\": \"1.6.5\",\\n    \"grunt\": \"0.4.5\",\\n    \"grunt-bower-task\": \"0.4.0\"\\n  }\\n}\\n</code></pre>\\n\\n<p>4 - Igual que punto 1, pero seleccionando \"Grunt Configuration File\".</p>\\n\\n<p>5 - Editar Gruntfile.js </p>\\n\\n<pre><code>module.exports = function(grunt) {\\n    grunt.initConfig({\\n        bower: {\\n            install: {\\n                options: {\\n                    targetDir: \"wwwroot/lib\",\\n                    layout: \"byComponent\",\\n                    cleanTargetDir: false\\n                }\\n            }\\n        } \\n    });\\n\\n    grunt.registerTask(\"default\", [\"bower:install\"]);\\n\\n    grunt.loadNpmTasks(\"grunt-bower-task\");\\n};\\n</code></pre>\\n\\n<p>6 - Igual que punto 1, pero seleccionando \"Bower Configuration File\"</p>\\n\\n<p>7 - Editar bower.json</p>\\n\\n<pre><code>{\\n  \"name\": \"SBCom\",\\n  \"license\": \"Apache-2.0\",\\n  \"private\": true,\\n  \"dependencies\": {\\n    \"angular\": \"1.4.3\",\\n    \"angular-route\": \"1.4.3\",\\n    \"angular-animate\": \"1.4.3\",\\n    \"moment\": \"2.10.6\",\\n    \"lodash\": \"3.10.1\",\\n    \"mocha\": \"2.2.5\"\\n  }\\n}\\n</code></pre>\\n\\n<p><em>Con las dependencias que tu necesites</em></p>\\n\\n<p>8 - Click derecho sobre Grunfile.js y buscas \"Task Runner Explorer\" (no se como sera en español)</p>\\n\\n<p><a href=\"https://i.stack.imgur.com/1pwLh.png\" rel=\"noreferrer\"><img src=\"https://i.stack.imgur.com/1pwLh.png\" alt=\"enter image description here\"></a></p>\\n\\n<p>9 - Una vez abierto el \"Task Runner Explorer\" haces doble click sobre \"bower:install\". En el futuro cuando actualices o agregues un paquete bower, debes hacer lo mismo.</p>\\n\\n<p><a href=\"https://i.stack.imgur.com/Qh01t.png\" rel=\"noreferrer\"><img src=\"https://i.stack.imgur.com/Qh01t.png\" alt=\"enter image description here\"></a></p>\\n\\n<p>10 - Como en la tarea grunt se indico <code>targetDir: \"wwwroot/lib\"</code> debes ir ubicar el path correcto en los HTML asi:</p>\\n\\n<pre><code>&lt;script src=\"lib/angular/angular.js\"&gt;&lt;/script&gt;\\n&lt;script src=\"lib/angular-route/angular-route.js\"&gt;&lt;/script&gt;\\n&lt;script src=\"lib/moment/moment.js\"&gt;&lt;/script&gt;\\n</code></pre>\\n'), (474, \"<p>Podés usar lo siguiente </p>\\n\\n<pre><code>if($('#elemento').css('display') == 'none'){\\n   // Acción si el elemento no es visible\\n}else{\\n   // Acción si el elemento es visible\\n}\\n</code></pre>\\n\\n<p>en el caso de que tambien queramos chequear la opacidad hacemos: </p>\\n\\n<pre><code>if($('#elemento').css('display') == 'none' || $('#elemento').css('opacity') == 0){\\n       // Acción si el elemento no es visible\\n}else{\\n       // Acción si el elemento es visible\\n}\\n</code></pre>\\n\"), (1083, '<p>He acabado implementando un <a href=\"http://jasmine.github.io/2.3/custom_matcher.html\">custom matcher</a> que registro antes de los tests:</p>\\n\\n<pre><code>beforeEach(function() {\\n    var customMatchers = {\\n        toBeSameDate: function() {\\n            return {\\n                compare: function(actual, expected) {\\n                    var result = {};\\n                    result.pass = actual.isSame(expected);\\n                    result.message = \\n                        \"Expected \" + actual.format(\"YYYY-MM-DD\") +\\n                        \" to equal \" + expected.format(\"YYYY-MM-DD\");\\n                    return result;\\n                }\\n            }\\n        }\\n    };\\n    jasmine.addMatchers(customMatchers);\\n});\\n</code></pre>\\n\\n<p>Así pues, simplemente sustituyendo <code>.toEqual</code> por <code>.toBeSameDate</code> en el test, el mensaje de error cambia a:</p>\\n\\n<blockquote>\\n  <p>Expected 2000-01-02 to equal 1999-03-04</p>\\n</blockquote>\\n\\n<p>Esto además tiene la ventaja de que en el futuro puedo extender el matcher si es necesario, por ejemplo para ignorar la hora.</p>\\n')]\n"
     ]
    },
    {
     "data": {
      "text/plain": [
       "[(343,\n",
       "  '<p>Creo que <a href=\"https://hexdocs.pm/elixir/Enum.html#to_list/1\" rel=\"nofollow noreferrer\">esto</a> es lo que usted esta buscando</p>\\n\\n<p><strong>to_list (colección)</strong></p>\\n\\n<p><strong><em>Convierte la colección a una lista</em></strong></p>\\n\\n<pre><code>iex&gt; Enum.to_list 1..5\\n[1, 2, 3, 4, 5]\\n</code></pre>\\n\\n<p>espero le ayude</p>\\n'),\n",
       " (456,\n",
       "  '<p>Para realizar esta operación, ejecuta <code>Xcode</code> como <code>root</code> con el comando <a href=\"https://es.wikipedia.org/wiki/Sudo\" rel=\"nofollow\"><code>sudo</code></a> e instala dentro de esa sesión:</p>\\n\\n<pre><code>sudo /Applications/Xcode.app/Contents/MacOS/Xcode\\n</code></pre>\\n\\n<p>Una vez hayas instalados debes salir e iniciar normalmente.</p>\\n\\n<p>Debes tener precaución si tienes proyectos abiertos cuando usas sudo para lanzar Xcode.</p>\\n'),\n",
       " (474,\n",
       "  \"<p>Podés usar lo siguiente </p>\\n\\n<pre><code>if($('#elemento').css('display') == 'none'){\\n   // Acción si el elemento no es visible\\n}else{\\n   // Acción si el elemento es visible\\n}\\n</code></pre>\\n\\n<p>en el caso de que tambien queramos chequear la opacidad hacemos: </p>\\n\\n<pre><code>if($('#elemento').css('display') == 'none' || $('#elemento').css('opacity') == 0){\\n       // Acción si el elemento no es visible\\n}else{\\n       // Acción si el elemento es visible\\n}\\n</code></pre>\\n\"),\n",
       " (479,\n",
       "  '<p>Puedes usar la función <code>is()</code> junto con el selector <code>:visible</code> sobre un objeto jquery ya existente.</p>\\n\\n<p>Por ejemplo, si tienes un div con id: \"elemento\" puedes saber si éste está visible o no de esta manera:</p>\\n\\n<pre><code>var esVisible = $(\"#elemento\").is(\":visible\");\\n</code></pre>\\n\\n<p>Para mas información revisa la documentación de <a href=\"http://api.jquery.com/is/\">is</a> y <a href=\"https://api.jquery.com/visible-selector/\">:visible</a></p>\\n'),\n",
       " (546,\n",
       "  '<p><code>.AsString</code> devuelve el mismo \"<em>string</em>\" que la propiedad <code>.Text</code> si no existe ningún controlador de eventos \"Event Handler\", <code>OnGetText</code>, pero de existir uno puede darse el caso de ser diferente, o quizás un descendiente en <code>TField</code> que no sea el estándar podría ocasionar que fuera diferente.</p>\\n\\n<p>Saludos y espero ayude.</p>\\n\\n<p>P.D: Sobre si hay una razón para usar una u otra no sabría decirle con total certeza eso dependería del uso que tenga previsto para el valor de retorno.</p>\\n'),\n",
       " (643,\n",
       "  '<p><em>voy a sumarme con la parte de la pregunta que no se ha respondido aun: <strong>¿Por qué cambió?</em></strong></p>\\n\\n<p>Cambio por que la intención de este código:</p>\\n\\n<pre><code>my @x = qw( 1 2 3 4 5 );\\nsplice(@x, 3);\\n</code></pre>\\n\\n<p>es claramente truncar el array si es demasiado largo y <em>no hay razon para emitir una advertencia si el array tiene <strong>menos</strong> elementos que el máximo especificado</em> (como en el caso citado en la pregunta)</p>\\n\\n<p><a href=\"http://perl5.git.perl.org/perl.git/commitdiff/5cd408a276e19848774860967c3ec06b67b863ee?hp=0890f1a536cff0aff68038cae78e02c9d9b6a2b2\">Fuente (en Inglés)</a> </p>\\n'),\n",
       " (688,\n",
       "  '<p>He encontrado la solución.</p>\\n\\n<p>Resulta que las rutas tienen asignada una <strong>precedencia</strong> numérica asignada, que el motor de enrutamiento de WebApi usa para decidir qué ruta usar en caso de conflicto. Las rutas creadas automáticamente para una misma acción siempre tienen una precedencia distinta, ¡pero la ruta que yo estaba creando manualmente tenía la misma precedencia que la ya existente!</p>\\n\\n<p>Así pues la solución es añadir lo siguiente a <code>GetActionDirectRoutes</code>, inmediatamente después de <code>new RouteEntry</code>:</p>\\n\\n<pre><code>entry.Route.DataTokens[\"precedence\"] = \\n    ((decimal)route.Route.DataTokens[\"precedence\"]) - 0.1M;\\n</code></pre>\\n'),\n",
       " (871,\n",
       "  '<p>Podes cambiar el layout para un controlador o una acción del controlador, una manera de mostrar una vista con otro layout cuando el usuario no esta registrado seria así:</p>\\n\\n<pre><code>class MyController &lt; ApplicationController\\n\\n  def my_action\\n    if current_user.nil?\\n      render layout: \"new_user_layout\"\\n    else\\n      render layout: \"member_layout\"\\n    end\\n  end\\n\\nend\\n</code></pre>\\n\\n<p>Para cambiar el layout de todos los controladores que heredan de ApplicationController seria lo siguiente:</p>\\n\\n<pre><code>class ApplicationController &lt; ActionController::Base\\n  layout :users_layout\\n\\n  private\\n    def users_layout\\n      current_user.nil? ? \"new_user_layout\" : \"member_layout\"\\n    end\\n\\nend \\n</code></pre>\\n\\n<p>En las <a href=\"http://guides.rubyonrails.org/layouts_and_rendering.html\">guias de rails</a> podes encontrar más información sobre layouts.</p>\\n'),\n",
       " (885,\n",
       "  '<p>En el primer caso:</p>\\n\\n<pre><code>nombreCompleto1 = () =&gt; {\\n    return this.nombre + \" \" + this.apellido;\\n}\\n</code></pre>\\n\\n<p>estás creando un <em>método de instancia</em>, es equivalente a ejecutar <code>this.nombreCompleto1 = function() {...}</code> en JavaScript.</p>\\n\\n<p>En el segundo caso:</p>\\n\\n<pre><code>nombreCompleto2() {\\n    return this.nombre + \" \" + this.apellido;\\n}\\n</code></pre>\\n\\n<p>estás creando un <em>método de prototipo</em>, es equivalente a <code>Persona.prototype.nombreCompleto2 = function() {...}</code> en JavaScript.</p>\\n\\n<p>En general es preferible crear métodos de prototipo: en tal caso el método se define una sola vez, mientras que los métodos de instancia se crean una vez por instancia, consumiendo más memoria.</p>\\n\\n<p>Más información: <a href=\"http://www.johnpapa.net/typescriptpost3\" rel=\"noreferrer\">TypeScript Classes and Interfaces</a></p>\\n'),\n",
       " (1083,\n",
       "  '<p>He acabado implementando un <a href=\"http://jasmine.github.io/2.3/custom_matcher.html\">custom matcher</a> que registro antes de los tests:</p>\\n\\n<pre><code>beforeEach(function() {\\n    var customMatchers = {\\n        toBeSameDate: function() {\\n            return {\\n                compare: function(actual, expected) {\\n                    var result = {};\\n                    result.pass = actual.isSame(expected);\\n                    result.message = \\n                        \"Expected \" + actual.format(\"YYYY-MM-DD\") +\\n                        \" to equal \" + expected.format(\"YYYY-MM-DD\");\\n                    return result;\\n                }\\n            }\\n        }\\n    };\\n    jasmine.addMatchers(customMatchers);\\n});\\n</code></pre>\\n\\n<p>Así pues, simplemente sustituyendo <code>.toEqual</code> por <code>.toBeSameDate</code> en el test, el mensaje de error cambia a:</p>\\n\\n<blockquote>\\n  <p>Expected 2000-01-02 to equal 1999-03-04</p>\\n</blockquote>\\n\\n<p>Esto además tiene la ventaja de que en el futuro puedo extender el matcher si es necesario, por ejemplo para ignorar la hora.</p>\\n'),\n",
       " (1190,\n",
       "  '<p>Lo que debes hacer es instalar bower, los requisitos son tener instalado node, npm y git. </p>\\n\\n<p>Una vez instalados los requisitos el comando para instalar bower es el sgte:</p>\\n\\n<pre><code>npm install -g bower\\n</code></pre>\\n\\n<p>Luego puedes crear un archivo bower.json mediante el sgte comando:</p>\\n\\n<pre><code>bower init\\n</code></pre>\\n\\n<p>Debes de responder las preguntas para crear un archivo bower.json personalizado.</p>\\n\\n<p>Luego de esto puedes obtener el paquete de angular con el sgte comando:</p>\\n\\n<pre><code>bower install angular --save\\n</code></pre>\\n\\n<p>El flag --save incluye la dependencia en tu archivo <code>bower.json</code> recién creado</p>\\n\\n<p>Además no debes referenciar esos archivos dentro de bower_components directamente por muchos motivos, por ejemplo:</p>\\n\\n<ul>\\n<li>Esa ruta ha sido definida por bower y podría cambiar en un futuro.</li>\\n<li>Esa carpeta no debe ser desplegada ya que contiene muchos archivos posiblemente innecesarios.</li>\\n</ul>\\n\\n<p>Lo que deberías hacer es copiar los archivos que necesitas usando algun task runner como <a href=\"http://gulpjs.com/\" rel=\"noreferrer\">gulp</a> o <a href=\"http://gruntjs.com/\" rel=\"noreferrer\">grunt</a>.</p>\\n'),\n",
       " (1593,\n",
       "  '<p>Lo de elegancia es algo difícil de decir, es cuestión de gustos. Pero la legibilidad del código siempre es importante. Por eso, este código se puede simplificar así: (a mi me parece más legible)</p>\\n\\n<pre><code>std::string tempStr;\\nwhile(isstream &gt;&gt; tempStr) {\\n    std::cout &lt;&lt; tempStr &lt;&lt; std::endl;\\n}\\n</code></pre>\\n\\n<p>Con lo cual, metiendo todo en una función quedaría algo así:</p>\\n\\n<pre><code>std::vector&lt;std::string&gt; split_istringstream(std::string str) {\\n    std::vector&lt;std::string&gt; resultado;\\n    std::istringstream isstream(str);\\n    std::string palabra;\\n\\n    while(isstream &gt;&gt; palabra){\\n        resultado.push_back(palabra);\\n    }\\n\\n    return resultado;\\n}\\n</code></pre>\\n\\n<p>Otra alternativa, que incluso permite definir el delimitador (el operador >> de <code>istringstream</code> solo divide la cadena por los espacios - ASCII 32) es utilizar <a href=\"http://es.cppreference.com/w/cpp/string/basic_string/getline\" rel=\"noreferrer\">std::getline</a>. </p>\\n\\n<pre><code>std::vector&lt;std::string&gt; split_getline(std::string str, char delim) {\\n    std::vector&lt;std::string&gt; resultado;\\n    std::istringstream isstream(str);\\n    std::string palabra;\\n\\n    while(std::getline(isstream, palabra, delim)){\\n        resultado.push_back(palabra);\\n    }\\n\\n    return resultado;\\n}\\n</code></pre>\\n\\n<p>Aquí abajo te dejo una comparativa entre ambas opciones, son prácticamente iguales en eficiencia, dejando de un lado los vectores, reservan prácticamente la misma memoria.</p>\\n\\n<p><a href=\"http://cpp.sh/3jtw\" rel=\"noreferrer\">http://cpp.sh/3jtw</a></p>\\n'),\n",
       " (1849,\n",
       "  '<p>Como ya mencioné yo no uso Perl, pero mirando la documentación en una parte de ella dice lo siguiente:</p>\\n\\n<blockquote>\\n  <p>\"Si el desplazamiento es más allá del final de la matriz, Perl emite\\n  una advertencia, y (Perl) empalma/splice en el extremo de la matriz.\"</p>\\n</blockquote>\\n\\n<p><em>...If OFFSET is past the end of the array, Perl issues a warning, and splices at the end of the array.</em></p>\\n\\n<p>De echo he revisado en varias versiones y es lo mismo por lo menos la documentación advierten sobre el <em>warning</em>.</p>\\n\\n<p>Aquí le dejo los links (en Inglés); </p>\\n\\n<ul>\\n<li><p><a href=\"http://perldoc.perl.org/5.16.2/functions/splice.html\" rel=\"noreferrer\" title=\"http://perldoc.perl.org/5.16.2/functions/splice.html\">Perl v 5.16.2</a></p></li>\\n<li><p><a href=\"http://perldoc.perl.org/5.20.0/functions/splice.html\" rel=\"noreferrer\" title=\"http://perldoc.perl.org/5.20.0/functions/splice.html\">Perl v 5.20.0</a></p></li>\\n<li><p><a href=\"http://perldoc.perl.org/functions/splice.html\" rel=\"noreferrer\" title=\"http://perldoc.perl.org/functions/splice.html\">Perl v 5.22</a></p></li>\\n</ul>\\n\\n<p>Según lo anterior lo normal es el <em>warning</em>, pero por lo que se puede ver en el siguiente link, no en todas las versiones es así y también depende del OS.</p>\\n\\n<p><a href=\"http://www.nntp.perl.org/group/perl.perl5.porters/2013/04/msg201134.html\" rel=\"noreferrer\">http://www.nntp.perl.org/group/perl.perl5.porters/2013/04/msg201134.html</a></p>\\n\\n<p>Creo que eso ocurre entre la <code>5.14</code> y <code>5.16</code> en algunos sistemas, aquí puede ver la notificación de bug pero quizás también le suceda a usted en la <code>5.20</code> debido a su OS y no es que haya cambiado algo. </p>\\n\\n<p><a href=\"https://rt.perl.org/Public/Bug/Display.html?id=117729\" rel=\"noreferrer\">https://rt.perl.org/Public/Bug/Display.html?id=117729</a></p>\\n'),\n",
       " (1996,\n",
       "  '<p>No se puede reutilizar una columna marcada como <em>unused</em>. La única acción posible sobre esta columna es eliminarla de la tabla.</p>\\n\\n<p>Lo que se puede hacer es añadir una nueva columna con el mismo nombre, aún sin haber eliminado la anterior.</p>\\n\\n<p>Mi traducción libre de la <a href=\"http://docs.oracle.com/cd/B28359_01/server.111/b28310/tables006.htm#ADMIN11666\">Documentación</a> sería:</p>\\n\\n<blockquote>\\n  <p>La sentencia ALTER TABLE...DROP UNUSED COLUMNS es la única acción permitida en columnas <em>unused</em>. Esta remueve físicamente las columnas de la tabla y libera el espacio en disco.</p>\\n  \\n  <p>La sentencia ALTER TABLE que sigue, especifica la cláusula opcional CHECKPOINT. Esta cláusula ocasiona que se aplique un punto de chequeo (checkpoint) luego de procesar el número especificado de filas, en este caso 250. Realizar puntos de chequeo reduce la cantidad de <em>undo log</em> que se acumula durante la operación de borrado de la columna para evitar un potencial agotamiento el espacio de <em>undo</em> disponible.</p>\\n\\n<pre><code>ALTER TABLE hr.admin_emp DROP UNUSED COLUMNS CHECKPOINT 250;\\n</code></pre>\\n</blockquote>\\n\\n<p>Y esa otra (el énfasis es mío):</p>\\n\\n<blockquote>\\n  <h1>Marcar columnas como no utilizadas (<em>unused</em>)</h1>\\n  \\n  <p>Si te preocupa la cantidad de tiempo que puede tomar eliminar los datos de una columna de todas las filas en una tabla grande, puedes utilizar la sentencia <code>ALTER TABLE...SET UNUSED</code>. Esta sentencia marca una o más columnas como no utilizadas, pero no elimina realmente los datos de la misma ni libera el espacio en disco utilizado por esta columna. Sin embargo, una columna que ha sido marcada como <em>unused</em> no se muestra en consultas o vistas al diccionario de datos, y <strong>su nombre es removido de tal manera que una nueva columna puede reutilizar ese nombre</strong>. Todos los <em>constraints</em>, índices y estadísticas definidas sobre la columna son también eliminados.</p>\\n</blockquote>\\n'),\n",
       " (2012,\n",
       "  '<p>En algún punto de esta documentación de MySQL expone algo así:\\n<a href=\"http://dev.mysql.com/doc/refman/5.7/en/datetime.html\" rel=\"noreferrer\">http://dev.mysql.com/doc/refman/5.7/en/datetime.html</a> (link inglés)</p>\\n\\n<blockquote>\\n  <p>TIMESTAMP tiene un rango de \\'1970-01-01 00:00:01\\' GMT a \\'01/09/2038\\n  03:14:07\\' GMT.</p>\\n  \\n  <p>DATETIME se usa cuando se necesita valores que contienen tanto la\\n  fecha y la hora. MySQL recupera y muestra los valores DATETIME en\\n  \\'AAAA-MM-DD HH: MM: SS\\' formato. El rango admitido es \\'01/01/1000\\n  00:00:00\\' a \\'9999-12-31 23:59:59\\'.</p>\\n</blockquote>\\n\\n<p>Partiendo de lo anterior y teniéndolo en cuenta es el posible que el rango de los datos que podría almacenar o estar interesado en ello le inclinen a favor de uno u otro, por ejemplo si usted trabaja con hipotecas por decir algo es fácil que usted supere el rango de <code>TIMESTAMP</code> a día de hoy.</p>\\n\\n<p><code>TIMESTAMP</code> es afectada por las configuraciones/ajustes de la zona horaria. Mientras que <code>DATETIME</code> es constante.</p>\\n\\n<p><code>TIMESTAMP</code> es de cuatro bytes y <code>DATETIME</code> de ocho bytes, por consecuencia las marcas de tiempo (<code>TIMESTAMP</code>) son también más ligeras en la base de datos, con indexados más rápidos.</p>\\n\\n<p>Teniendo en cuenta todo lo anterior si usted desea almacenar un valor específico \"podría que fuese mejor\" usar <code>DATATIME</code>, pero si lo que desea es almacenar para realizar algún seguimento de posibles cambios en los registro quizás le convenga usar <code>TIMESTAMP</code> cuando cambia un registro.</p>\\n\\n<p>Si esta trabajando sobre <code>MySQL 5</code> o superior, los valores de <code>TIMESTAMP</code> se convierten de la zona horaria actual a UTC para el <code>almacenamiento</code>, y se convierten de nuevo de UTC a la zona horaria actual para la <code>recuperación</code>. sólo para el tipo de datos TIMESTAMP.</p>\\n\\n<p>(NOTA si encuentro el link de lo anterior lo intentaré poner por aquí)</p>\\n\\n<p>Espero le ayude.</p>\\n'),\n",
       " (2350,\n",
       "  '<p>Los <code>FPS</code> varian porque solo se solicita un marco cuando es necesario. por ejemplo si la imagen no cambia o es un fondo oscuro la tasa se puede reducir a una tasa más baja, ademas cuando se ejecuta en las pestañas de fondo tambien pude darse el caso para mejorar el rendimiento y la duración de la batería.</p>\\n\\n<p>Puede mirar este caso como se \"ajustan los frames\" usando: <code>startAnimating(5)</code>;\\n<a href=\"http://jsfiddle.net/m1erickson/CtsY3/\" rel=\"nofollow noreferrer\">jsfiddle</a></p>\\n\\n<p><div class=\"snippet\" data-lang=\"js\" data-hide=\"false\" data-console=\"true\" data-babel=\"false\">\\r\\n<div class=\"snippet-code\">\\r\\n<pre class=\"snippet-code-js lang-js prettyprint-override\"><code>var stop = false;\\r\\nvar frameCount = 0;\\r\\nvar $results = $(\"#results\");\\r\\nvar fps, fpsInterval, startTime, now, then, elapsed;\\r\\n\\r\\nstartAnimating(5);\\r\\n\\r\\nfunction startAnimating(fps) {\\r\\n    fpsInterval = 1000 / fps;\\r\\n    then = Date.now();\\r\\n    startTime = then;\\r\\n    console.log(startTime);\\r\\n    animate();\\r\\n}\\r\\n\\r\\n\\r\\nfunction animate() {\\r\\n\\r\\n    // stop\\r\\n    if (stop) {\\r\\n        return;\\r\\n    }\\r\\n\\r\\n    // request another frame\\r\\n\\r\\n    requestAnimationFrame(animate);\\r\\n\\r\\n    // calc elapsed time since last loop\\r\\n\\r\\n    now = Date.now();\\r\\n    elapsed = now - then;\\r\\n\\r\\n    // if enough time has elapsed, draw the next frame\\r\\n\\r\\n    if (elapsed &gt; fpsInterval) {\\r\\n\\r\\n        // Get ready for next frame by setting then=now, but...\\r\\n        // Also, adjust for fpsInterval not being multiple of 16.67\\r\\n        then = now - (elapsed % fpsInterval);\\r\\n\\r\\n        // draw stuff here\\r\\n\\r\\n\\r\\n        // TESTING...Report #seconds since start and achieved fps.\\r\\n        var sinceStart = now - startTime;\\r\\n        var currentFps = Math.round(1000 / (sinceStart / ++frameCount) * 100) / 100;\\r\\n        $results.text(\"Elapsed time= \" + Math.round(sinceStart / 1000 * 100) / 100 + \" secs @ \" + currentFps + \" fps.\");\\r\\n\\r\\n    }\\r\\n}</code></pre>\\r\\n<pre class=\"snippet-code-html lang-html prettyprint-override\"><code>&lt;script src=\"https://ajax.googleapis.com/ajax/libs/jquery/1.9.1/jquery.min.js\"&gt;&lt;/script&gt;\\r\\n&lt;h3&gt;Throttling requestAnimationFrame to a FPS&lt;/h3&gt;\\r\\n&lt;p&gt;This test:  Results should be approximately 5 fps\\r\\n&lt;p id=\"results\"&gt;Results:&lt;/p&gt;\\r\\n&lt;canvas id=\"canvas\" width=300 height=300&gt;&lt;/canvas&gt;</code></pre>\\r\\n</div>\\r\\n</div>\\r\\n</p>\\n'),\n",
       " (2746,\n",
       "  '<p>Asumiendo que se está haciendo un <code>join</code> de columnas sin duplicados, lo cuál es un caso común:</p>\\n\\n<ul>\\n<li><p>Un <strong>inner join</strong> de A y B entregará el resultado de la intersección de los conjuntos A y B. En otras palabras, la parte <em>interna</em> –intersección– en un diagrama de Venn.</p></li>\\n<li><p>Un <strong>full outer join</strong> entre A y B entregará el resultado de la unión de A y B. En otras palabras, la parte <em>externa</em> –unión– en un diagrama de Venn .</p></li>\\n</ul>\\n\\n<h1>Ejemplos:</h1>\\n\\n<p>Supongamos que tenemos dos tablas, con una sola columna cada una y los siguientes datos:</p>\\n\\n<pre><code>A    B\\n-    -\\n1    3\\n2    4\\n3    5\\n4    6\\n</code></pre>\\n\\n<p>Nota que (1,2) solo se encuentran en A, (3,4) son comunes y (5,6) solamente se encuentran en B.</p>\\n\\n<h1>Inner Join</h1>\\n\\n<p>Un inner join –utilizando cualquiera de las sintaxis de consulta equivalente– te entrega la intersección de ambas tablas, es decir, las filas que ambas tablas tienen en común.</p>\\n\\n<pre><code>select * from a INNER JOIN b on a.a = b.b;\\nselect a.*, b.*  from a, b where a.a = b.b;\\n\\na | b\\n--+--\\n3 | 3\\n4 | 4\\n</code></pre>\\n\\n<h1>Left outer join</h1>\\n\\n<p>Un <code>outer join</code> por la izquierda, te dará todas las filas de A, incluyendo las filas comunes entre A y B.</p>\\n\\n<pre><code>select * from a LEFT OUTER JOIN b on a.a = b.b;\\nselect a.*,b.*  from a,b where a.a = b.b(+);\\n\\na |  b\\n--+-----\\n1 | null\\n2 | null\\n3 |    3\\n4 |    4\\n</code></pre>\\n\\n<h1>Right outer join</h1>\\n\\n<p>Un <code>outer join</code> por la derecha te dará todas las filas de B, incluyendo las filas comunes con A.</p>\\n\\n<pre><code>select * from a RIGHT OUTER JOIN b on a.a = b.b;\\nselect a.*,b.*  from a,b where a.a(+) = b.b;\\n\\na    |  b\\n-----+----\\n3    |  3\\n4    |  4\\nnull |  5\\nnull |  6\\n</code></pre>\\n\\n<h1>Full outer join</h1>\\n\\n<p>Un <code>outer join</code> completo (full) te entregará la unión de A y B; es decir, todas las filas de A y todas las filas de B. Si una fila en A no tiene una fila correspondiente en B, la porción de B es null, y vice versa.</p>\\n\\n<pre><code>select * from a FULL OUTER JOIN b on a.a = b.b;\\n\\n a   |  b\\n-----+-----\\n   1 | null\\n   2 | null\\n   3 |    3\\n   4 |    4\\nnull |    5\\nnull |    6\\n</code></pre>\\n\\n<h1>Diagramas de Venn</h1>\\n\\n<p>Esto mismo, podemos verlo con diagramas de Venn:</p>\\n\\n<p><img src=\"https://upload.wikimedia.org/wikipedia/commons/9/9d/SQL_Joins.svg\" alt=\"Explicación visual de joins\">\\nImagen <a href=\"https://commons.wikimedia.org/wiki/File:SQL_Joins.svg\" rel=\"noreferrer\">SQL Joins.svg</a> de <a href=\"https://commons.wikimedia.org/wiki/User:Arbeck\" rel=\"noreferrer\">Arbeck</a>, compartida bajo licencia <a href=\"https://creativecommons.org/licenses/by/3.0/deed.en\" rel=\"noreferrer\">CC BY 3.0</a>.</p>\\n'),\n",
       " (2912,\n",
       "  '<p>Así es como lo hice yo: (para VS2015, sdk 1.0.0-beta6)\\n<em>Este método NO instala bower de forma global</em></p>\\n\\n<p>NOTA: Hecho a partir de este template:</p>\\n\\n<p><a href=\"https://i.stack.imgur.com/DyqNh.png\" rel=\"noreferrer\"><img src=\"https://i.stack.imgur.com/DyqNh.png\" alt=\"enter image description here\"></a></p>\\n\\n<p>1 - Click derecho sobre el proyecto (en el explorador de soluciones), luego \"Nuevo elemento\" (o \"New item\" si el VS esta en ingles) </p>\\n\\n<p>2 - Agregar NPM Configuration file.</p>\\n\\n<p><a href=\"https://i.stack.imgur.com/SKSBB.png\" rel=\"noreferrer\"><img src=\"https://i.stack.imgur.com/SKSBB.png\" alt=\"enter image description here\"></a></p>\\n\\n<p>3 - Editar el nuevo archivo \"package.json\" de modo tal que quede incluya estas 3 dependencias de desarrollo:</p>\\n\\n<pre><code>{\\n  \"name\": \"nompre_projecto\",\\n  \"version\": \"0.1.0\",\\n  \"private\": true,\\n  \"devDependencies\": {\\n    \"bower\": \"1.6.5\",\\n    \"grunt\": \"0.4.5\",\\n    \"grunt-bower-task\": \"0.4.0\"\\n  }\\n}\\n</code></pre>\\n\\n<p>4 - Igual que punto 1, pero seleccionando \"Grunt Configuration File\".</p>\\n\\n<p>5 - Editar Gruntfile.js </p>\\n\\n<pre><code>module.exports = function(grunt) {\\n    grunt.initConfig({\\n        bower: {\\n            install: {\\n                options: {\\n                    targetDir: \"wwwroot/lib\",\\n                    layout: \"byComponent\",\\n                    cleanTargetDir: false\\n                }\\n            }\\n        } \\n    });\\n\\n    grunt.registerTask(\"default\", [\"bower:install\"]);\\n\\n    grunt.loadNpmTasks(\"grunt-bower-task\");\\n};\\n</code></pre>\\n\\n<p>6 - Igual que punto 1, pero seleccionando \"Bower Configuration File\"</p>\\n\\n<p>7 - Editar bower.json</p>\\n\\n<pre><code>{\\n  \"name\": \"SBCom\",\\n  \"license\": \"Apache-2.0\",\\n  \"private\": true,\\n  \"dependencies\": {\\n    \"angular\": \"1.4.3\",\\n    \"angular-route\": \"1.4.3\",\\n    \"angular-animate\": \"1.4.3\",\\n    \"moment\": \"2.10.6\",\\n    \"lodash\": \"3.10.1\",\\n    \"mocha\": \"2.2.5\"\\n  }\\n}\\n</code></pre>\\n\\n<p><em>Con las dependencias que tu necesites</em></p>\\n\\n<p>8 - Click derecho sobre Grunfile.js y buscas \"Task Runner Explorer\" (no se como sera en español)</p>\\n\\n<p><a href=\"https://i.stack.imgur.com/1pwLh.png\" rel=\"noreferrer\"><img src=\"https://i.stack.imgur.com/1pwLh.png\" alt=\"enter image description here\"></a></p>\\n\\n<p>9 - Una vez abierto el \"Task Runner Explorer\" haces doble click sobre \"bower:install\". En el futuro cuando actualices o agregues un paquete bower, debes hacer lo mismo.</p>\\n\\n<p><a href=\"https://i.stack.imgur.com/Qh01t.png\" rel=\"noreferrer\"><img src=\"https://i.stack.imgur.com/Qh01t.png\" alt=\"enter image description here\"></a></p>\\n\\n<p>10 - Como en la tarea grunt se indico <code>targetDir: \"wwwroot/lib\"</code> debes ir ubicar el path correcto en los HTML asi:</p>\\n\\n<pre><code>&lt;script src=\"lib/angular/angular.js\"&gt;&lt;/script&gt;\\n&lt;script src=\"lib/angular-route/angular-route.js\"&gt;&lt;/script&gt;\\n&lt;script src=\"lib/moment/moment.js\"&gt;&lt;/script&gt;\\n</code></pre>\\n'),\n",
       " (3600,\n",
       "  '<p>Antes de responder directamente la respuesta, hablaremos de las propiedades relevantes de TField y sus descendientes.</p>\\n\\n<h1><code>Text</code>/<code>DisplayText</code></h1>\\n\\n<p>Ambas propiedades sirven para obtener una representación textual del valor del campo para su uso en la Interfaz de Usuario. \\nEl propósito de la propiedad <code>Text</code> es el de obtener una representación textual del campo cuándo está siendo editado en un control asociado a datos (Data Aware), en contraste con la propiedad <code>DisplayText</code> que proporciona el valor del campo con formato de visualización para el usuario, por ejemplo, puede contener caracteres de puntuación u otra decoración al valor plano. (1234.50 en contraste con 1,234.50).</p>\\n\\n<p>En otras palabras, un <code>TdbEdit</code> o controles similares, mostrarán el valor de <code>DisplayText</code> cuándo no están siendo editados, y al recibir el foco, cambiarán el valor al de la propiedad <code>Text</code> y es este valor el que el usuario \"edita\". Un TdbLabel solamente tira de la propiedad <code>DisplayText</code>, ya que no es editable.</p>\\n\\n<p>La documentación para <code>Text</code> dice:</p>\\n\\n<blockquote>\\n  <p>Contains the string to display in a data-aware control when the field is in edit mode</p>\\n</blockquote>\\n\\n<p>Un ejemplo típico es un <code>TFloatField</code> con la propiedad <code>Currency</code> establecida a <code>True</code>. La propiedad DisplayText te devuelve el string con el número conteniendo separadores de miles, el separador decimal y el símbolo de la moneda. La propiedad Text, te devuelve una cadena que no contiene separadores de miles ni símbolo de moneda.</p>\\n\\n<pre><code>begin\\n  MyFloatField.Currency := True;\\n  MyFloatField.AsFloat := 1234.56;\\n  A := MyFloatField.Text; //\\'1234.56\\'\\n  B := MyFloatField.DisplayText; //\\'$1,234.56\\', depends on your locale\\n  ShowMessage(A + #13 + B);\\nend;\\n</code></pre>\\n\\n<p>El comportamiento de ambas propiedades puede ser personalizado escribiendo un manejador de eventos para <code>OnGetText</code>, dónde se puede escribir la lógica para convertir el valor del campo en una de ambas representaciones textuales. El parámetro booleano <code>DisplayText</code> indica si la cadena solicitada es para representar el valor en la interfaz de usuario o para edición. </p>\\n\\n<p>De esta manera, podemos lograr que la representación en la interfaz de usuario para un campo entero con valor 1 sea \\'uno\\', y su valor para edición sea \\'one\\'</p>\\n\\n<h1><code>AsString</code></h1>\\n\\n<p>Por otro lado, la propiedad AsString utiliza una conversión plana entre el tipo de dato base del campo y una cadena de caracteres. Cada descendiente de <code>TField</code> implementa el método virtual <code>GetAsString</code> que típicamente utiliza funciones de la RTL para realizar la conversión. Siguiendo con el ejemplo de TFloatField, esta clase llama a la función FloatToStr() para realizar la conversión.</p>\\n\\n<h1>La respuesta</h1>\\n\\n<p>Dicho todo esto, la respuesta a la pregunta sería:</p>\\n\\n<p>AsString retorna usualmente el mismo valor que retorna la propiedad Text, siempre que no haya un manejador de evento para OnGetText, pero la representación podría ser diferente si hubiese un manejador de evento o un descendiente no estándar de TField.</p>\\n\\n<p>Con la información dada, no puede decirse cuál es más apropiado, ya que esto depende de cuál es el uso que se le dará al valor retornado. Si se está utilizando para mostrar valores en la Interfaz de usuario, como se muestra en los ejemplos de código proporcionados, mi consejo es que utilices la propiedad <code>DisplayText</code>.</p>\\n'),\n",
       " (4044,\n",
       "  '<p><strong><code>static_cast</code></strong> es lo primero que deberías intentar usar. Es capaz de realizar conversiones implícitas entre tipos (como <code>int</code> a<code>float</code>, o puntero a <code>void*</code>),  y también puede realizar llamadas a funciones explícitas de conversión (o implícitas). En muchos casos no es necesario especificar <code>static_cast</code> explícitamente, pero hay que tener en cuenta que la sintaxis <code>T(algo)</code> es equivalente a <code>(T)algo</code> y debería evitarse (más sobre esto después). <code>T(algo, algo_mas)</code> sin embargo es seguro, y siempre invoca al constructor.</p>\\n\\n<p><code>static_cast</code> también puede realizar conversiones a través de jerarquías de herencia. No es necesario al convertir hacia arriba (hacia una clase base), pero al convertir hacia abajo puede usarse siempre que no se esté realizando conversión a través de herencia <code>virtual</code>. Eso sí, no realiza comprobaciones, y el comportamiento de un <code>static_cast</code> hacia un tipo inferior en la jerarquía que no es en realidad el tipo del objeto no está definido.</p>\\n\\n<hr>\\n\\n<p><strong><code>const_cast</code></strong> se puede usar para añadir o quitar <code>const</code> a una variable; ningún otro conversor de C++ puede hacer eso (ni siquiera <code>reinterpret_cast</code>). Hay que tener en cuenta que la operación de modificar un valor que era <code>const</code> no está definida sólo si la variable original es <code>const</code>; sí es seguro usarlo para quitar el <code>const</code> de una referencia a algo que no estaba declarado con <code>const</code>. Esto puede ser útil al sobrecargar funciones miembro basadas en <code>const</code>, por ejemplo. También puede usarse para añadir <code>const</code> a un objecto, por ejemplo para invocar una sobrecarga de una función miembro.</p>\\n\\n<p><code>const_cast</code> funciona de forma similar en <code>volatile</code>, aunque no es tan común.</p>\\n\\n<hr>\\n\\n<p><strong><code>dynamic_cast</code></strong> se usa casi exclusivamente para gestionar polimorfismo. Puedes convertir un puntero o referencia de un tipo polimórfico a cualquier otro tipo de clase (un tipo polimórfico tiene al menos una función virtual, declarada o heredada). Puedes usarlo para más que simplemente convertir hacia abajo -- puedes convertir lateralmente o incluso hacia arriba en otra cadena. <code>dynamic_cast</code> buscará el objeto deseado y lo devolverá si es posible; si no lo es devolverá <code>NULL</code> para punteros, o lanzará <code>std::bad_cast</code> para referencias.</p>\\n\\n<p><code>dynamic_cast</code> tiene sin embargo algunas limitaciones. No funciona si hay múltiples objectos del mismo tipo en la jerarquía de herencia (lo que se conoce como \\'herencia en diamante\\') y si no estás usando herencia <code>virtual</code>. Además sólo puede recorrer la herencia pública. No es capaz de recorrer la herencia <code>protected</code> ni la <code>private</code>. Esto no obstante es raramente un problema, ya que dichos tipos de herencia apenas se usan.</p>\\n\\n<hr>\\n\\n<p><strong><code>reinterpret_cast</code></strong> es la conversión más peligrosa. Convierte un tipo directamente en otro - como por ejemplo convertir un puntero en otro, o almacenar un puntero en un <code>int</code>, y todo tipo de cosas no recomendables. Principalmente, la única garantía que obtienes con <code>reinterpret_cast</code> es que sin conviertes de vuelta al tipo original, obtendrás exactamente el mismo valor (pero <strong>no</strong> en el caso de que el tipo intermedio sea más pequeño que el original). También hay unas cuantas conversiones que <strong><code>reinterpret_cast</code></strong> no puede hacer. Se usa principalmente para conversiones extrañas y manipulaciones de bit, como convertir un stream directamente en datos, o almacenar datos en los bits bajos de un puntero alineado.</p>\\n\\n<p><strong><em>Fuente</em></strong>: <a href=\"https://stackoverflow.com/a/332086/4574\">When should static_cast, dynamic_cast, const_cast and reinterpret_cast be used?</a></p>\\n')]"
      ]
     },
     "execution_count": 9,
     "metadata": {},
     "output_type": "execute_result"
    }
   ],
   "source": [
    "spark = SparkSession.builder.appName('ejemplo-de-rdd4').getOrCreate()\n",
    "distData = spark.sparkContext.parallelize (pa['Body'])\n",
    "\n",
    "long_map = distData.map(lambda x: (len(x),x))\n",
    "coleccion = long_map.collect()\n",
    "print (\"Cantidad de letras por palabra\",coleccion)\n",
    "long_map.sortByKey(ascending=True).collect()"
   ]
  },
  {
   "cell_type": "code",
   "execution_count": 10,
   "id": "ec815bf5-1cbe-4361-a7f5-d0c05c8dbff6",
   "metadata": {},
   "outputs": [],
   "source": [
    "paBodyCounted = pd.DataFrame(coleccion)"
   ]
  },
  {
   "cell_type": "code",
   "execution_count": 11,
   "id": "4e0d2601-064a-4f54-8a34-883a771f8cda",
   "metadata": {},
   "outputs": [
    {
     "name": "stdout",
     "output_type": "stream",
     "text": [
      "       0                                                  1\n",
      "0    688  <p>He encontrado la solución.</p>\\n\\n<p>Result...\n",
      "1    546  <p><code>.AsString</code> devuelve el mismo \"<...\n",
      "2   1593  <p>Lo de elegancia es algo difícil de decir, e...\n",
      "3   3600  <p>Antes de responder directamente la respuest...\n",
      "4    885  <p>En el primer caso:</p>\\n\\n<pre><code>nombre...\n",
      "5    456  <p>Para realizar esta operación, ejecuta <code...\n",
      "6   1849  <p>Como ya mencioné yo no uso Perl, pero miran...\n",
      "7    643  <p><em>voy a sumarme con la parte de la pregun...\n",
      "8    343  <p>Creo que <a href=\"https://hexdocs.pm/elixir...\n",
      "9   2350  <p>Los <code>FPS</code> varian porque solo se ...\n",
      "10   871  <p>Podes cambiar el layout para un controlador...\n",
      "11  4044  <p><strong><code>static_cast</code></strong> e...\n",
      "12   479  <p>Puedes usar la función <code>is()</code> ju...\n",
      "13  1996  <p>No se puede reutilizar una columna marcada ...\n",
      "14  2746  <p>Asumiendo que se está haciendo un <code>joi...\n",
      "15  1190  <p>Lo que debes hacer es instalar bower, los r...\n",
      "16  2012  <p>En algún punto de esta documentación de MyS...\n",
      "17  2912  <p>Así es como lo hice yo: (para VS2015, sdk 1...\n",
      "18   474  <p>Podés usar lo siguiente </p>\\n\\n<pre><code>...\n",
      "19  1083  <p>He acabado implementando un <a href=\"http:/...\n"
     ]
    }
   ],
   "source": [
    "print(paBodyCounted)"
   ]
  },
  {
   "cell_type": "code",
   "execution_count": 12,
   "id": "8ceaf83f-4537-42ba-a7c1-f673cb9bd21b",
   "metadata": {},
   "outputs": [
    {
     "data": {
      "text/html": [
       "<div>\n",
       "<style scoped>\n",
       "    .dataframe tbody tr th:only-of-type {\n",
       "        vertical-align: middle;\n",
       "    }\n",
       "\n",
       "    .dataframe tbody tr th {\n",
       "        vertical-align: top;\n",
       "    }\n",
       "\n",
       "    .dataframe thead th {\n",
       "        text-align: right;\n",
       "    }\n",
       "</style>\n",
       "<table border=\"1\" class=\"dataframe\">\n",
       "  <thead>\n",
       "    <tr style=\"text-align: right;\">\n",
       "      <th></th>\n",
       "      <th>0</th>\n",
       "    </tr>\n",
       "  </thead>\n",
       "  <tbody>\n",
       "    <tr>\n",
       "      <th>count</th>\n",
       "      <td>20.00000</td>\n",
       "    </tr>\n",
       "    <tr>\n",
       "      <th>mean</th>\n",
       "      <td>1538.00000</td>\n",
       "    </tr>\n",
       "    <tr>\n",
       "      <th>std</th>\n",
       "      <td>1115.25055</td>\n",
       "    </tr>\n",
       "    <tr>\n",
       "      <th>min</th>\n",
       "      <td>343.00000</td>\n",
       "    </tr>\n",
       "    <tr>\n",
       "      <th>25%</th>\n",
       "      <td>618.75000</td>\n",
       "    </tr>\n",
       "    <tr>\n",
       "      <th>50%</th>\n",
       "      <td>1136.50000</td>\n",
       "    </tr>\n",
       "    <tr>\n",
       "      <th>75%</th>\n",
       "      <td>2096.50000</td>\n",
       "    </tr>\n",
       "    <tr>\n",
       "      <th>max</th>\n",
       "      <td>4044.00000</td>\n",
       "    </tr>\n",
       "  </tbody>\n",
       "</table>\n",
       "</div>"
      ],
      "text/plain": [
       "                0\n",
       "count    20.00000\n",
       "mean   1538.00000\n",
       "std    1115.25055\n",
       "min     343.00000\n",
       "25%     618.75000\n",
       "50%    1136.50000\n",
       "75%    2096.50000\n",
       "max    4044.00000"
      ]
     },
     "execution_count": 12,
     "metadata": {},
     "output_type": "execute_result"
    }
   ],
   "source": [
    "paBodyCounted.describe()"
   ]
  },
  {
   "cell_type": "code",
   "execution_count": 13,
   "id": "6da1f1d4-982c-4863-a55e-4c1c653c1a4f",
   "metadata": {},
   "outputs": [
    {
     "ename": "TypeError",
     "evalue": "list.count() takes exactly one argument (0 given)",
     "output_type": "error",
     "traceback": [
      "\u001b[0;31m---------------------------------------------------------------------------\u001b[0m",
      "\u001b[0;31mTypeError\u001b[0m                                 Traceback (most recent call last)",
      "\u001b[0;32m<ipython-input-13-6d68654e402a>\u001b[0m in \u001b[0;36m<module>\u001b[0;34m\u001b[0m\n\u001b[0;32m----> 1\u001b[0;31m \u001b[0mcoleccion\u001b[0m\u001b[0;34m.\u001b[0m\u001b[0mcount\u001b[0m\u001b[0;34m(\u001b[0m\u001b[0;34m)\u001b[0m\u001b[0;34m\u001b[0m\u001b[0;34m\u001b[0m\u001b[0m\n\u001b[0m",
      "\u001b[0;31mTypeError\u001b[0m: list.count() takes exactly one argument (0 given)"
     ]
    }
   ],
   "source": [
    "coleccion.count(\"\")"
   ]
  },
  {
   "cell_type": "code",
   "execution_count": null,
   "id": "0b3f5570-7328-46db-adb5-9ca7bfa985a5",
   "metadata": {},
   "outputs": [],
   "source": []
  }
 ],
 "metadata": {
  "kernelspec": {
   "display_name": "Python 3",
   "language": "python",
   "name": "python3"
  },
  "language_info": {
   "codemirror_mode": {
    "name": "ipython",
    "version": 3
   },
   "file_extension": ".py",
   "mimetype": "text/x-python",
   "name": "python",
   "nbconvert_exporter": "python",
   "pygments_lexer": "ipython3",
   "version": "3.9.4"
  }
 },
 "nbformat": 4,
 "nbformat_minor": 5
}
