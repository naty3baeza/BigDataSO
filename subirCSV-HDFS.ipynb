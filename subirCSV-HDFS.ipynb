{
 "cells": [
  {
   "cell_type": "code",
   "execution_count": 4,
   "id": "c67cc082-fd87-4355-a761-3acd81026319",
   "metadata": {},
   "outputs": [],
   "source": [
    "# importar hdfs\n",
    "from hdfs import InsecureClient"
   ]
  },
  {
   "cell_type": "code",
   "execution_count": 5,
   "id": "f89e92bd-24c6-48d6-8f49-49fffb8b693b",
   "metadata": {},
   "outputs": [],
   "source": [
    "#conectarme\n",
    "client = InsecureClient('http://localhost:9870', user='usuarioFAI')\n"
   ]
  },
  {
   "cell_type": "code",
   "execution_count": 7,
   "id": "10f9260f-cb37-48e2-8dad-b986638ebdd4",
   "metadata": {},
   "outputs": [],
   "source": [
    "#Subir un archivo\n",
    "#subirTags = client.upload('/so/','/home/usuarioFAI/ejemplosPython/Tags.csv')\n",
    "#subirVotes = client.upload('/so/','/home/usuarioFAI/ejemplosPython/Votes.csv')\n",
    "subirPostsA = client.upload('/so/','/home/usuarioFAI/ejemplosPython/PostA.csv')\n",
    "subirPostsQ = client.upload('/so/','/home/usuarioFAI/ejemplosPython/PostQ.csv')\n",
    "subirPostsO = client.upload('/so/','/home/usuarioFAI/ejemplosPython/PostO.csv')"
   ]
  },
  {
   "cell_type": "code",
   "execution_count": 8,
   "id": "086747da-27e6-4639-b85e-db9de0da6a02",
   "metadata": {},
   "outputs": [
    {
     "name": "stdout",
     "output_type": "stream",
     "text": [
      "['PostA.csv', 'PostO.csv', 'PostQ.csv', 'Posts.xml', 'Tags.csv', 'Tags.xml', 'Votes.csv', 'Votes.xml', 'nuevaCarpeta']\n"
     ]
    }
   ],
   "source": [
    "# Listar todos los archivos de una carpeta.\n",
    "listado = client.list('/so/')\n",
    "print(listado)\n"
   ]
  },
  {
   "cell_type": "code",
   "execution_count": null,
   "id": "9b3431db-2fd3-4892-8091-2dd9b1afcd0d",
   "metadata": {},
   "outputs": [],
   "source": []
  }
 ],
 "metadata": {
  "kernelspec": {
   "display_name": "Python 3",
   "language": "python",
   "name": "python3"
  },
  "language_info": {
   "codemirror_mode": {
    "name": "ipython",
    "version": 3
   },
   "file_extension": ".py",
   "mimetype": "text/x-python",
   "name": "python",
   "nbconvert_exporter": "python",
   "pygments_lexer": "ipython3",
   "version": "3.9.4"
  }
 },
 "nbformat": 4,
 "nbformat_minor": 5
}
