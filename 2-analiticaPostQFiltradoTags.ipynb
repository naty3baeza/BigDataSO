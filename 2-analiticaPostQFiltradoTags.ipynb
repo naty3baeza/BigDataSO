{
 "cells": [
  {
   "cell_type": "code",
   "execution_count": 76,
   "id": "959267f5-1639-4870-b4e9-2fde268d8518",
   "metadata": {},
   "outputs": [],
   "source": [
    "#importa pandas para usarlo como pd\n",
    "import pandas as pd\n",
    "import matplotlib as mpl\n",
    "import matplotlib.pyplot as plt"
   ]
  },
  {
   "cell_type": "code",
   "execution_count": 77,
   "id": "5f38d8cf-7b95-4081-82bb-d3920160d87e",
   "metadata": {},
   "outputs": [],
   "source": [
    "#recupera el archivo PostA desde hadoop\n",
    "postQTags = pd.read_csv('PostQTagsIdFiltrado.csv')"
   ]
  },
  {
   "cell_type": "code",
   "execution_count": 79,
   "id": "c996bd2f-abc1-4267-bef8-f4f5b568da5d",
   "metadata": {},
   "outputs": [
    {
     "data": {
      "text/html": [
       "<div>\n",
       "<style scoped>\n",
       "    .dataframe tbody tr th:only-of-type {\n",
       "        vertical-align: middle;\n",
       "    }\n",
       "\n",
       "    .dataframe tbody tr th {\n",
       "        vertical-align: top;\n",
       "    }\n",
       "\n",
       "    .dataframe thead th {\n",
       "        text-align: right;\n",
       "    }\n",
       "</style>\n",
       "<table border=\"1\" class=\"dataframe\">\n",
       "  <thead>\n",
       "    <tr style=\"text-align: right;\">\n",
       "      <th></th>\n",
       "      <th>Unnamed: 0</th>\n",
       "      <th>Tags</th>\n",
       "      <th>Id</th>\n",
       "    </tr>\n",
       "  </thead>\n",
       "  <tbody>\n",
       "    <tr>\n",
       "      <th>0</th>\n",
       "      <td>0</td>\n",
       "      <td>.net</td>\n",
       "      <td>1</td>\n",
       "    </tr>\n",
       "    <tr>\n",
       "      <th>1</th>\n",
       "      <td>1</td>\n",
       "      <td>asp.net-web-api</td>\n",
       "      <td>1</td>\n",
       "    </tr>\n",
       "    <tr>\n",
       "      <th>2</th>\n",
       "      <td>2</td>\n",
       "      <td>asp.net</td>\n",
       "      <td>1</td>\n",
       "    </tr>\n",
       "    <tr>\n",
       "      <th>3</th>\n",
       "      <td>3</td>\n",
       "      <td>delphi</td>\n",
       "      <td>3</td>\n",
       "    </tr>\n",
       "    <tr>\n",
       "      <th>4</th>\n",
       "      <td>4</td>\n",
       "      <td>c++</td>\n",
       "      <td>5</td>\n",
       "    </tr>\n",
       "    <tr>\n",
       "      <th>...</th>\n",
       "      <td>...</td>\n",
       "      <td>...</td>\n",
       "      <td>...</td>\n",
       "    </tr>\n",
       "    <tr>\n",
       "      <th>151870</th>\n",
       "      <td>151870</td>\n",
       "      <td>inicializacion</td>\n",
       "      <td>431537</td>\n",
       "    </tr>\n",
       "    <tr>\n",
       "      <th>151871</th>\n",
       "      <td>151871</td>\n",
       "      <td>android</td>\n",
       "      <td>431599</td>\n",
       "    </tr>\n",
       "    <tr>\n",
       "      <th>151872</th>\n",
       "      <td>151872</td>\n",
       "      <td>android-studio</td>\n",
       "      <td>431599</td>\n",
       "    </tr>\n",
       "    <tr>\n",
       "      <th>151873</th>\n",
       "      <td>151873</td>\n",
       "      <td>android-layout</td>\n",
       "      <td>431599</td>\n",
       "    </tr>\n",
       "    <tr>\n",
       "      <th>151874</th>\n",
       "      <td>151874</td>\n",
       "      <td>android-fragment</td>\n",
       "      <td>431599</td>\n",
       "    </tr>\n",
       "  </tbody>\n",
       "</table>\n",
       "<p>151875 rows × 3 columns</p>\n",
       "</div>"
      ],
      "text/plain": [
       "        Unnamed: 0              Tags      Id\n",
       "0                0              .net       1\n",
       "1                1   asp.net-web-api       1\n",
       "2                2           asp.net       1\n",
       "3                3            delphi       3\n",
       "4                4               c++       5\n",
       "...            ...               ...     ...\n",
       "151870      151870    inicializacion  431537\n",
       "151871      151871           android  431599\n",
       "151872      151872    android-studio  431599\n",
       "151873      151873    android-layout  431599\n",
       "151874      151874  android-fragment  431599\n",
       "\n",
       "[151875 rows x 3 columns]"
      ]
     },
     "execution_count": 79,
     "metadata": {},
     "output_type": "execute_result"
    }
   ],
   "source": [
    "# muestra los resultados del DataFrame\n",
    "postQTags.head(151875)"
   ]
  },
  {
   "cell_type": "code",
   "execution_count": 81,
   "id": "1b3a43fc-4455-498e-9b5f-85ac714c2126",
   "metadata": {},
   "outputs": [
    {
     "data": {
      "text/plain": [
       "Unnamed: 0    151875\n",
       "Tags          151839\n",
       "Id            151875\n",
       "dtype: int64"
      ]
     },
     "execution_count": 81,
     "metadata": {},
     "output_type": "execute_result"
    }
   ],
   "source": [
    "postQTags.count()"
   ]
  },
  {
   "cell_type": "code",
   "execution_count": 82,
   "id": "610bd85b-16a5-499a-9b49-8db3f7c7bce0",
   "metadata": {},
   "outputs": [],
   "source": [
    "# Ordenar los Tags alfabeticamene y guardarlos para ver los tags Null (NaN)\n",
    "pqtGB = postQTags.sort_values(by='Tags', ascending=True)\n",
    "pqtGB.to_csv(\"PostQTagsOrdenadoXTagFiltrado.csv\")"
   ]
  },
  {
   "cell_type": "code",
   "execution_count": 84,
   "id": "f139a7db-0fe1-447e-9a29-91697378b6cd",
   "metadata": {},
   "outputs": [],
   "source": [
    "pqtGB.fillna('null', inplace=True)"
   ]
  },
  {
   "cell_type": "code",
   "execution_count": 86,
   "id": "99449bf5-9691-4286-b2b0-a8934a141731",
   "metadata": {},
   "outputs": [
    {
     "data": {
      "text/plain": [
       "Unnamed: 0    36\n",
       "Tags          36\n",
       "Id            36\n",
       "dtype: int64"
      ]
     },
     "execution_count": 86,
     "metadata": {},
     "output_type": "execute_result"
    }
   ],
   "source": [
    "pqtGB[pqtGB.Tags == 'null'].count()"
   ]
  },
  {
   "cell_type": "code",
   "execution_count": 98,
   "id": "f8372f5f-0b2c-48dc-b31f-1edc3214b782",
   "metadata": {},
   "outputs": [
    {
     "data": {
      "text/html": [
       "<div>\n",
       "<style scoped>\n",
       "    .dataframe tbody tr th:only-of-type {\n",
       "        vertical-align: middle;\n",
       "    }\n",
       "\n",
       "    .dataframe tbody tr th {\n",
       "        vertical-align: top;\n",
       "    }\n",
       "\n",
       "    .dataframe thead th {\n",
       "        text-align: right;\n",
       "    }\n",
       "</style>\n",
       "<table border=\"1\" class=\"dataframe\">\n",
       "  <thead>\n",
       "    <tr style=\"text-align: right;\">\n",
       "      <th></th>\n",
       "      <th>Tags</th>\n",
       "      <th>Usos</th>\n",
       "    </tr>\n",
       "  </thead>\n",
       "  <tbody>\n",
       "    <tr>\n",
       "      <th>1013</th>\n",
       "      <td>javascript</td>\n",
       "      <td>11326</td>\n",
       "    </tr>\n",
       "  </tbody>\n",
       "</table>\n",
       "</div>"
      ],
      "text/plain": [
       "            Tags   Usos\n",
       "1013  javascript  11326"
      ]
     },
     "execution_count": 98,
     "metadata": {},
     "output_type": "execute_result"
    }
   ],
   "source": [
    "pqtGB[pqtGB.Tags == 'javascript']"
   ]
  },
  {
   "cell_type": "code",
   "execution_count": 87,
   "id": "aab3f005-0558-491b-a753-a175af594a34",
   "metadata": {},
   "outputs": [
    {
     "data": {
      "text/html": [
       "<div>\n",
       "<style scoped>\n",
       "    .dataframe tbody tr th:only-of-type {\n",
       "        vertical-align: middle;\n",
       "    }\n",
       "\n",
       "    .dataframe tbody tr th {\n",
       "        vertical-align: top;\n",
       "    }\n",
       "\n",
       "    .dataframe thead th {\n",
       "        text-align: right;\n",
       "    }\n",
       "</style>\n",
       "<table border=\"1\" class=\"dataframe\">\n",
       "  <thead>\n",
       "    <tr style=\"text-align: right;\">\n",
       "      <th></th>\n",
       "      <th>Tags</th>\n",
       "      <th>Usos</th>\n",
       "    </tr>\n",
       "  </thead>\n",
       "  <tbody>\n",
       "    <tr>\n",
       "      <th>1013</th>\n",
       "      <td>javascript</td>\n",
       "      <td>11326</td>\n",
       "    </tr>\n",
       "    <tr>\n",
       "      <th>1454</th>\n",
       "      <td>php</td>\n",
       "      <td>9799</td>\n",
       "    </tr>\n",
       "    <tr>\n",
       "      <th>994</th>\n",
       "      <td>java</td>\n",
       "      <td>7190</td>\n",
       "    </tr>\n",
       "    <tr>\n",
       "      <th>885</th>\n",
       "      <td>html</td>\n",
       "      <td>6139</td>\n",
       "    </tr>\n",
       "    <tr>\n",
       "      <th>1580</th>\n",
       "      <td>python</td>\n",
       "      <td>5253</td>\n",
       "    </tr>\n",
       "    <tr>\n",
       "      <th>...</th>\n",
       "      <td>...</td>\n",
       "      <td>...</td>\n",
       "    </tr>\n",
       "    <tr>\n",
       "      <th>283</th>\n",
       "      <td>búsqueda-monte-carlo</td>\n",
       "      <td>1</td>\n",
       "    </tr>\n",
       "    <tr>\n",
       "      <th>1967</th>\n",
       "      <td>tcl</td>\n",
       "      <td>1</td>\n",
       "    </tr>\n",
       "    <tr>\n",
       "      <th>1966</th>\n",
       "      <td>task-runner</td>\n",
       "      <td>1</td>\n",
       "    </tr>\n",
       "    <tr>\n",
       "      <th>478</th>\n",
       "      <td>datos-abiertos</td>\n",
       "      <td>1</td>\n",
       "    </tr>\n",
       "    <tr>\n",
       "      <th>1127</th>\n",
       "      <td>ld</td>\n",
       "      <td>1</td>\n",
       "    </tr>\n",
       "  </tbody>\n",
       "</table>\n",
       "<p>2255 rows × 2 columns</p>\n",
       "</div>"
      ],
      "text/plain": [
       "                      Tags   Usos\n",
       "1013            javascript  11326\n",
       "1454                   php   9799\n",
       "994                   java   7190\n",
       "885                   html   6139\n",
       "1580                python   5253\n",
       "...                    ...    ...\n",
       "283   búsqueda-monte-carlo      1\n",
       "1967                   tcl      1\n",
       "1966           task-runner      1\n",
       "478         datos-abiertos      1\n",
       "1127                    ld      1\n",
       "\n",
       "[2255 rows x 2 columns]"
      ]
     },
     "execution_count": 87,
     "metadata": {},
     "output_type": "execute_result"
    }
   ],
   "source": [
    "pqtGB = postQTags.groupby(['Tags']).size().reset_index(name='Usos').sort_values(by='Usos', ascending=False)\n",
    "pqtGB.to_csv(\"PostQTagsAgrupadoXTagFiltrado.csv\")\n",
    "pqtGB.head(2255)"
   ]
  },
  {
   "cell_type": "code",
   "execution_count": 91,
   "id": "10010609-0b54-4ff6-a9c1-3078ff8d3af1",
   "metadata": {},
   "outputs": [
    {
     "data": {
      "text/plain": [
       "len     2255\n",
       "min        1\n",
       "max    11326\n",
       "Name: Usos, dtype: int64"
      ]
     },
     "execution_count": 91,
     "metadata": {},
     "output_type": "execute_result"
    }
   ],
   "source": [
    "#len = cantidad de etiquetas (hay 2689 Tags distintos)\n",
    "# min = el minimo uso de un tag\n",
    "# max = el maximo uso de un tag\n",
    "pqtGB.Usos.agg([len, min, max])"
   ]
  },
  {
   "cell_type": "code",
   "execution_count": 88,
   "id": "72f9f5ed-2cdd-4ece-8d69-1d15b31ee8b0",
   "metadata": {},
   "outputs": [
    {
     "data": {
      "text/html": [
       "<div>\n",
       "<style scoped>\n",
       "    .dataframe tbody tr th:only-of-type {\n",
       "        vertical-align: middle;\n",
       "    }\n",
       "\n",
       "    .dataframe tbody tr th {\n",
       "        vertical-align: top;\n",
       "    }\n",
       "\n",
       "    .dataframe thead th {\n",
       "        text-align: right;\n",
       "    }\n",
       "</style>\n",
       "<table border=\"1\" class=\"dataframe\">\n",
       "  <thead>\n",
       "    <tr style=\"text-align: right;\">\n",
       "      <th></th>\n",
       "      <th>Usos</th>\n",
       "    </tr>\n",
       "  </thead>\n",
       "  <tbody>\n",
       "    <tr>\n",
       "      <th>count</th>\n",
       "      <td>2255.000000</td>\n",
       "    </tr>\n",
       "    <tr>\n",
       "      <th>mean</th>\n",
       "      <td>67.334368</td>\n",
       "    </tr>\n",
       "    <tr>\n",
       "      <th>std</th>\n",
       "      <td>464.989185</td>\n",
       "    </tr>\n",
       "    <tr>\n",
       "      <th>min</th>\n",
       "      <td>1.000000</td>\n",
       "    </tr>\n",
       "    <tr>\n",
       "      <th>25%</th>\n",
       "      <td>2.000000</td>\n",
       "    </tr>\n",
       "    <tr>\n",
       "      <th>50%</th>\n",
       "      <td>6.000000</td>\n",
       "    </tr>\n",
       "    <tr>\n",
       "      <th>75%</th>\n",
       "      <td>22.000000</td>\n",
       "    </tr>\n",
       "    <tr>\n",
       "      <th>max</th>\n",
       "      <td>11326.000000</td>\n",
       "    </tr>\n",
       "  </tbody>\n",
       "</table>\n",
       "</div>"
      ],
      "text/plain": [
       "               Usos\n",
       "count   2255.000000\n",
       "mean      67.334368\n",
       "std      464.989185\n",
       "min        1.000000\n",
       "25%        2.000000\n",
       "50%        6.000000\n",
       "75%       22.000000\n",
       "max    11326.000000"
      ]
     },
     "execution_count": 88,
     "metadata": {},
     "output_type": "execute_result"
    }
   ],
   "source": [
    "# count = para cuantos registros aplica\n",
    "# mean = media\n",
    "# std = desviación estandar\n",
    "# min = valor minimo de aparición de un tags\n",
    "# max = valor maximo de aparición de un tags\n",
    "# 25% , 50% y 75% son 1º, 2º y 3º cuartil respectivamente.\n",
    "# el primer 25% de los count tiene 4.\n",
    "# el 50 % tiene 12 counts\n",
    "# el 75 % tiene 47 counts\n",
    "\n",
    "pqtGB.describe()"
   ]
  },
  {
   "cell_type": "code",
   "execution_count": 89,
   "id": "1a8d6b9f-4352-4ad0-9e23-82307c637458",
   "metadata": {},
   "outputs": [
    {
     "data": {
      "image/png": "[encoded data removed]",
      "text/plain": [
       "<Figure size 432x288 with 1 Axes>"
      ]
     },
     "metadata": {
      "needs_background": "light"
     },
     "output_type": "display_data"
    },
    {
     "data": {
      "text/plain": [
       "<Figure size 432x288 with 0 Axes>"
      ]
     },
     "metadata": {},
     "output_type": "display_data"
    }
   ],
   "source": [
    "#p2= pqtGB[0:100]\n",
    "plt.style.use('bmh')\n",
    "plt.plot(pqtGB['Tags'], pqtGB['Usos'])\n",
    "plt.title(\"Tendencia de uso de tags\")\n",
    "plt.xlabel(\"Tags\")\n",
    "plt.ylabel('Cantidad de usos')\n",
    "plt.xticks('')   \n",
    "plt.show()\n",
    "#plt.savefig('img1.png')"
   ]
  },
  {
   "cell_type": "markdown",
   "id": "b3117aca-57e2-46d9-9fc3-8bb01cb87697",
   "metadata": {},
   "source": [
    "# Trabajando con una muestra representativa de 100 Tags"
   ]
  },
  {
   "cell_type": "code",
   "execution_count": null,
   "id": "01588604-4862-4727-8a2b-c529f20d9c4a",
   "metadata": {},
   "outputs": [],
   "source": [
    "p2= pqtGB[0:100]"
   ]
  },
  {
   "cell_type": "code",
   "execution_count": 93,
   "id": "8a35d49c-473c-4183-a6e0-e75d1659fa56",
   "metadata": {},
   "outputs": [
    {
     "data": {
      "image/png": "[encoded data removed]",
      "text/plain": [
       "<Figure size 432x288 with 1 Axes>"
      ]
     },
     "metadata": {
      "needs_background": "light"
     },
     "output_type": "display_data"
    }
   ],
   "source": [
    "plt.style.use('bmh')\n",
    "plt.plot(p2['Tags'], p2['Usos'])\n",
    "plt.title(\"Tendencia de los 100 tags mas usados\")\n",
    "plt.xlabel(\"Tags\")\n",
    "plt.ylabel('Cantidad de usos')\n",
    "plt.xticks('')   \n",
    "plt.show()"
   ]
  },
  {
   "cell_type": "code",
   "execution_count": 94,
   "id": "6ef01aff-5773-446f-89f5-6e5a7932f17a",
   "metadata": {},
   "outputs": [],
   "source": [
    "plt.close()"
   ]
  },
  {
   "cell_type": "code",
   "execution_count": null,
   "id": "84caa4ab-8ffd-4883-a807-2b4ff68650d0",
   "metadata": {},
   "outputs": [],
   "source": [
    "p3 = p2[0:20]"
   ]
  },
  {
   "cell_type": "code",
   "execution_count": 110,
   "id": "978e881f-1289-4000-92a9-a614c55bd4a9",
   "metadata": {},
   "outputs": [
    {
     "data": {
      "text/plain": [
       "Text(0, 0.5, 'Volumen de peticiones')"
      ]
     },
     "execution_count": 110,
     "metadata": {},
     "output_type": "execute_result"
    },
    {
     "data": {
      "image/png": "[encoded data removed]",
      "text/plain": [
       "<Figure size 432x288 with 1 Axes>"
      ]
     },
     "metadata": {
      "needs_background": "light"
     },
     "output_type": "display_data"
    }
   ],
   "source": [
    "plt.figure()#Figura. Puede incluirse el tamaño con figsize\n",
    "x= p3['Tags']\n",
    "y= p3['Usos']\n",
    "ax = plt.subplot() #Axis\n",
    "plt.bar(x, y)#El gráfico\n",
    "plt.title('Muestra de los 20 Tags mas usados')#El título\n",
    "ax.set_xticks(x)#Eje x\n",
    "ax.set_xticklabels(x, rotation=90)#Etiquetas del eje x\n",
    "ax.set_xlabel('Tags')#Nombre del eje x\n",
    "ax.set_ylabel('Usos')#Nombre del eje y"
   ]
  },
  {
   "cell_type": "code",
   "execution_count": 121,
   "id": "c4fe19ca-9a55-409a-8210-7803a3eedf3d",
   "metadata": {},
   "outputs": [],
   "source": [
    "# Porcentajes respecto del total filtrado\n"
   ]
  },
  {
   "cell_type": "code",
   "execution_count": null,
   "id": "11b29982-bd26-4f78-970c-aa6c56f77f95",
   "metadata": {},
   "outputs": [],
   "source": [
    "# Porcentajes respecto del total sobre Tags"
   ]
  },
  {
   "cell_type": "code",
   "execution_count": null,
   "id": "b64baa1d-32eb-481c-bd32-2746aa49beb0",
   "metadata": {},
   "outputs": [],
   "source": []
  }
 ],
 "metadata": {
  "kernelspec": {
   "display_name": "Python 3",
   "language": "python",
   "name": "python3"
  },
  "language_info": {
   "codemirror_mode": {
    "name": "ipython",
    "version": 3
   },
   "file_extension": ".py",
   "mimetype": "text/x-python",
   "name": "python",
   "nbconvert_exporter": "python",
   "pygments_lexer": "ipython3",
   "version": "3.9.4"
  }
 },
 "nbformat": 4,
 "nbformat_minor": 5
}
