{
 "cells": [
  {
   "cell_type": "code",
   "execution_count": 1,
   "id": "f5558542-23f8-4383-904c-b3f4a78e4c1a",
   "metadata": {},
   "outputs": [],
   "source": [
    "# LIMPIEZA DE DATOS CON PYSPARK"
   ]
  },
  {
   "cell_type": "code",
   "execution_count": 1,
   "id": "912d4e81-f7a5-4fcb-ba26-3a434cfa9165",
   "metadata": {},
   "outputs": [],
   "source": [
    "#importo la libreria\n",
    "from pyspark.sql import SparkSession"
   ]
  },
  {
   "cell_type": "code",
   "execution_count": 2,
   "id": "32887c82-4f50-48ac-834f-2599340baa32",
   "metadata": {},
   "outputs": [],
   "source": [
    "#abro una sesion con un nombre\n",
    "spark=SparkSession.builder.appName('pysarkpruebaslimpieza').getOrCreate()"
   ]
  },
  {
   "cell_type": "code",
   "execution_count": 3,
   "id": "8821251a-c469-4b6a-a85b-1696236ef1cb",
   "metadata": {},
   "outputs": [],
   "source": [
    "# Creamos un DF con datos \n",
    "df = spark.createDataFrame([\n",
    "        (1, 154.5, 45.9, 33, 'M'),\n",
    "        (2, 167.2, 83.4, 45, 'M'),\n",
    "        (3, 164.1, 61.2, 23, 'F'),\n",
    "        (4, 162.5, 56.9, 23, 'M'),\n",
    "        (5, 170.0, 65.7, 54, 'F'),\n",
    "        (3, 164.1, 61.2, 23, 'F'),\n",
    "        (5, 159.2, 59.3, 42, 'M'),\n",
    "        (5, 159.2, 59.3, 42, 'F'),\n",
    "        (6, 129.2, 35.3, None, 'M'),\n",
    "        (7, 159.2, 59.3, 42, None),\n",
    "        (8, None, None, 35, 'M'),\n",
    "        (None, 159.2, 59.3, 42, 'M'),\n",
    "        (5, 110.2, 23.4, None, 'F'),        \n",
    "    ], ['id', 'altura', 'peso', 'edad', 'genero'])"
   ]
  },
  {
   "cell_type": "code",
   "execution_count": 4,
   "id": "6cf519a3-aca7-410c-beb7-7834129e131f",
   "metadata": {},
   "outputs": [
    {
     "name": "stdout",
     "output_type": "stream",
     "text": [
      "+----+------+----+----+------+\n",
      "|  id|altura|peso|edad|genero|\n",
      "+----+------+----+----+------+\n",
      "|   1| 154.5|45.9|  33|     M|\n",
      "|   2| 167.2|83.4|  45|     M|\n",
      "|   3| 164.1|61.2|  23|     F|\n",
      "|   4| 162.5|56.9|  23|     M|\n",
      "|   5| 170.0|65.7|  54|     F|\n",
      "|   3| 164.1|61.2|  23|     F|\n",
      "|   5| 159.2|59.3|  42|     M|\n",
      "|   5| 159.2|59.3|  42|     F|\n",
      "|   6| 129.2|35.3|null|     M|\n",
      "|   7| 159.2|59.3|  42|  null|\n",
      "|   8|  null|null|  35|     M|\n",
      "|null| 159.2|59.3|  42|     M|\n",
      "|   5| 110.2|23.4|null|     F|\n",
      "+----+------+----+----+------+\n",
      "\n"
     ]
    }
   ],
   "source": [
    "df.show()"
   ]
  },
  {
   "cell_type": "code",
   "execution_count": 5,
   "id": "95b3b77e-3091-4def-823c-28b90e7955a4",
   "metadata": {},
   "outputs": [
    {
     "name": "stdout",
     "output_type": "stream",
     "text": [
      "Cantidad de Filas:  13\n",
      "Cantidad de filas diferentes:  12\n"
     ]
    }
   ],
   "source": [
    "#verifico duplicados, la fila con id=3 es la misma, las demas son diferentes\n",
    "print('Cantidad de Filas: ', df.count())\n",
    "print('Cantidad de filas diferentes: ', df.distinct().count())"
   ]
  },
  {
   "cell_type": "code",
   "execution_count": 6,
   "id": "f97bdb83-453d-4139-a0d7-e9e88aaf0413",
   "metadata": {},
   "outputs": [
    {
     "name": "stdout",
     "output_type": "stream",
     "text": [
      "+----+------+----+----+------+\n",
      "|  id|altura|peso|edad|genero|\n",
      "+----+------+----+----+------+\n",
      "|null| 159.2|59.3|  42|     M|\n",
      "|   3| 164.1|61.2|  23|     F|\n",
      "|   5| 159.2|59.3|  42|     M|\n",
      "|   1| 154.5|45.9|  33|     M|\n",
      "|   4| 162.5|56.9|  23|     M|\n",
      "|   2| 167.2|83.4|  45|     M|\n",
      "|   8|  null|null|  35|     M|\n",
      "|   5| 110.2|23.4|null|     F|\n",
      "|   7| 159.2|59.3|  42|  null|\n",
      "|   5| 159.2|59.3|  42|     F|\n",
      "|   5| 170.0|65.7|  54|     F|\n",
      "|   6| 129.2|35.3|null|     M|\n",
      "+----+------+----+----+------+\n",
      "\n"
     ]
    },
    {
     "data": {
      "text/plain": [
       "12"
      ]
     },
     "execution_count": 6,
     "metadata": {},
     "output_type": "execute_result"
    }
   ],
   "source": [
    "# elimno duplicados\n",
    "df = df.dropDuplicates()\n",
    "df.show()\n",
    "df.count()"
   ]
  },
  {
   "cell_type": "code",
   "execution_count": 7,
   "id": "ed9edd4f-13ff-4648-b14c-ddb1783e3534",
   "metadata": {},
   "outputs": [
    {
     "name": "stdout",
     "output_type": "stream",
     "text": [
      "+-----+--------+\n",
      "|count|distinct|\n",
      "+-----+--------+\n",
      "|   11|       8|\n",
      "+-----+--------+\n",
      "\n"
     ]
    }
   ],
   "source": [
    "# contar ids diferentes, no tuplas..en este caso 5\n",
    "import pyspark.sql.functions as fn\n",
    "\n",
    "df.agg(\n",
    "    fn.count('id').alias('count'),\n",
    "    fn.countDistinct('id').alias('distinct')\n",
    ").show()\n",
    "#fijense que no cuenta el id null"
   ]
  },
  {
   "cell_type": "code",
   "execution_count": null,
   "id": "2088b467-ae8d-4bcb-b5b9-5162952947f2",
   "metadata": {},
   "outputs": [],
   "source": [
    "# darle a cada fila un id unico\n",
    "df.withColumn('nuevo_id', fn.monotonically_increasing_id()).show()"
   ]
  },
  {
   "cell_type": "code",
   "execution_count": 10,
   "id": "5c4a41fc-319b-483e-857e-d445f3412a3c",
   "metadata": {},
   "outputs": [
    {
     "name": "stdout",
     "output_type": "stream",
     "text": [
      "la cantidad de NO nulos es:  10\n"
     ]
    }
   ],
   "source": [
    "#cuantos no nulas tengo en edad?\n",
    "print(\"la cantidad de NO nulos es: \", df.filter(df.edad.isNotNull()).count())"
   ]
  },
  {
   "cell_type": "code",
   "execution_count": 11,
   "id": "90759caa-369e-41d1-a04a-8c30c774fa29",
   "metadata": {},
   "outputs": [],
   "source": [
    "#a la columna edad cuando es nula ponerle la edad de 0\n",
    "#importat la libreria primero\n",
    "from pyspark.sql.functions import when\n",
    "\n",
    "dfnuevo = df.withColumn(\"edad\",when((df['edad'].isNull()), 0).otherwise(df['edad']))"
   ]
  },
  {
   "cell_type": "code",
   "execution_count": 12,
   "id": "18e7ca89-e52f-440c-b19e-e5024bf982cd",
   "metadata": {},
   "outputs": [
    {
     "name": "stdout",
     "output_type": "stream",
     "text": [
      "la cantidad de NO nulos ahora en dfnuevo es:  10\n",
      "+----+------+----+----+------+\n",
      "|  id|altura|peso|edad|genero|\n",
      "+----+------+----+----+------+\n",
      "|null| 159.2|59.3|  42|     M|\n",
      "|   3| 164.1|61.2|  23|     F|\n",
      "|   5| 159.2|59.3|  42|     M|\n",
      "|   1| 154.5|45.9|  33|     M|\n",
      "|   4| 162.5|56.9|  23|     M|\n",
      "|   2| 167.2|83.4|  45|     M|\n",
      "|   8|  null|null|  35|     M|\n",
      "|   5| 110.2|23.4|   0|     F|\n",
      "|   7| 159.2|59.3|  42|  null|\n",
      "|   5| 159.2|59.3|  42|     F|\n",
      "|   5| 170.0|65.7|  54|     F|\n",
      "|   6| 129.2|35.3|   0|     M|\n",
      "+----+------+----+----+------+\n",
      "\n"
     ]
    }
   ],
   "source": [
    "# a ver si funciono?\n",
    "print(\"la cantidad de NO nulos ahora en dfnuevo es: \", dfnuevo.filter(df.edad.isNotNull()).count())\n",
    "dfnuevo.show()"
   ]
  },
  {
   "cell_type": "code",
   "execution_count": 13,
   "id": "793d96b5-e928-4836-81d9-978c0f34d863",
   "metadata": {},
   "outputs": [
    {
     "name": "stdout",
     "output_type": "stream",
     "text": [
      "+---+------+----+----+------+\n",
      "| id|altura|peso|edad|genero|\n",
      "+---+------+----+----+------+\n",
      "|  3| 164.1|61.2|  23|     F|\n",
      "|  5| 159.2|59.3|  42|     M|\n",
      "|  1| 154.5|45.9|  33|     M|\n",
      "|  4| 162.5|56.9|  23|     M|\n",
      "|  2| 167.2|83.4|  45|     M|\n",
      "|  5| 159.2|59.3|  42|     F|\n",
      "|  5| 170.0|65.7|  54|     F|\n",
      "+---+------+----+----+------+\n",
      "\n"
     ]
    }
   ],
   "source": [
    "#si queremos borrar las filas que tienen valores nulos\n",
    "dfnuevo=df.na.drop()\n",
    "dfnuevo.show()"
   ]
  },
  {
   "cell_type": "code",
   "execution_count": 14,
   "id": "c40e522c-2b6e-40f5-9a04-1da76247cf51",
   "metadata": {},
   "outputs": [
    {
     "name": "stdout",
     "output_type": "stream",
     "text": [
      "+---+------+-----+----+------+\n",
      "| id|altura| peso|edad|genero|\n",
      "+---+------+-----+----+------+\n",
      "|400| 159.2| 59.3|  42|     M|\n",
      "|  3| 164.1| 61.2|  23|     F|\n",
      "|  5| 159.2| 59.3|  42|     M|\n",
      "|  1| 154.5| 45.9|  33|     M|\n",
      "|  4| 162.5| 56.9|  23|     M|\n",
      "|  2| 167.2| 83.4|  45|     M|\n",
      "|  8| 400.0|400.0|  35|     M|\n",
      "|  5| 110.2| 23.4| 400|     F|\n",
      "|  7| 159.2| 59.3|  42|  null|\n",
      "|  5| 159.2| 59.3|  42|     F|\n",
      "|  5| 170.0| 65.7|  54|     F|\n",
      "|  6| 129.2| 35.3| 400|     M|\n",
      "+---+------+-----+----+------+\n",
      "\n"
     ]
    }
   ],
   "source": [
    "#reemplazar los valores nulos \n",
    "dfnuevo=df.na.fill(400)\n",
    "dfnuevo.show()"
   ]
  },
  {
   "cell_type": "code",
   "execution_count": null,
   "id": "65dbfb74-d087-430b-ac9e-c3e8740f19ed",
   "metadata": {},
   "outputs": [],
   "source": []
  }
 ],
 "metadata": {
  "kernelspec": {
   "display_name": "Python 3",
   "language": "python",
   "name": "python3"
  },
  "language_info": {
   "codemirror_mode": {
    "name": "ipython",
    "version": 3
   },
   "file_extension": ".py",
   "mimetype": "text/x-python",
   "name": "python",
   "nbconvert_exporter": "python",
   "pygments_lexer": "ipython3",
   "version": "3.9.4"
  }
 },
 "nbformat": 4,
 "nbformat_minor": 5
}
