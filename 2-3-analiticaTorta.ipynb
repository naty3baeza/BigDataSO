{
 "cells": [
  {
   "cell_type": "markdown",
   "id": "b8e782d9-13ad-4b25-bf88-b32345141203",
   "metadata": {},
   "source": [
    "# Porcentaje de Post Trabajados y Descartados"
   ]
  },
  {
   "cell_type": "code",
   "execution_count": 111,
   "id": "959267f5-1639-4870-b4e9-2fde268d8518",
   "metadata": {},
   "outputs": [],
   "source": [
    "#importa pandas para usarlo como pd\n",
    "import pandas as pd\n",
    "import matplotlib as mpl\n",
    "import matplotlib.pyplot as plt"
   ]
  },
  {
   "cell_type": "code",
   "execution_count": 113,
   "id": "5f38d8cf-7b95-4081-82bb-d3920160d87e",
   "metadata": {},
   "outputs": [],
   "source": [
    "#recupera el archivo PostA desde hadoop\n",
    "postQCompleto = pd.read_csv('PostQ.csv')"
   ]
  },
  {
   "cell_type": "code",
   "execution_count": 124,
   "id": "2f62c5f8-03f6-4614-b2f0-3ea794f9b5d4",
   "metadata": {},
   "outputs": [
    {
     "data": {
      "text/plain": [
       "Unnamed: 0          145623\n",
       "Id                  145623\n",
       "PostTypeId          145623\n",
       "AcceptedAnswerId     61586\n",
       "CreationDate        145623\n",
       "Body                145623\n",
       "Title               145623\n",
       "Tags                145623\n",
       "AnswerCount         145623\n",
       "dtype: int64"
      ]
     },
     "execution_count": 124,
     "metadata": {},
     "output_type": "execute_result"
    }
   ],
   "source": [
    "postQCompleto.count()"
   ]
  },
  {
   "cell_type": "code",
   "execution_count": 125,
   "id": "c996bd2f-abc1-4267-bef8-f4f5b568da5d",
   "metadata": {},
   "outputs": [
    {
     "name": "stdout",
     "output_type": "stream",
     "text": [
      "61586\n"
     ]
    }
   ],
   "source": [
    "#Recupera cantidad de Post de tipo Pregunta con AcceptedAnswerId en True\n",
    "conAccAnsId = postQCompleto.AcceptedAnswerId.count()\n",
    "print(conAccAnsId)"
   ]
  },
  {
   "cell_type": "code",
   "execution_count": 126,
   "id": "bdfe1536-ae91-4603-96fe-a51ecf91ac92",
   "metadata": {},
   "outputs": [
    {
     "name": "stdout",
     "output_type": "stream",
     "text": [
      "84037\n"
     ]
    }
   ],
   "source": [
    "##Calcula la cantidad de Post con AcceptedAnswerId en False\n",
    "sinAccAnsId = postQCompleto.Id.count() - postQCompleto.AcceptedAnswerId.count()\n",
    "print(sinAccAnsId)"
   ]
  },
  {
   "cell_type": "code",
   "execution_count": 163,
   "id": "e0f6185c-1bb9-466e-aaca-ef50b423f7ae",
   "metadata": {},
   "outputs": [
    {
     "data": {
      "image/png": "[encoded data removed]",
      "text/plain": [
       "<Figure size 432x288 with 1 Axes>"
      ]
     },
     "metadata": {},
     "output_type": "display_data"
    }
   ],
   "source": [
    "valores = [conAccAnsId, sinAccAnsId]\n",
    "t = ['conAID', 'sinAID']\n",
    "colores = [\"#FFD97D\",\"#FF9B85\"]\n",
    "plt.pie(valores,labels= t, autopct=\"%0.1f %%\", colors=colores)\n",
    "plt.show()"
   ]
  },
  {
   "cell_type": "markdown",
   "id": "9b5a680b-01c2-4439-973f-cc63d38b95ef",
   "metadata": {},
   "source": [
    "> el 42,3% del total de Post de pregunta tienen una Respuesta aceptada. Mientras que en el 57,7% el usuario que pregunta no ha aceptado aun una respuesta como correcta. \n",
    "Para este estudio solamente se consideró el conjunto \"conAID\"."
   ]
  },
  {
   "cell_type": "markdown",
   "id": "c38a4ad2-cecb-4083-b761-6aa078f4e90d",
   "metadata": {},
   "source": [
    "# Porcentajes respecto del total sobre Tags"
   ]
  },
  {
   "cell_type": "code",
   "execution_count": 130,
   "id": "b64baa1d-32eb-481c-bd32-2746aa49beb0",
   "metadata": {},
   "outputs": [],
   "source": [
    "tagsCompleto = pd.read_csv('Tags.csv')"
   ]
  },
  {
   "cell_type": "code",
   "execution_count": null,
   "id": "72648231-539a-49ab-b0a5-39ffb6463dd5",
   "metadata": {},
   "outputs": [],
   "source": [
    "#tc = tagsCompleto.sort_values(by='TagName', ascending=False)\n",
    "#print (tc)\n",
    "#tc2 = tc.loc[pd.isnull(tc.TagName)]\n",
    "#print (tc2)"
   ]
  },
  {
   "cell_type": "code",
   "execution_count": 131,
   "id": "733d7a4c-958d-4e7c-888b-1a36fe8f6303",
   "metadata": {},
   "outputs": [
    {
     "data": {
      "text/plain": [
       "Unnamed: 0       2690\n",
       "Id               2690\n",
       "TagName          2689\n",
       "Count            2690\n",
       "ExcerptPostId    1494\n",
       "WikiPostId       1494\n",
       "dtype: int64"
      ]
     },
     "execution_count": 131,
     "metadata": {},
     "output_type": "execute_result"
    }
   ],
   "source": [
    "tagsCompleto.count()"
   ]
  },
  {
   "cell_type": "code",
   "execution_count": 136,
   "id": "d0e86f74-cb37-4fc9-80ac-5c2e8349ff77",
   "metadata": {},
   "outputs": [],
   "source": [
    "pqtIdCompleto = pd.read_csv('PostQTagsAgrupadoXTag.csv')"
   ]
  },
  {
   "cell_type": "code",
   "execution_count": 137,
   "id": "a017212a-de35-4469-8f60-c101f5543b94",
   "metadata": {},
   "outputs": [
    {
     "data": {
      "text/plain": [
       "Unnamed: 0    2689\n",
       "Tags          2689\n",
       "Usos          2689\n",
       "dtype: int64"
      ]
     },
     "execution_count": 137,
     "metadata": {},
     "output_type": "execute_result"
    }
   ],
   "source": [
    "pqtIdCompleto.count()"
   ]
  },
  {
   "cell_type": "code",
   "execution_count": 138,
   "id": "77550626-cfa4-488e-af16-186fee4f1da8",
   "metadata": {},
   "outputs": [],
   "source": [
    "pqtIdFiltrado = pd.read_csv('PostQTagsAgrupadoXTagFiltrado.csv')"
   ]
  },
  {
   "cell_type": "code",
   "execution_count": 139,
   "id": "7919176e-7a17-44f7-b43b-3fab10cdab6f",
   "metadata": {},
   "outputs": [
    {
     "data": {
      "text/plain": [
       "Unnamed: 0    2255\n",
       "Tags          2255\n",
       "Usos          2255\n",
       "dtype: int64"
      ]
     },
     "execution_count": 139,
     "metadata": {},
     "output_type": "execute_result"
    }
   ],
   "source": [
    "pqtIdFiltrado.count()"
   ]
  },
  {
   "cell_type": "code",
   "execution_count": 140,
   "id": "a4aebb7a-2322-438f-afb1-896b5e830da7",
   "metadata": {},
   "outputs": [],
   "source": [
    "tagsTotales = pqtIdCompleto.Tags.count()"
   ]
  },
  {
   "cell_type": "code",
   "execution_count": 142,
   "id": "a9002067-5ca0-4f20-a71c-255cd029c92a",
   "metadata": {},
   "outputs": [
    {
     "name": "stdout",
     "output_type": "stream",
     "text": [
      "2689\n"
     ]
    }
   ],
   "source": [
    "print(tagsTotales)"
   ]
  },
  {
   "cell_type": "code",
   "execution_count": 144,
   "id": "5f82a485-6427-4b37-a48f-5ca8502fe675",
   "metadata": {},
   "outputs": [],
   "source": [
    "tagsPQFiltrados = pqtIdFiltrado.Tags.count()"
   ]
  },
  {
   "cell_type": "code",
   "execution_count": 145,
   "id": "57cbd0ef-ed14-44db-ab1a-5df0f98b6c5b",
   "metadata": {},
   "outputs": [
    {
     "name": "stdout",
     "output_type": "stream",
     "text": [
      "2255\n"
     ]
    }
   ],
   "source": [
    "print(tagsPQFiltrados)"
   ]
  },
  {
   "cell_type": "code",
   "execution_count": 146,
   "id": "412526b6-72c0-4f39-815e-256f53fab5d9",
   "metadata": {},
   "outputs": [
    {
     "name": "stdout",
     "output_type": "stream",
     "text": [
      "434\n"
     ]
    }
   ],
   "source": [
    "tagsNoConsiderados = tagsTotales - tagsPQFiltrados\n",
    "print(tagsNoConsiderados)"
   ]
  },
  {
   "cell_type": "code",
   "execution_count": 164,
   "id": "6fe987b9-e007-4244-8ca9-0fef2e22f882",
   "metadata": {},
   "outputs": [
    {
     "data": {
      "image/png": "[encoded data removed]",
      "text/plain": [
       "<Figure size 432x288 with 1 Axes>"
      ]
     },
     "metadata": {},
     "output_type": "display_data"
    }
   ],
   "source": [
    "valores = [tagsPQFiltrados, tagsNoConsiderados]\n",
    "t = ['Filtrados', 'No Considerados']\n",
    "colores = [\"#60D394\",\"#AAF683\"]\n",
    "plt.pie(valores,labels= t, autopct=\"%0.1f %%\", colors= colores)\n",
    "plt.show()"
   ]
  },
  {
   "cell_type": "markdown",
   "id": "ed8de632-d9d1-4f07-a242-0a2b92163f86",
   "metadata": {},
   "source": [
    "El conjunto filtrado de Preguntas anterior (conAID) responde a un subconjunto de tags suficientemente representativo (descartando solo el 16,1% del total inicial), para el analisis de Cluster"
   ]
  },
  {
   "cell_type": "code",
   "execution_count": null,
   "id": "a98d2e91-05a7-4a27-94be-aa78f7fd25ed",
   "metadata": {},
   "outputs": [],
   "source": []
  }
 ],
 "metadata": {
  "kernelspec": {
   "display_name": "Python 3",
   "language": "python",
   "name": "python3"
  },
  "language_info": {
   "codemirror_mode": {
    "name": "ipython",
    "version": 3
   },
   "file_extension": ".py",
   "mimetype": "text/x-python",
   "name": "python",
   "nbconvert_exporter": "python",
   "pygments_lexer": "ipython3",
   "version": "3.9.4"
  }
 },
 "nbformat": 4,
 "nbformat_minor": 5
}
