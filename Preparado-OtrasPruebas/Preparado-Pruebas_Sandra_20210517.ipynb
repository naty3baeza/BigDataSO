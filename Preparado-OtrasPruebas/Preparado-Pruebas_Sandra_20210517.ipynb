{
 "cells": [
  {
   "cell_type": "code",
   "execution_count": 1,
   "id": "sublime-disco",
   "metadata": {},
   "outputs": [],
   "source": [
    "import xml.etree.ElementTree as ET #importa la libreria que parsea xmls y la referencia como ET\n",
    "import pandas as pd"
   ]
  },
  {
   "cell_type": "code",
   "execution_count": 2,
   "id": "thirty-philosophy",
   "metadata": {},
   "outputs": [],
   "source": [
    "TagName = []\n",
    "Count = []\n",
    "archivo_xml = ET.parse('Tags.xml') #parsea el archivo de Tags\n",
    "raiz = archivo_xml.getroot() #obtiene el elemento raiz\n",
    "for hijo in raiz: #itera sobre los hijos de raiz\n",
    "    TagName.append(hijo.attrib.get('TagName'))\n",
    "    Count.append(hijo.attrib.get('Count'))"
   ]
  },
  {
   "cell_type": "code",
   "execution_count": 3,
   "id": "ranking-cincinnati",
   "metadata": {},
   "outputs": [],
   "source": [
    "df = pd.DataFrame({'Nombre Tag':TagName, 'Cantidad':Count})"
   ]
  },
  {
   "cell_type": "code",
   "execution_count": 4,
   "id": "cooperative-auction",
   "metadata": {},
   "outputs": [
    {
     "name": "stdout",
     "output_type": "stream",
     "text": [
      "           Nombre Tag Cantidad\n",
      "0                .net     1069\n",
      "1     asp.net-web-api      215\n",
      "2              delphi      165\n",
      "3                 c++     3420\n",
      "4              string     1030\n",
      "...               ...      ...\n",
      "2685       routerlink        1\n",
      "2686          mysql-8        1\n",
      "2687         untagged        1\n",
      "2688         ngmodule        1\n",
      "2689            graph        1\n",
      "\n",
      "[2690 rows x 2 columns]\n"
     ]
    }
   ],
   "source": [
    "print(df)"
   ]
  },
  {
   "cell_type": "code",
   "execution_count": 5,
   "id": "funky-there",
   "metadata": {},
   "outputs": [
    {
     "name": "stdout",
     "output_type": "stream",
     "text": [
      "          Nombre Tag Cantidad\n",
      "count           2690     2690\n",
      "unique          2690      366\n",
      "top     reportviewer        1\n",
      "freq               1      252\n"
     ]
    }
   ],
   "source": [
    "print(df.describe()) #muestra por pantalla con un resumen estadístico de las columnas df. \n",
    "#Para los datos numéricos se calcula la media, la desviación típica, el mínimo, el máximo y los cuartiles de las columnas numéricas.\n",
    "#Para los datos no numéricos se calcula el número de valores, el número de valores distintos, la moda y su frecuencia. \n",
    "#Si no se indica el tipo solo se consideran las columnas numéricas."
   ]
  },
  {
   "cell_type": "code",
   "execution_count": 6,
   "id": "authorized-artwork",
   "metadata": {},
   "outputs": [
    {
     "name": "stdout",
     "output_type": "stream",
     "text": [
      "           Nombre Tag Cantidad\n",
      "0                .net     1069\n",
      "1     asp.net-web-api      215\n",
      "2              delphi      165\n",
      "3                 c++     3420\n",
      "4              string     1030\n",
      "...               ...      ...\n",
      "2649            label        3\n",
      "2650          drupal9        7\n",
      "2655          bitnami        2\n",
      "2660          fgetcsv        2\n",
      "2683        angular11        2\n",
      "\n",
      "[2438 rows x 2 columns]\n"
     ]
    }
   ],
   "source": [
    "print(df[(df['Cantidad'] != '1')]) #muestra por pantalla las filas que cumplen la condicion dada"
   ]
  },
  {
   "cell_type": "code",
   "execution_count": 7,
   "id": "capable-earth",
   "metadata": {},
   "outputs": [
    {
     "name": "stdout",
     "output_type": "stream",
     "text": [
      "   Nombre Tag Cantidad\n",
      "44     python    11286\n"
     ]
    }
   ],
   "source": [
    "print(df[(df['Cantidad'] != '1') & (df['Nombre Tag'] == 'python')]) #muestra por pantalla las filas que cumplen la condicion dada"
   ]
  },
  {
   "cell_type": "code",
   "execution_count": 8,
   "id": "included-addiction",
   "metadata": {},
   "outputs": [
    {
     "name": "stdout",
     "output_type": "stream",
     "text": [
      "   Nombre Tag Cantidad\n",
      "0        .net     1069\n",
      "41       java    17363\n",
      "44     python    11286\n"
     ]
    }
   ],
   "source": [
    "p = df[(df['Nombre Tag'] == '.net') | (df['Nombre Tag'] == 'java') | (df['Nombre Tag'] == 'python')]\n",
    "print(p)"
   ]
  },
  {
   "cell_type": "code",
   "execution_count": 15,
   "id": "aquatic-assist",
   "metadata": {},
   "outputs": [
    {
     "data": {
      "image/png": "[encoded data removed]",
      "text/plain": [
       "<Figure size 432x288 with 1 Axes>"
      ]
     },
     "metadata": {
      "needs_background": "light"
     },
     "output_type": "display_data"
    }
   ],
   "source": [
    "# Importar el módulo pyplot con el alias plt\n",
    "import matplotlib.pyplot as plt\n",
    "# Crear la figura y los ejes\n",
    "fig, ax = plt.subplots()\n",
    "# Dibujar barras\n",
    "ax.bar(p['Nombre Tag'], p['Cantidad'])\n",
    "# Guardar el gráfico en formato png\n",
    "plt.savefig('barras.png')\n",
    "# Mostrar el gráfico\n",
    "plt.show()"
   ]
  },
  {
   "cell_type": "code",
   "execution_count": 16,
   "id": "macro-hepatitis",
   "metadata": {},
   "outputs": [
    {
     "data": {
      "image/png": "[encoded data removed]",
      "text/plain": [
       "<Figure size 432x288 with 1 Axes>"
      ]
     },
     "metadata": {
      "needs_background": "light"
     },
     "output_type": "display_data"
    }
   ],
   "source": [
    "fig, ax = plt.subplots()\n",
    "ax.plot(p['Nombre Tag'], p['Cantidad'], marker = 'o')\n",
    "plt.show()"
   ]
  },
  {
   "cell_type": "code",
   "execution_count": 17,
   "id": "intermediate-portland",
   "metadata": {},
   "outputs": [
    {
     "data": {
      "image/png": "[encoded data removed]",
      "text/plain": [
       "<Figure size 432x288 with 1 Axes>"
      ]
     },
     "metadata": {
      "needs_background": "light"
     },
     "output_type": "display_data"
    }
   ],
   "source": [
    "fig, ax = plt.subplots()\n",
    "ax.scatter(p['Nombre Tag'], p['Cantidad'])\n",
    "plt.show()"
   ]
  },
  {
   "cell_type": "code",
   "execution_count": 18,
   "id": "fabulous-cornwall",
   "metadata": {},
   "outputs": [
    {
     "data": {
      "image/png": "[encoded data removed]",
      "text/plain": [
       "<Figure size 432x288 with 1 Axes>"
      ]
     },
     "metadata": {},
     "output_type": "display_data"
    }
   ],
   "source": [
    "fig, ax = plt.subplots()\n",
    "ax.pie(p['Cantidad'])\n",
    "plt.savefig('torta.png')\n",
    "plt.show()"
   ]
  },
  {
   "cell_type": "code",
   "execution_count": 19,
   "id": "stupid-paraguay",
   "metadata": {},
   "outputs": [],
   "source": [
    "df.to_csv('prueba_general.csv')"
   ]
  },
  {
   "cell_type": "code",
   "execution_count": 20,
   "id": "funded-furniture",
   "metadata": {},
   "outputs": [],
   "source": [
    "p.to_csv('resumen.csv')"
   ]
  },
  {
   "cell_type": "code",
   "execution_count": null,
   "id": "equivalent-agent",
   "metadata": {},
   "outputs": [],
   "source": []
  }
 ],
 "metadata": {
  "kernelspec": {
   "display_name": "Python 3",
   "language": "python",
   "name": "python3"
  },
  "language_info": {
   "codemirror_mode": {
    "name": "ipython",
    "version": 3
   },
   "file_extension": ".py",
   "mimetype": "text/x-python",
   "name": "python",
   "nbconvert_exporter": "python",
   "pygments_lexer": "ipython3",
   "version": "3.7.8"
  }
 },
 "nbformat": 4,
 "nbformat_minor": 5
}
